{
  "nbformat": 4,
  "nbformat_minor": 0,
  "metadata": {
    "colab": {
      "name": "Modelling.ipynb",
      "provenance": [],
      "toc_visible": true
    },
    "kernelspec": {
      "name": "python3",
      "display_name": "Python 3"
    },
    "language_info": {
      "name": "python"
    }
  },
  "cells": [
    {
      "cell_type": "markdown",
      "metadata": {
        "id": "aLlw8EEnm5Nt"
      },
      "source": [
        "#About"
      ]
    },
    {
      "cell_type": "markdown",
      "metadata": {
        "id": "nDzF_QArm5N2"
      },
      "source": [
        "This analysis focuses on the behavior of telecom customers who are more likely to leave the platform. We intend to find out the most striking behavior of customers through Exploratory Data Analysis (EDA) and later on use some of the predictive analytics techniques to determine the customers who are most likely to churn."
      ]
    },
    {
      "cell_type": "markdown",
      "metadata": {
        "id": "PRob-NQ-m5N3"
      },
      "source": [
        "#Identify"
      ]
    },
    {
      "cell_type": "markdown",
      "metadata": {
        "id": "swq3We1Mm5N3"
      },
      "source": [
        "1. CustomerID: A unique ID that identifies each customer.\n",
        "2. Gender: The customer’s gender: Male, Female\n",
        "3. Senior Citizen: Indicates if the customer is 65 or older: Yes, No\n",
        "4. Married (Partner): Indicates if the customer is married: Yes, No\n",
        "5. Dependents: Indicates if the customer lives with any dependents: Yes, No. Dependents could be children, parents, grandparents, etc.\n",
        "6. Tenure: Indicates the total amount of months that the customer has been with the company.\n",
        "7. Phone Service: Indicates if the customer subscribes to home phone service with the company: Yes, No\n",
        "8. Multiple Lines: Indicates if the customer subscribes to multiple telephone lines with the company: Yes, No\n",
        "9. Internet Service: Indicates if the customer subscribes to Internet service with the company: No, DSL, Fiber Optic, Cable.\n",
        "10. Online Security: Indicates if the customer subscribes to an additional online security service provided by the company: Yes, No\n",
        "11. Online Backup: Indicates if the customer subscribes to an additional online backup service provided by the company: Yes, No\n",
        "12. Device Protection Plan: Indicates if the customer subscribes to an additional device protection plan for their Internet equipment provided by the company: Yes, No\n",
        "13. Premium Tech Support: Indicates if the customer subscribes to an additional technical support plan from the company with reduced wait times: Yes, No\n",
        "14. Streaming TV: Indicates if the customer uses their Internet service to stream television programing from a third party provider: Yes, No. The company does not charge an additional fee for this service.\n",
        "15. Streaming Movies: Indicates if the customer uses their Internet service to stream movies from a third party provider: Yes, No. The company does not charge an additional fee for this service.\n",
        "16. Contract: Indicates the customer’s current contract type: Month-to-Month, One Year, Two Year.\n",
        "17. Paperless Billing: Indicates if the customer has chosen paperless billing: Yes, No\n",
        "18. Payment Method: Indicates how the customer pays their bill: Bank Withdrawal, Credit Card, Mailed Check\n",
        "19. Monthly Charge: Indicates the customer’s current total monthly charge for all their services from the company.\n",
        "20. Total Charges: Indicates the customer’s total charges, calculated to the end of the quarter specified above.\n",
        "21. Churn: Yes = the customer left the company this quarter. No = the customer remained with the company. Directly related to Churn Value.\n"
      ]
    },
    {
      "cell_type": "markdown",
      "metadata": {
        "id": "zuTizSjSIgub"
      },
      "source": [
        "#Load Dataset"
      ]
    },
    {
      "cell_type": "code",
      "metadata": {
        "colab": {
          "base_uri": "https://localhost:8080/",
          "height": 307
        },
        "id": "vLFtbKj9hb4T",
        "outputId": "1394a080-9aed-4b44-97ad-0388dd01fc88"
      },
      "source": [
        "#Import library\n",
        "import pandas as pd\n",
        "import numpy as np\n",
        "\n",
        "df = pd.read_csv(\"/content/WA_Fn-UseC_-Telco-Customer-Churn.csv\")\n",
        "df.head()"
      ],
      "execution_count": 1,
      "outputs": [
        {
          "output_type": "execute_result",
          "data": {
            "text/html": [
              "<div>\n",
              "<style scoped>\n",
              "    .dataframe tbody tr th:only-of-type {\n",
              "        vertical-align: middle;\n",
              "    }\n",
              "\n",
              "    .dataframe tbody tr th {\n",
              "        vertical-align: top;\n",
              "    }\n",
              "\n",
              "    .dataframe thead th {\n",
              "        text-align: right;\n",
              "    }\n",
              "</style>\n",
              "<table border=\"1\" class=\"dataframe\">\n",
              "  <thead>\n",
              "    <tr style=\"text-align: right;\">\n",
              "      <th></th>\n",
              "      <th>customerID</th>\n",
              "      <th>gender</th>\n",
              "      <th>SeniorCitizen</th>\n",
              "      <th>Partner</th>\n",
              "      <th>Dependents</th>\n",
              "      <th>tenure</th>\n",
              "      <th>PhoneService</th>\n",
              "      <th>MultipleLines</th>\n",
              "      <th>InternetService</th>\n",
              "      <th>OnlineSecurity</th>\n",
              "      <th>OnlineBackup</th>\n",
              "      <th>DeviceProtection</th>\n",
              "      <th>TechSupport</th>\n",
              "      <th>StreamingTV</th>\n",
              "      <th>StreamingMovies</th>\n",
              "      <th>Contract</th>\n",
              "      <th>PaperlessBilling</th>\n",
              "      <th>PaymentMethod</th>\n",
              "      <th>MonthlyCharges</th>\n",
              "      <th>TotalCharges</th>\n",
              "      <th>Churn</th>\n",
              "    </tr>\n",
              "  </thead>\n",
              "  <tbody>\n",
              "    <tr>\n",
              "      <th>0</th>\n",
              "      <td>7590-VHVEG</td>\n",
              "      <td>Female</td>\n",
              "      <td>0</td>\n",
              "      <td>Yes</td>\n",
              "      <td>No</td>\n",
              "      <td>1</td>\n",
              "      <td>No</td>\n",
              "      <td>No phone service</td>\n",
              "      <td>DSL</td>\n",
              "      <td>No</td>\n",
              "      <td>Yes</td>\n",
              "      <td>No</td>\n",
              "      <td>No</td>\n",
              "      <td>No</td>\n",
              "      <td>No</td>\n",
              "      <td>Month-to-month</td>\n",
              "      <td>Yes</td>\n",
              "      <td>Electronic check</td>\n",
              "      <td>29.85</td>\n",
              "      <td>29.85</td>\n",
              "      <td>No</td>\n",
              "    </tr>\n",
              "    <tr>\n",
              "      <th>1</th>\n",
              "      <td>5575-GNVDE</td>\n",
              "      <td>Male</td>\n",
              "      <td>0</td>\n",
              "      <td>No</td>\n",
              "      <td>No</td>\n",
              "      <td>34</td>\n",
              "      <td>Yes</td>\n",
              "      <td>No</td>\n",
              "      <td>DSL</td>\n",
              "      <td>Yes</td>\n",
              "      <td>No</td>\n",
              "      <td>Yes</td>\n",
              "      <td>No</td>\n",
              "      <td>No</td>\n",
              "      <td>No</td>\n",
              "      <td>One year</td>\n",
              "      <td>No</td>\n",
              "      <td>Mailed check</td>\n",
              "      <td>56.95</td>\n",
              "      <td>1889.5</td>\n",
              "      <td>No</td>\n",
              "    </tr>\n",
              "    <tr>\n",
              "      <th>2</th>\n",
              "      <td>3668-QPYBK</td>\n",
              "      <td>Male</td>\n",
              "      <td>0</td>\n",
              "      <td>No</td>\n",
              "      <td>No</td>\n",
              "      <td>2</td>\n",
              "      <td>Yes</td>\n",
              "      <td>No</td>\n",
              "      <td>DSL</td>\n",
              "      <td>Yes</td>\n",
              "      <td>Yes</td>\n",
              "      <td>No</td>\n",
              "      <td>No</td>\n",
              "      <td>No</td>\n",
              "      <td>No</td>\n",
              "      <td>Month-to-month</td>\n",
              "      <td>Yes</td>\n",
              "      <td>Mailed check</td>\n",
              "      <td>53.85</td>\n",
              "      <td>108.15</td>\n",
              "      <td>Yes</td>\n",
              "    </tr>\n",
              "    <tr>\n",
              "      <th>3</th>\n",
              "      <td>7795-CFOCW</td>\n",
              "      <td>Male</td>\n",
              "      <td>0</td>\n",
              "      <td>No</td>\n",
              "      <td>No</td>\n",
              "      <td>45</td>\n",
              "      <td>No</td>\n",
              "      <td>No phone service</td>\n",
              "      <td>DSL</td>\n",
              "      <td>Yes</td>\n",
              "      <td>No</td>\n",
              "      <td>Yes</td>\n",
              "      <td>Yes</td>\n",
              "      <td>No</td>\n",
              "      <td>No</td>\n",
              "      <td>One year</td>\n",
              "      <td>No</td>\n",
              "      <td>Bank transfer (automatic)</td>\n",
              "      <td>42.30</td>\n",
              "      <td>1840.75</td>\n",
              "      <td>No</td>\n",
              "    </tr>\n",
              "    <tr>\n",
              "      <th>4</th>\n",
              "      <td>9237-HQITU</td>\n",
              "      <td>Female</td>\n",
              "      <td>0</td>\n",
              "      <td>No</td>\n",
              "      <td>No</td>\n",
              "      <td>2</td>\n",
              "      <td>Yes</td>\n",
              "      <td>No</td>\n",
              "      <td>Fiber optic</td>\n",
              "      <td>No</td>\n",
              "      <td>No</td>\n",
              "      <td>No</td>\n",
              "      <td>No</td>\n",
              "      <td>No</td>\n",
              "      <td>No</td>\n",
              "      <td>Month-to-month</td>\n",
              "      <td>Yes</td>\n",
              "      <td>Electronic check</td>\n",
              "      <td>70.70</td>\n",
              "      <td>151.65</td>\n",
              "      <td>Yes</td>\n",
              "    </tr>\n",
              "  </tbody>\n",
              "</table>\n",
              "</div>"
            ],
            "text/plain": [
              "   customerID  gender  SeniorCitizen  ... MonthlyCharges TotalCharges  Churn\n",
              "0  7590-VHVEG  Female              0  ...          29.85        29.85     No\n",
              "1  5575-GNVDE    Male              0  ...          56.95       1889.5     No\n",
              "2  3668-QPYBK    Male              0  ...          53.85       108.15    Yes\n",
              "3  7795-CFOCW    Male              0  ...          42.30      1840.75     No\n",
              "4  9237-HQITU  Female              0  ...          70.70       151.65    Yes\n",
              "\n",
              "[5 rows x 21 columns]"
            ]
          },
          "metadata": {},
          "execution_count": 1
        }
      ]
    },
    {
      "cell_type": "code",
      "metadata": {
        "colab": {
          "base_uri": "https://localhost:8080/"
        },
        "id": "pzd_bHAThxYE",
        "outputId": "f0a58ffd-8457-40c9-8ee5-b44663ea1c1f"
      },
      "source": [
        "df.info()"
      ],
      "execution_count": 2,
      "outputs": [
        {
          "output_type": "stream",
          "name": "stdout",
          "text": [
            "<class 'pandas.core.frame.DataFrame'>\n",
            "RangeIndex: 7043 entries, 0 to 7042\n",
            "Data columns (total 21 columns):\n",
            " #   Column            Non-Null Count  Dtype  \n",
            "---  ------            --------------  -----  \n",
            " 0   customerID        7043 non-null   object \n",
            " 1   gender            7043 non-null   object \n",
            " 2   SeniorCitizen     7043 non-null   int64  \n",
            " 3   Partner           7043 non-null   object \n",
            " 4   Dependents        7043 non-null   object \n",
            " 5   tenure            7043 non-null   int64  \n",
            " 6   PhoneService      7043 non-null   object \n",
            " 7   MultipleLines     7043 non-null   object \n",
            " 8   InternetService   7043 non-null   object \n",
            " 9   OnlineSecurity    7043 non-null   object \n",
            " 10  OnlineBackup      7043 non-null   object \n",
            " 11  DeviceProtection  7043 non-null   object \n",
            " 12  TechSupport       7043 non-null   object \n",
            " 13  StreamingTV       7043 non-null   object \n",
            " 14  StreamingMovies   7043 non-null   object \n",
            " 15  Contract          7043 non-null   object \n",
            " 16  PaperlessBilling  7043 non-null   object \n",
            " 17  PaymentMethod     7043 non-null   object \n",
            " 18  MonthlyCharges    7043 non-null   float64\n",
            " 19  TotalCharges      7043 non-null   object \n",
            " 20  Churn             7043 non-null   object \n",
            "dtypes: float64(1), int64(2), object(18)\n",
            "memory usage: 1.1+ MB\n"
          ]
        }
      ]
    },
    {
      "cell_type": "code",
      "metadata": {
        "id": "8kTh_ZfZh3Ft"
      },
      "source": [
        "df = df.drop('customerID',axis=1).copy()"
      ],
      "execution_count": 3,
      "outputs": []
    },
    {
      "cell_type": "code",
      "metadata": {
        "colab": {
          "base_uri": "https://localhost:8080/"
        },
        "id": "DD5S1EgVh9ph",
        "outputId": "47ca285d-ba3a-417c-c5d4-2e207c0a7e37"
      },
      "source": [
        "df.dtypes"
      ],
      "execution_count": 4,
      "outputs": [
        {
          "output_type": "execute_result",
          "data": {
            "text/plain": [
              "gender               object\n",
              "SeniorCitizen         int64\n",
              "Partner              object\n",
              "Dependents           object\n",
              "tenure                int64\n",
              "PhoneService         object\n",
              "MultipleLines        object\n",
              "InternetService      object\n",
              "OnlineSecurity       object\n",
              "OnlineBackup         object\n",
              "DeviceProtection     object\n",
              "TechSupport          object\n",
              "StreamingTV          object\n",
              "StreamingMovies      object\n",
              "Contract             object\n",
              "PaperlessBilling     object\n",
              "PaymentMethod        object\n",
              "MonthlyCharges      float64\n",
              "TotalCharges         object\n",
              "Churn                object\n",
              "dtype: object"
            ]
          },
          "metadata": {},
          "execution_count": 4
        }
      ]
    },
    {
      "cell_type": "code",
      "metadata": {
        "id": "qEjgXJw2h_EU"
      },
      "source": [
        "df.TotalCharges = pd.to_numeric(df.TotalCharges, errors='coerce')"
      ],
      "execution_count": 5,
      "outputs": []
    },
    {
      "cell_type": "code",
      "metadata": {
        "colab": {
          "base_uri": "https://localhost:8080/"
        },
        "id": "3cGsxtOniSqG",
        "outputId": "3f9aa81f-b7ff-43a8-e64f-93841f613634"
      },
      "source": [
        "df.isnull().sum()\n"
      ],
      "execution_count": 6,
      "outputs": [
        {
          "output_type": "execute_result",
          "data": {
            "text/plain": [
              "gender               0\n",
              "SeniorCitizen        0\n",
              "Partner              0\n",
              "Dependents           0\n",
              "tenure               0\n",
              "PhoneService         0\n",
              "MultipleLines        0\n",
              "InternetService      0\n",
              "OnlineSecurity       0\n",
              "OnlineBackup         0\n",
              "DeviceProtection     0\n",
              "TechSupport          0\n",
              "StreamingTV          0\n",
              "StreamingMovies      0\n",
              "Contract             0\n",
              "PaperlessBilling     0\n",
              "PaymentMethod        0\n",
              "MonthlyCharges       0\n",
              "TotalCharges        11\n",
              "Churn                0\n",
              "dtype: int64"
            ]
          },
          "metadata": {},
          "execution_count": 6
        }
      ]
    },
    {
      "cell_type": "code",
      "metadata": {
        "id": "6M8bSE0hiplT"
      },
      "source": [
        "df.dropna(inplace = True)"
      ],
      "execution_count": 7,
      "outputs": []
    },
    {
      "cell_type": "code",
      "metadata": {
        "colab": {
          "base_uri": "https://localhost:8080/"
        },
        "id": "vdFRLyS9i5jH",
        "outputId": "d0536fd4-f0e0-4aec-f7d1-10e7a0a5be3b"
      },
      "source": [
        "df.isnull().sum()"
      ],
      "execution_count": 8,
      "outputs": [
        {
          "output_type": "execute_result",
          "data": {
            "text/plain": [
              "gender              0\n",
              "SeniorCitizen       0\n",
              "Partner             0\n",
              "Dependents          0\n",
              "tenure              0\n",
              "PhoneService        0\n",
              "MultipleLines       0\n",
              "InternetService     0\n",
              "OnlineSecurity      0\n",
              "OnlineBackup        0\n",
              "DeviceProtection    0\n",
              "TechSupport         0\n",
              "StreamingTV         0\n",
              "StreamingMovies     0\n",
              "Contract            0\n",
              "PaperlessBilling    0\n",
              "PaymentMethod       0\n",
              "MonthlyCharges      0\n",
              "TotalCharges        0\n",
              "Churn               0\n",
              "dtype: int64"
            ]
          },
          "metadata": {},
          "execution_count": 8
        }
      ]
    },
    {
      "cell_type": "code",
      "metadata": {
        "colab": {
          "base_uri": "https://localhost:8080/",
          "height": 571
        },
        "id": "aqWzZS1Yi-Y6",
        "outputId": "ba198824-d07d-4e62-cab8-2b9ac39fea3d"
      },
      "source": [
        "df2 = df.iloc[:,1:]\n",
        "df2"
      ],
      "execution_count": 9,
      "outputs": [
        {
          "output_type": "execute_result",
          "data": {
            "text/html": [
              "<div>\n",
              "<style scoped>\n",
              "    .dataframe tbody tr th:only-of-type {\n",
              "        vertical-align: middle;\n",
              "    }\n",
              "\n",
              "    .dataframe tbody tr th {\n",
              "        vertical-align: top;\n",
              "    }\n",
              "\n",
              "    .dataframe thead th {\n",
              "        text-align: right;\n",
              "    }\n",
              "</style>\n",
              "<table border=\"1\" class=\"dataframe\">\n",
              "  <thead>\n",
              "    <tr style=\"text-align: right;\">\n",
              "      <th></th>\n",
              "      <th>SeniorCitizen</th>\n",
              "      <th>Partner</th>\n",
              "      <th>Dependents</th>\n",
              "      <th>tenure</th>\n",
              "      <th>PhoneService</th>\n",
              "      <th>MultipleLines</th>\n",
              "      <th>InternetService</th>\n",
              "      <th>OnlineSecurity</th>\n",
              "      <th>OnlineBackup</th>\n",
              "      <th>DeviceProtection</th>\n",
              "      <th>TechSupport</th>\n",
              "      <th>StreamingTV</th>\n",
              "      <th>StreamingMovies</th>\n",
              "      <th>Contract</th>\n",
              "      <th>PaperlessBilling</th>\n",
              "      <th>PaymentMethod</th>\n",
              "      <th>MonthlyCharges</th>\n",
              "      <th>TotalCharges</th>\n",
              "      <th>Churn</th>\n",
              "    </tr>\n",
              "  </thead>\n",
              "  <tbody>\n",
              "    <tr>\n",
              "      <th>0</th>\n",
              "      <td>0</td>\n",
              "      <td>Yes</td>\n",
              "      <td>No</td>\n",
              "      <td>1</td>\n",
              "      <td>No</td>\n",
              "      <td>No phone service</td>\n",
              "      <td>DSL</td>\n",
              "      <td>No</td>\n",
              "      <td>Yes</td>\n",
              "      <td>No</td>\n",
              "      <td>No</td>\n",
              "      <td>No</td>\n",
              "      <td>No</td>\n",
              "      <td>Month-to-month</td>\n",
              "      <td>Yes</td>\n",
              "      <td>Electronic check</td>\n",
              "      <td>29.85</td>\n",
              "      <td>29.85</td>\n",
              "      <td>No</td>\n",
              "    </tr>\n",
              "    <tr>\n",
              "      <th>1</th>\n",
              "      <td>0</td>\n",
              "      <td>No</td>\n",
              "      <td>No</td>\n",
              "      <td>34</td>\n",
              "      <td>Yes</td>\n",
              "      <td>No</td>\n",
              "      <td>DSL</td>\n",
              "      <td>Yes</td>\n",
              "      <td>No</td>\n",
              "      <td>Yes</td>\n",
              "      <td>No</td>\n",
              "      <td>No</td>\n",
              "      <td>No</td>\n",
              "      <td>One year</td>\n",
              "      <td>No</td>\n",
              "      <td>Mailed check</td>\n",
              "      <td>56.95</td>\n",
              "      <td>1889.50</td>\n",
              "      <td>No</td>\n",
              "    </tr>\n",
              "    <tr>\n",
              "      <th>2</th>\n",
              "      <td>0</td>\n",
              "      <td>No</td>\n",
              "      <td>No</td>\n",
              "      <td>2</td>\n",
              "      <td>Yes</td>\n",
              "      <td>No</td>\n",
              "      <td>DSL</td>\n",
              "      <td>Yes</td>\n",
              "      <td>Yes</td>\n",
              "      <td>No</td>\n",
              "      <td>No</td>\n",
              "      <td>No</td>\n",
              "      <td>No</td>\n",
              "      <td>Month-to-month</td>\n",
              "      <td>Yes</td>\n",
              "      <td>Mailed check</td>\n",
              "      <td>53.85</td>\n",
              "      <td>108.15</td>\n",
              "      <td>Yes</td>\n",
              "    </tr>\n",
              "    <tr>\n",
              "      <th>3</th>\n",
              "      <td>0</td>\n",
              "      <td>No</td>\n",
              "      <td>No</td>\n",
              "      <td>45</td>\n",
              "      <td>No</td>\n",
              "      <td>No phone service</td>\n",
              "      <td>DSL</td>\n",
              "      <td>Yes</td>\n",
              "      <td>No</td>\n",
              "      <td>Yes</td>\n",
              "      <td>Yes</td>\n",
              "      <td>No</td>\n",
              "      <td>No</td>\n",
              "      <td>One year</td>\n",
              "      <td>No</td>\n",
              "      <td>Bank transfer (automatic)</td>\n",
              "      <td>42.30</td>\n",
              "      <td>1840.75</td>\n",
              "      <td>No</td>\n",
              "    </tr>\n",
              "    <tr>\n",
              "      <th>4</th>\n",
              "      <td>0</td>\n",
              "      <td>No</td>\n",
              "      <td>No</td>\n",
              "      <td>2</td>\n",
              "      <td>Yes</td>\n",
              "      <td>No</td>\n",
              "      <td>Fiber optic</td>\n",
              "      <td>No</td>\n",
              "      <td>No</td>\n",
              "      <td>No</td>\n",
              "      <td>No</td>\n",
              "      <td>No</td>\n",
              "      <td>No</td>\n",
              "      <td>Month-to-month</td>\n",
              "      <td>Yes</td>\n",
              "      <td>Electronic check</td>\n",
              "      <td>70.70</td>\n",
              "      <td>151.65</td>\n",
              "      <td>Yes</td>\n",
              "    </tr>\n",
              "    <tr>\n",
              "      <th>...</th>\n",
              "      <td>...</td>\n",
              "      <td>...</td>\n",
              "      <td>...</td>\n",
              "      <td>...</td>\n",
              "      <td>...</td>\n",
              "      <td>...</td>\n",
              "      <td>...</td>\n",
              "      <td>...</td>\n",
              "      <td>...</td>\n",
              "      <td>...</td>\n",
              "      <td>...</td>\n",
              "      <td>...</td>\n",
              "      <td>...</td>\n",
              "      <td>...</td>\n",
              "      <td>...</td>\n",
              "      <td>...</td>\n",
              "      <td>...</td>\n",
              "      <td>...</td>\n",
              "      <td>...</td>\n",
              "    </tr>\n",
              "    <tr>\n",
              "      <th>7038</th>\n",
              "      <td>0</td>\n",
              "      <td>Yes</td>\n",
              "      <td>Yes</td>\n",
              "      <td>24</td>\n",
              "      <td>Yes</td>\n",
              "      <td>Yes</td>\n",
              "      <td>DSL</td>\n",
              "      <td>Yes</td>\n",
              "      <td>No</td>\n",
              "      <td>Yes</td>\n",
              "      <td>Yes</td>\n",
              "      <td>Yes</td>\n",
              "      <td>Yes</td>\n",
              "      <td>One year</td>\n",
              "      <td>Yes</td>\n",
              "      <td>Mailed check</td>\n",
              "      <td>84.80</td>\n",
              "      <td>1990.50</td>\n",
              "      <td>No</td>\n",
              "    </tr>\n",
              "    <tr>\n",
              "      <th>7039</th>\n",
              "      <td>0</td>\n",
              "      <td>Yes</td>\n",
              "      <td>Yes</td>\n",
              "      <td>72</td>\n",
              "      <td>Yes</td>\n",
              "      <td>Yes</td>\n",
              "      <td>Fiber optic</td>\n",
              "      <td>No</td>\n",
              "      <td>Yes</td>\n",
              "      <td>Yes</td>\n",
              "      <td>No</td>\n",
              "      <td>Yes</td>\n",
              "      <td>Yes</td>\n",
              "      <td>One year</td>\n",
              "      <td>Yes</td>\n",
              "      <td>Credit card (automatic)</td>\n",
              "      <td>103.20</td>\n",
              "      <td>7362.90</td>\n",
              "      <td>No</td>\n",
              "    </tr>\n",
              "    <tr>\n",
              "      <th>7040</th>\n",
              "      <td>0</td>\n",
              "      <td>Yes</td>\n",
              "      <td>Yes</td>\n",
              "      <td>11</td>\n",
              "      <td>No</td>\n",
              "      <td>No phone service</td>\n",
              "      <td>DSL</td>\n",
              "      <td>Yes</td>\n",
              "      <td>No</td>\n",
              "      <td>No</td>\n",
              "      <td>No</td>\n",
              "      <td>No</td>\n",
              "      <td>No</td>\n",
              "      <td>Month-to-month</td>\n",
              "      <td>Yes</td>\n",
              "      <td>Electronic check</td>\n",
              "      <td>29.60</td>\n",
              "      <td>346.45</td>\n",
              "      <td>No</td>\n",
              "    </tr>\n",
              "    <tr>\n",
              "      <th>7041</th>\n",
              "      <td>1</td>\n",
              "      <td>Yes</td>\n",
              "      <td>No</td>\n",
              "      <td>4</td>\n",
              "      <td>Yes</td>\n",
              "      <td>Yes</td>\n",
              "      <td>Fiber optic</td>\n",
              "      <td>No</td>\n",
              "      <td>No</td>\n",
              "      <td>No</td>\n",
              "      <td>No</td>\n",
              "      <td>No</td>\n",
              "      <td>No</td>\n",
              "      <td>Month-to-month</td>\n",
              "      <td>Yes</td>\n",
              "      <td>Mailed check</td>\n",
              "      <td>74.40</td>\n",
              "      <td>306.60</td>\n",
              "      <td>Yes</td>\n",
              "    </tr>\n",
              "    <tr>\n",
              "      <th>7042</th>\n",
              "      <td>0</td>\n",
              "      <td>No</td>\n",
              "      <td>No</td>\n",
              "      <td>66</td>\n",
              "      <td>Yes</td>\n",
              "      <td>No</td>\n",
              "      <td>Fiber optic</td>\n",
              "      <td>Yes</td>\n",
              "      <td>No</td>\n",
              "      <td>Yes</td>\n",
              "      <td>Yes</td>\n",
              "      <td>Yes</td>\n",
              "      <td>Yes</td>\n",
              "      <td>Two year</td>\n",
              "      <td>Yes</td>\n",
              "      <td>Bank transfer (automatic)</td>\n",
              "      <td>105.65</td>\n",
              "      <td>6844.50</td>\n",
              "      <td>No</td>\n",
              "    </tr>\n",
              "  </tbody>\n",
              "</table>\n",
              "<p>7032 rows × 19 columns</p>\n",
              "</div>"
            ],
            "text/plain": [
              "      SeniorCitizen Partner Dependents  ...  MonthlyCharges TotalCharges Churn\n",
              "0                 0     Yes         No  ...           29.85        29.85    No\n",
              "1                 0      No         No  ...           56.95      1889.50    No\n",
              "2                 0      No         No  ...           53.85       108.15   Yes\n",
              "3                 0      No         No  ...           42.30      1840.75    No\n",
              "4                 0      No         No  ...           70.70       151.65   Yes\n",
              "...             ...     ...        ...  ...             ...          ...   ...\n",
              "7038              0     Yes        Yes  ...           84.80      1990.50    No\n",
              "7039              0     Yes        Yes  ...          103.20      7362.90    No\n",
              "7040              0     Yes        Yes  ...           29.60       346.45    No\n",
              "7041              1     Yes         No  ...           74.40       306.60   Yes\n",
              "7042              0      No         No  ...          105.65      6844.50    No\n",
              "\n",
              "[7032 rows x 19 columns]"
            ]
          },
          "metadata": {},
          "execution_count": 9
        }
      ]
    },
    {
      "cell_type": "code",
      "metadata": {
        "colab": {
          "base_uri": "https://localhost:8080/",
          "height": 257
        },
        "id": "3Y0PScdFjQ7o",
        "outputId": "aa0d2d0a-271c-4dba-ba57-954d968fb681"
      },
      "source": [
        "df2['Churn'].replace(to_replace='Yes', value=1, inplace=True)\n",
        "df2['Churn'].replace(to_replace='No',  value=0, inplace=True)\n",
        "df_dummies = pd.get_dummies(df2)\n",
        "df_dummies.head()"
      ],
      "execution_count": 10,
      "outputs": [
        {
          "output_type": "execute_result",
          "data": {
            "text/html": [
              "<div>\n",
              "<style scoped>\n",
              "    .dataframe tbody tr th:only-of-type {\n",
              "        vertical-align: middle;\n",
              "    }\n",
              "\n",
              "    .dataframe tbody tr th {\n",
              "        vertical-align: top;\n",
              "    }\n",
              "\n",
              "    .dataframe thead th {\n",
              "        text-align: right;\n",
              "    }\n",
              "</style>\n",
              "<table border=\"1\" class=\"dataframe\">\n",
              "  <thead>\n",
              "    <tr style=\"text-align: right;\">\n",
              "      <th></th>\n",
              "      <th>SeniorCitizen</th>\n",
              "      <th>tenure</th>\n",
              "      <th>MonthlyCharges</th>\n",
              "      <th>TotalCharges</th>\n",
              "      <th>Churn</th>\n",
              "      <th>Partner_No</th>\n",
              "      <th>Partner_Yes</th>\n",
              "      <th>Dependents_No</th>\n",
              "      <th>Dependents_Yes</th>\n",
              "      <th>PhoneService_No</th>\n",
              "      <th>PhoneService_Yes</th>\n",
              "      <th>MultipleLines_No</th>\n",
              "      <th>MultipleLines_No phone service</th>\n",
              "      <th>MultipleLines_Yes</th>\n",
              "      <th>InternetService_DSL</th>\n",
              "      <th>InternetService_Fiber optic</th>\n",
              "      <th>InternetService_No</th>\n",
              "      <th>OnlineSecurity_No</th>\n",
              "      <th>OnlineSecurity_No internet service</th>\n",
              "      <th>OnlineSecurity_Yes</th>\n",
              "      <th>OnlineBackup_No</th>\n",
              "      <th>OnlineBackup_No internet service</th>\n",
              "      <th>OnlineBackup_Yes</th>\n",
              "      <th>DeviceProtection_No</th>\n",
              "      <th>DeviceProtection_No internet service</th>\n",
              "      <th>DeviceProtection_Yes</th>\n",
              "      <th>TechSupport_No</th>\n",
              "      <th>TechSupport_No internet service</th>\n",
              "      <th>TechSupport_Yes</th>\n",
              "      <th>StreamingTV_No</th>\n",
              "      <th>StreamingTV_No internet service</th>\n",
              "      <th>StreamingTV_Yes</th>\n",
              "      <th>StreamingMovies_No</th>\n",
              "      <th>StreamingMovies_No internet service</th>\n",
              "      <th>StreamingMovies_Yes</th>\n",
              "      <th>Contract_Month-to-month</th>\n",
              "      <th>Contract_One year</th>\n",
              "      <th>Contract_Two year</th>\n",
              "      <th>PaperlessBilling_No</th>\n",
              "      <th>PaperlessBilling_Yes</th>\n",
              "      <th>PaymentMethod_Bank transfer (automatic)</th>\n",
              "      <th>PaymentMethod_Credit card (automatic)</th>\n",
              "      <th>PaymentMethod_Electronic check</th>\n",
              "      <th>PaymentMethod_Mailed check</th>\n",
              "    </tr>\n",
              "  </thead>\n",
              "  <tbody>\n",
              "    <tr>\n",
              "      <th>0</th>\n",
              "      <td>0</td>\n",
              "      <td>1</td>\n",
              "      <td>29.85</td>\n",
              "      <td>29.85</td>\n",
              "      <td>0</td>\n",
              "      <td>0</td>\n",
              "      <td>1</td>\n",
              "      <td>1</td>\n",
              "      <td>0</td>\n",
              "      <td>1</td>\n",
              "      <td>0</td>\n",
              "      <td>0</td>\n",
              "      <td>1</td>\n",
              "      <td>0</td>\n",
              "      <td>1</td>\n",
              "      <td>0</td>\n",
              "      <td>0</td>\n",
              "      <td>1</td>\n",
              "      <td>0</td>\n",
              "      <td>0</td>\n",
              "      <td>0</td>\n",
              "      <td>0</td>\n",
              "      <td>1</td>\n",
              "      <td>1</td>\n",
              "      <td>0</td>\n",
              "      <td>0</td>\n",
              "      <td>1</td>\n",
              "      <td>0</td>\n",
              "      <td>0</td>\n",
              "      <td>1</td>\n",
              "      <td>0</td>\n",
              "      <td>0</td>\n",
              "      <td>1</td>\n",
              "      <td>0</td>\n",
              "      <td>0</td>\n",
              "      <td>1</td>\n",
              "      <td>0</td>\n",
              "      <td>0</td>\n",
              "      <td>0</td>\n",
              "      <td>1</td>\n",
              "      <td>0</td>\n",
              "      <td>0</td>\n",
              "      <td>1</td>\n",
              "      <td>0</td>\n",
              "    </tr>\n",
              "    <tr>\n",
              "      <th>1</th>\n",
              "      <td>0</td>\n",
              "      <td>34</td>\n",
              "      <td>56.95</td>\n",
              "      <td>1889.50</td>\n",
              "      <td>0</td>\n",
              "      <td>1</td>\n",
              "      <td>0</td>\n",
              "      <td>1</td>\n",
              "      <td>0</td>\n",
              "      <td>0</td>\n",
              "      <td>1</td>\n",
              "      <td>1</td>\n",
              "      <td>0</td>\n",
              "      <td>0</td>\n",
              "      <td>1</td>\n",
              "      <td>0</td>\n",
              "      <td>0</td>\n",
              "      <td>0</td>\n",
              "      <td>0</td>\n",
              "      <td>1</td>\n",
              "      <td>1</td>\n",
              "      <td>0</td>\n",
              "      <td>0</td>\n",
              "      <td>0</td>\n",
              "      <td>0</td>\n",
              "      <td>1</td>\n",
              "      <td>1</td>\n",
              "      <td>0</td>\n",
              "      <td>0</td>\n",
              "      <td>1</td>\n",
              "      <td>0</td>\n",
              "      <td>0</td>\n",
              "      <td>1</td>\n",
              "      <td>0</td>\n",
              "      <td>0</td>\n",
              "      <td>0</td>\n",
              "      <td>1</td>\n",
              "      <td>0</td>\n",
              "      <td>1</td>\n",
              "      <td>0</td>\n",
              "      <td>0</td>\n",
              "      <td>0</td>\n",
              "      <td>0</td>\n",
              "      <td>1</td>\n",
              "    </tr>\n",
              "    <tr>\n",
              "      <th>2</th>\n",
              "      <td>0</td>\n",
              "      <td>2</td>\n",
              "      <td>53.85</td>\n",
              "      <td>108.15</td>\n",
              "      <td>1</td>\n",
              "      <td>1</td>\n",
              "      <td>0</td>\n",
              "      <td>1</td>\n",
              "      <td>0</td>\n",
              "      <td>0</td>\n",
              "      <td>1</td>\n",
              "      <td>1</td>\n",
              "      <td>0</td>\n",
              "      <td>0</td>\n",
              "      <td>1</td>\n",
              "      <td>0</td>\n",
              "      <td>0</td>\n",
              "      <td>0</td>\n",
              "      <td>0</td>\n",
              "      <td>1</td>\n",
              "      <td>0</td>\n",
              "      <td>0</td>\n",
              "      <td>1</td>\n",
              "      <td>1</td>\n",
              "      <td>0</td>\n",
              "      <td>0</td>\n",
              "      <td>1</td>\n",
              "      <td>0</td>\n",
              "      <td>0</td>\n",
              "      <td>1</td>\n",
              "      <td>0</td>\n",
              "      <td>0</td>\n",
              "      <td>1</td>\n",
              "      <td>0</td>\n",
              "      <td>0</td>\n",
              "      <td>1</td>\n",
              "      <td>0</td>\n",
              "      <td>0</td>\n",
              "      <td>0</td>\n",
              "      <td>1</td>\n",
              "      <td>0</td>\n",
              "      <td>0</td>\n",
              "      <td>0</td>\n",
              "      <td>1</td>\n",
              "    </tr>\n",
              "    <tr>\n",
              "      <th>3</th>\n",
              "      <td>0</td>\n",
              "      <td>45</td>\n",
              "      <td>42.30</td>\n",
              "      <td>1840.75</td>\n",
              "      <td>0</td>\n",
              "      <td>1</td>\n",
              "      <td>0</td>\n",
              "      <td>1</td>\n",
              "      <td>0</td>\n",
              "      <td>1</td>\n",
              "      <td>0</td>\n",
              "      <td>0</td>\n",
              "      <td>1</td>\n",
              "      <td>0</td>\n",
              "      <td>1</td>\n",
              "      <td>0</td>\n",
              "      <td>0</td>\n",
              "      <td>0</td>\n",
              "      <td>0</td>\n",
              "      <td>1</td>\n",
              "      <td>1</td>\n",
              "      <td>0</td>\n",
              "      <td>0</td>\n",
              "      <td>0</td>\n",
              "      <td>0</td>\n",
              "      <td>1</td>\n",
              "      <td>0</td>\n",
              "      <td>0</td>\n",
              "      <td>1</td>\n",
              "      <td>1</td>\n",
              "      <td>0</td>\n",
              "      <td>0</td>\n",
              "      <td>1</td>\n",
              "      <td>0</td>\n",
              "      <td>0</td>\n",
              "      <td>0</td>\n",
              "      <td>1</td>\n",
              "      <td>0</td>\n",
              "      <td>1</td>\n",
              "      <td>0</td>\n",
              "      <td>1</td>\n",
              "      <td>0</td>\n",
              "      <td>0</td>\n",
              "      <td>0</td>\n",
              "    </tr>\n",
              "    <tr>\n",
              "      <th>4</th>\n",
              "      <td>0</td>\n",
              "      <td>2</td>\n",
              "      <td>70.70</td>\n",
              "      <td>151.65</td>\n",
              "      <td>1</td>\n",
              "      <td>1</td>\n",
              "      <td>0</td>\n",
              "      <td>1</td>\n",
              "      <td>0</td>\n",
              "      <td>0</td>\n",
              "      <td>1</td>\n",
              "      <td>1</td>\n",
              "      <td>0</td>\n",
              "      <td>0</td>\n",
              "      <td>0</td>\n",
              "      <td>1</td>\n",
              "      <td>0</td>\n",
              "      <td>1</td>\n",
              "      <td>0</td>\n",
              "      <td>0</td>\n",
              "      <td>1</td>\n",
              "      <td>0</td>\n",
              "      <td>0</td>\n",
              "      <td>1</td>\n",
              "      <td>0</td>\n",
              "      <td>0</td>\n",
              "      <td>1</td>\n",
              "      <td>0</td>\n",
              "      <td>0</td>\n",
              "      <td>1</td>\n",
              "      <td>0</td>\n",
              "      <td>0</td>\n",
              "      <td>1</td>\n",
              "      <td>0</td>\n",
              "      <td>0</td>\n",
              "      <td>1</td>\n",
              "      <td>0</td>\n",
              "      <td>0</td>\n",
              "      <td>0</td>\n",
              "      <td>1</td>\n",
              "      <td>0</td>\n",
              "      <td>0</td>\n",
              "      <td>1</td>\n",
              "      <td>0</td>\n",
              "    </tr>\n",
              "  </tbody>\n",
              "</table>\n",
              "</div>"
            ],
            "text/plain": [
              "   SeniorCitizen  ...  PaymentMethod_Mailed check\n",
              "0              0  ...                           0\n",
              "1              0  ...                           1\n",
              "2              0  ...                           1\n",
              "3              0  ...                           0\n",
              "4              0  ...                           0\n",
              "\n",
              "[5 rows x 44 columns]"
            ]
          },
          "metadata": {},
          "execution_count": 10
        }
      ]
    },
    {
      "cell_type": "markdown",
      "metadata": {
        "id": "ThX4fiBMn87K"
      },
      "source": [
        "#Import Libraries EDA"
      ]
    },
    {
      "cell_type": "code",
      "metadata": {
        "id": "GYGSbAVun8jn"
      },
      "source": [
        "import matplotlib.pyplot as plt\n",
        "import seaborn as sns"
      ],
      "execution_count": 11,
      "outputs": []
    },
    {
      "cell_type": "markdown",
      "metadata": {
        "id": "N1rN4VpXoGGg"
      },
      "source": [
        "#Exploratory Data Analysis"
      ]
    },
    {
      "cell_type": "markdown",
      "metadata": {
        "id": "DFahC-icm5OD"
      },
      "source": [
        "## Numerical Variable"
      ]
    },
    {
      "cell_type": "markdown",
      "metadata": {
        "id": "IeckuTkSm5OD"
      },
      "source": [
        "In terms of numerical variables, there are three numerical variables that are related with Customer ID. The numerical variables look normal data."
      ]
    },
    {
      "cell_type": "code",
      "metadata": {
        "execution": {
          "iopub.status.busy": "2021-10-22T15:12:26.329776Z",
          "iopub.execute_input": "2021-10-22T15:12:26.330071Z",
          "iopub.status.idle": "2021-10-22T15:12:26.360581Z",
          "shell.execute_reply.started": "2021-10-22T15:12:26.330039Z",
          "shell.execute_reply": "2021-10-22T15:12:26.359935Z"
        },
        "trusted": true,
        "id": "kJbXFCZUm5OD",
        "colab": {
          "base_uri": "https://localhost:8080/",
          "height": 0
        },
        "outputId": "ebbb034d-0acb-4cc1-ffbb-ed27a11062db"
      },
      "source": [
        "df['tenure']= df['tenure'].astype(float)\n",
        "numerical= df.select_dtypes('number').columns\n",
        "\n",
        "df[numerical].describe()"
      ],
      "execution_count": 12,
      "outputs": [
        {
          "output_type": "execute_result",
          "data": {
            "text/html": [
              "<div>\n",
              "<style scoped>\n",
              "    .dataframe tbody tr th:only-of-type {\n",
              "        vertical-align: middle;\n",
              "    }\n",
              "\n",
              "    .dataframe tbody tr th {\n",
              "        vertical-align: top;\n",
              "    }\n",
              "\n",
              "    .dataframe thead th {\n",
              "        text-align: right;\n",
              "    }\n",
              "</style>\n",
              "<table border=\"1\" class=\"dataframe\">\n",
              "  <thead>\n",
              "    <tr style=\"text-align: right;\">\n",
              "      <th></th>\n",
              "      <th>SeniorCitizen</th>\n",
              "      <th>tenure</th>\n",
              "      <th>MonthlyCharges</th>\n",
              "      <th>TotalCharges</th>\n",
              "    </tr>\n",
              "  </thead>\n",
              "  <tbody>\n",
              "    <tr>\n",
              "      <th>count</th>\n",
              "      <td>7032.000000</td>\n",
              "      <td>7032.000000</td>\n",
              "      <td>7032.000000</td>\n",
              "      <td>7032.000000</td>\n",
              "    </tr>\n",
              "    <tr>\n",
              "      <th>mean</th>\n",
              "      <td>0.162400</td>\n",
              "      <td>32.421786</td>\n",
              "      <td>64.798208</td>\n",
              "      <td>2283.300441</td>\n",
              "    </tr>\n",
              "    <tr>\n",
              "      <th>std</th>\n",
              "      <td>0.368844</td>\n",
              "      <td>24.545260</td>\n",
              "      <td>30.085974</td>\n",
              "      <td>2266.771362</td>\n",
              "    </tr>\n",
              "    <tr>\n",
              "      <th>min</th>\n",
              "      <td>0.000000</td>\n",
              "      <td>1.000000</td>\n",
              "      <td>18.250000</td>\n",
              "      <td>18.800000</td>\n",
              "    </tr>\n",
              "    <tr>\n",
              "      <th>25%</th>\n",
              "      <td>0.000000</td>\n",
              "      <td>9.000000</td>\n",
              "      <td>35.587500</td>\n",
              "      <td>401.450000</td>\n",
              "    </tr>\n",
              "    <tr>\n",
              "      <th>50%</th>\n",
              "      <td>0.000000</td>\n",
              "      <td>29.000000</td>\n",
              "      <td>70.350000</td>\n",
              "      <td>1397.475000</td>\n",
              "    </tr>\n",
              "    <tr>\n",
              "      <th>75%</th>\n",
              "      <td>0.000000</td>\n",
              "      <td>55.000000</td>\n",
              "      <td>89.862500</td>\n",
              "      <td>3794.737500</td>\n",
              "    </tr>\n",
              "    <tr>\n",
              "      <th>max</th>\n",
              "      <td>1.000000</td>\n",
              "      <td>72.000000</td>\n",
              "      <td>118.750000</td>\n",
              "      <td>8684.800000</td>\n",
              "    </tr>\n",
              "  </tbody>\n",
              "</table>\n",
              "</div>"
            ],
            "text/plain": [
              "       SeniorCitizen       tenure  MonthlyCharges  TotalCharges\n",
              "count    7032.000000  7032.000000     7032.000000   7032.000000\n",
              "mean        0.162400    32.421786       64.798208   2283.300441\n",
              "std         0.368844    24.545260       30.085974   2266.771362\n",
              "min         0.000000     1.000000       18.250000     18.800000\n",
              "25%         0.000000     9.000000       35.587500    401.450000\n",
              "50%         0.000000    29.000000       70.350000   1397.475000\n",
              "75%         0.000000    55.000000       89.862500   3794.737500\n",
              "max         1.000000    72.000000      118.750000   8684.800000"
            ]
          },
          "metadata": {},
          "execution_count": 12
        }
      ]
    },
    {
      "cell_type": "code",
      "metadata": {
        "execution": {
          "iopub.status.busy": "2021-10-22T14:46:49.366115Z",
          "iopub.execute_input": "2021-10-22T14:46:49.366442Z",
          "iopub.status.idle": "2021-10-22T14:46:49.609554Z",
          "shell.execute_reply.started": "2021-10-22T14:46:49.366407Z",
          "shell.execute_reply": "2021-10-22T14:46:49.608410Z"
        },
        "trusted": true,
        "id": "yFrhSYsQm5OE",
        "colab": {
          "base_uri": "https://localhost:8080/",
          "height": 0
        },
        "outputId": "54c8c920-3a25-4481-c521-40ac28895c1c"
      },
      "source": [
        "plt.figure(figsize=(8,6))\n",
        "sns.boxplot(x='tenure', y='Churn',data=df);"
      ],
      "execution_count": 13,
      "outputs": [
        {
          "output_type": "display_data",
          "data": {
            "image/png": "[encoded data removed]",
            "text/plain": [
              "<Figure size 576x432 with 1 Axes>"
            ]
          },
          "metadata": {
            "needs_background": "light"
          }
        }
      ]
    },
    {
      "cell_type": "code",
      "metadata": {
        "execution": {
          "iopub.status.busy": "2021-10-22T14:47:06.478801Z",
          "iopub.execute_input": "2021-10-22T14:47:06.479072Z",
          "iopub.status.idle": "2021-10-22T14:47:06.698762Z",
          "shell.execute_reply.started": "2021-10-22T14:47:06.479042Z",
          "shell.execute_reply": "2021-10-22T14:47:06.698069Z"
        },
        "trusted": true,
        "id": "V7788bmem5OE",
        "colab": {
          "base_uri": "https://localhost:8080/",
          "height": 0
        },
        "outputId": "64aa48f5-b136-49ad-8fee-8a23c77cef90"
      },
      "source": [
        "plt.figure(figsize=(8,6))\n",
        "sns.boxplot(x='MonthlyCharges', y='Churn',data=df);"
      ],
      "execution_count": 14,
      "outputs": [
        {
          "output_type": "display_data",
          "data": {
            "image/png": "[encoded data removed]",
            "text/plain": [
              "<Figure size 576x432 with 1 Axes>"
            ]
          },
          "metadata": {
            "needs_background": "light"
          }
        }
      ]
    },
    {
      "cell_type": "code",
      "metadata": {
        "execution": {
          "iopub.status.busy": "2021-10-22T14:47:21.225911Z",
          "iopub.execute_input": "2021-10-22T14:47:21.226354Z",
          "iopub.status.idle": "2021-10-22T14:47:21.443356Z",
          "shell.execute_reply.started": "2021-10-22T14:47:21.226310Z",
          "shell.execute_reply": "2021-10-22T14:47:21.442225Z"
        },
        "trusted": true,
        "id": "795H_1czm5OE",
        "colab": {
          "base_uri": "https://localhost:8080/",
          "height": 0
        },
        "outputId": "4cddd927-61d3-4914-cd6a-5a2d1d796120"
      },
      "source": [
        "plt.figure(figsize=(8,6))\n",
        "sns.boxplot(x='TotalCharges', y='Churn',data=df);"
      ],
      "execution_count": 15,
      "outputs": [
        {
          "output_type": "display_data",
          "data": {
            "image/png": "[encoded data removed]",
            "text/plain": [
              "<Figure size 576x432 with 1 Axes>"
            ]
          },
          "metadata": {
            "needs_background": "light"
          }
        }
      ]
    },
    {
      "cell_type": "code",
      "metadata": {
        "execution": {
          "iopub.status.busy": "2021-10-22T15:12:53.538194Z",
          "iopub.execute_input": "2021-10-22T15:12:53.538728Z",
          "iopub.status.idle": "2021-10-22T15:12:53.906865Z",
          "shell.execute_reply.started": "2021-10-22T15:12:53.538692Z",
          "shell.execute_reply": "2021-10-22T15:12:53.905922Z"
        },
        "trusted": true,
        "id": "RHfKv9oKm5OF",
        "colab": {
          "base_uri": "https://localhost:8080/",
          "height": 0
        },
        "outputId": "79585537-f567-4e53-8f9a-d506a14440f8"
      },
      "source": [
        "plt.figure(figsize=(12,7))\n",
        "sns.heatmap(df.corr(), annot=True)\n",
        "plt.show()"
      ],
      "execution_count": 16,
      "outputs": [
        {
          "output_type": "display_data",
          "data": {
            "image/png": "[encoded data removed]",
            "text/plain": [
              "<Figure size 864x504 with 2 Axes>"
            ]
          },
          "metadata": {
            "needs_background": "light"
          }
        }
      ]
    },
    {
      "cell_type": "markdown",
      "metadata": {
        "id": "sFjYwY4um5OG"
      },
      "source": [
        "## Categorical Variable"
      ]
    },
    {
      "cell_type": "code",
      "metadata": {
        "execution": {
          "iopub.status.busy": "2021-10-22T14:32:31.089020Z",
          "iopub.execute_input": "2021-10-22T14:32:31.090037Z",
          "iopub.status.idle": "2021-10-22T14:32:31.116066Z",
          "shell.execute_reply.started": "2021-10-22T14:32:31.089990Z",
          "shell.execute_reply": "2021-10-22T14:32:31.115251Z"
        },
        "trusted": true,
        "id": "GeNIkwUkm5OG",
        "colab": {
          "base_uri": "https://localhost:8080/"
        },
        "outputId": "caaedef8-e430-4c10-c990-0e865af0e7f8"
      },
      "source": [
        "categorical = df.select_dtypes('object').columns\n",
        "df[categorical].nunique()"
      ],
      "execution_count": 17,
      "outputs": [
        {
          "output_type": "execute_result",
          "data": {
            "text/plain": [
              "gender              2\n",
              "Partner             2\n",
              "Dependents          2\n",
              "PhoneService        2\n",
              "MultipleLines       3\n",
              "InternetService     3\n",
              "OnlineSecurity      3\n",
              "OnlineBackup        3\n",
              "DeviceProtection    3\n",
              "TechSupport         3\n",
              "StreamingTV         3\n",
              "StreamingMovies     3\n",
              "Contract            3\n",
              "PaperlessBilling    2\n",
              "PaymentMethod       4\n",
              "Churn               2\n",
              "dtype: int64"
            ]
          },
          "metadata": {},
          "execution_count": 17
        }
      ]
    },
    {
      "cell_type": "code",
      "metadata": {
        "execution": {
          "iopub.status.busy": "2021-10-22T14:49:31.875801Z",
          "iopub.execute_input": "2021-10-22T14:49:31.876112Z",
          "iopub.status.idle": "2021-10-22T14:49:31.902110Z",
          "shell.execute_reply.started": "2021-10-22T14:49:31.876079Z",
          "shell.execute_reply": "2021-10-22T14:49:31.901251Z"
        },
        "trusted": true,
        "id": "axfKCh50m5OG",
        "colab": {
          "base_uri": "https://localhost:8080/"
        },
        "outputId": "7d641667-06c3-48ba-e57b-a059275c09e5"
      },
      "source": [
        "for feature in df[categorical]:\n",
        "        print(f'{feature}: {df[feature].unique()}')"
      ],
      "execution_count": 18,
      "outputs": [
        {
          "output_type": "stream",
          "name": "stdout",
          "text": [
            "gender: ['Female' 'Male']\n",
            "Partner: ['Yes' 'No']\n",
            "Dependents: ['No' 'Yes']\n",
            "PhoneService: ['No' 'Yes']\n",
            "MultipleLines: ['No phone service' 'No' 'Yes']\n",
            "InternetService: ['DSL' 'Fiber optic' 'No']\n",
            "OnlineSecurity: ['No' 'Yes' 'No internet service']\n",
            "OnlineBackup: ['Yes' 'No' 'No internet service']\n",
            "DeviceProtection: ['No' 'Yes' 'No internet service']\n",
            "TechSupport: ['No' 'Yes' 'No internet service']\n",
            "StreamingTV: ['No' 'Yes' 'No internet service']\n",
            "StreamingMovies: ['No' 'Yes' 'No internet service']\n",
            "Contract: ['Month-to-month' 'One year' 'Two year']\n",
            "PaperlessBilling: ['Yes' 'No']\n",
            "PaymentMethod: ['Electronic check' 'Mailed check' 'Bank transfer (automatic)'\n",
            " 'Credit card (automatic)']\n",
            "Churn: ['No' 'Yes']\n"
          ]
        }
      ]
    },
    {
      "cell_type": "code",
      "metadata": {
        "execution": {
          "iopub.status.busy": "2021-10-22T14:56:51.743254Z",
          "iopub.execute_input": "2021-10-22T14:56:51.743542Z",
          "iopub.status.idle": "2021-10-22T14:56:51.749516Z",
          "shell.execute_reply.started": "2021-10-22T14:56:51.743510Z",
          "shell.execute_reply": "2021-10-22T14:56:51.748646Z"
        },
        "trusted": true,
        "id": "a4kQOdAgm5OH"
      },
      "source": [
        "columns = {'gender':1, 'Partner':2, 'Dependents':3, 'PhoneService':4, 'MultipleLines':5, 'InternetService':6, 'OnlineSecurity':7, 'OnlineBackup':8, 'DeviceProtection':9,\n",
        "          'TechSupport':10, 'StreamingTV':11, 'StreamingMovies':12, 'Contract':13, 'PaperlessBilling':14, 'PaymentMethod':15}"
      ],
      "execution_count": 19,
      "outputs": []
    },
    {
      "cell_type": "code",
      "metadata": {
        "execution": {
          "iopub.status.busy": "2021-10-22T14:56:57.188124Z",
          "iopub.execute_input": "2021-10-22T14:56:57.188723Z",
          "iopub.status.idle": "2021-10-22T14:57:00.178208Z",
          "shell.execute_reply.started": "2021-10-22T14:56:57.188675Z",
          "shell.execute_reply": "2021-10-22T14:57:00.177231Z"
        },
        "trusted": true,
        "id": "UGkaNhyUm5OH",
        "colab": {
          "base_uri": "https://localhost:8080/",
          "height": 0
        },
        "outputId": "4508eefb-53b1-47a7-bdcd-3052b5abaa61"
      },
      "source": [
        "plt.figure(figsize=(20, 42))\n",
        "\n",
        "for key, value in columns.items():\n",
        "    plt.subplot(6, 3, value)\n",
        "    sns.countplot(x=key, hue='Churn', data=df)"
      ],
      "execution_count": 20,
      "outputs": [
        {
          "output_type": "display_data",
          "data": {
            "image/png": "[encoded data removed]",
            "text/plain": [
              "<Figure size 1440x3024 with 15 Axes>"
            ]
          },
          "metadata": {
            "needs_background": "light"
          }
        }
      ]
    },
    {
      "cell_type": "markdown",
      "metadata": {
        "id": "7hpVrU9yInmX"
      },
      "source": [
        "#Dummies Columns"
      ]
    },
    {
      "cell_type": "code",
      "metadata": {
        "colab": {
          "base_uri": "https://localhost:8080/"
        },
        "id": "zhKoFbkdjZ_K",
        "outputId": "70864537-8421-481e-8cfb-013c51f92356"
      },
      "source": [
        "df_dummies.columns"
      ],
      "execution_count": 21,
      "outputs": [
        {
          "output_type": "execute_result",
          "data": {
            "text/plain": [
              "Index(['SeniorCitizen', 'tenure', 'MonthlyCharges', 'TotalCharges', 'Churn',\n",
              "       'Partner_No', 'Partner_Yes', 'Dependents_No', 'Dependents_Yes',\n",
              "       'PhoneService_No', 'PhoneService_Yes', 'MultipleLines_No',\n",
              "       'MultipleLines_No phone service', 'MultipleLines_Yes',\n",
              "       'InternetService_DSL', 'InternetService_Fiber optic',\n",
              "       'InternetService_No', 'OnlineSecurity_No',\n",
              "       'OnlineSecurity_No internet service', 'OnlineSecurity_Yes',\n",
              "       'OnlineBackup_No', 'OnlineBackup_No internet service',\n",
              "       'OnlineBackup_Yes', 'DeviceProtection_No',\n",
              "       'DeviceProtection_No internet service', 'DeviceProtection_Yes',\n",
              "       'TechSupport_No', 'TechSupport_No internet service', 'TechSupport_Yes',\n",
              "       'StreamingTV_No', 'StreamingTV_No internet service', 'StreamingTV_Yes',\n",
              "       'StreamingMovies_No', 'StreamingMovies_No internet service',\n",
              "       'StreamingMovies_Yes', 'Contract_Month-to-month', 'Contract_One year',\n",
              "       'Contract_Two year', 'PaperlessBilling_No', 'PaperlessBilling_Yes',\n",
              "       'PaymentMethod_Bank transfer (automatic)',\n",
              "       'PaymentMethod_Credit card (automatic)',\n",
              "       'PaymentMethod_Electronic check', 'PaymentMethod_Mailed check'],\n",
              "      dtype='object')"
            ]
          },
          "metadata": {},
          "execution_count": 21
        }
      ]
    },
    {
      "cell_type": "code",
      "metadata": {
        "id": "Hthz4IoxjmUJ"
      },
      "source": [
        "dtrain_material = df_dummies[['SeniorCitizen', 'tenure', 'MonthlyCharges', 'TotalCharges', 'Partner_No', 'Partner_Yes',\n",
        "       'Dependents_No', 'Dependents_Yes', 'PhoneService_No',\n",
        "       'PhoneService_Yes', 'MultipleLines_No',\n",
        "       'MultipleLines_No phone service', 'MultipleLines_Yes',\n",
        "       'InternetService_DSL', 'InternetService_Fiber optic',\n",
        "       'InternetService_No', 'OnlineSecurity_No',\n",
        "       'OnlineSecurity_No internet service', 'OnlineSecurity_Yes',\n",
        "       'OnlineBackup_No', 'OnlineBackup_No internet service',\n",
        "       'OnlineBackup_Yes', 'DeviceProtection_No',\n",
        "       'DeviceProtection_No internet service', 'DeviceProtection_Yes',\n",
        "       'TechSupport_No', 'TechSupport_No internet service', 'TechSupport_Yes',\n",
        "       'StreamingTV_No', 'StreamingTV_No internet service', 'StreamingTV_Yes',\n",
        "       'StreamingMovies_No', 'StreamingMovies_No internet service',\n",
        "       'StreamingMovies_Yes', 'Contract_Month-to-month', 'Contract_One year',\n",
        "       'Contract_Two year', 'PaperlessBilling_No', 'PaperlessBilling_Yes',\n",
        "       'PaymentMethod_Bank transfer (automatic)',\n",
        "       'PaymentMethod_Credit card (automatic)',\n",
        "       'PaymentMethod_Electronic check', 'PaymentMethod_Mailed check']].copy()"
      ],
      "execution_count": 22,
      "outputs": []
    },
    {
      "cell_type": "code",
      "metadata": {
        "colab": {
          "base_uri": "https://localhost:8080/",
          "height": 257
        },
        "id": "mLhTDZVUkXqH",
        "outputId": "9943230a-1882-4b00-f616-b7d58ae05dd5"
      },
      "source": [
        "dtrain_material.head()"
      ],
      "execution_count": 23,
      "outputs": [
        {
          "output_type": "execute_result",
          "data": {
            "text/html": [
              "<div>\n",
              "<style scoped>\n",
              "    .dataframe tbody tr th:only-of-type {\n",
              "        vertical-align: middle;\n",
              "    }\n",
              "\n",
              "    .dataframe tbody tr th {\n",
              "        vertical-align: top;\n",
              "    }\n",
              "\n",
              "    .dataframe thead th {\n",
              "        text-align: right;\n",
              "    }\n",
              "</style>\n",
              "<table border=\"1\" class=\"dataframe\">\n",
              "  <thead>\n",
              "    <tr style=\"text-align: right;\">\n",
              "      <th></th>\n",
              "      <th>SeniorCitizen</th>\n",
              "      <th>tenure</th>\n",
              "      <th>MonthlyCharges</th>\n",
              "      <th>TotalCharges</th>\n",
              "      <th>Partner_No</th>\n",
              "      <th>Partner_Yes</th>\n",
              "      <th>Dependents_No</th>\n",
              "      <th>Dependents_Yes</th>\n",
              "      <th>PhoneService_No</th>\n",
              "      <th>PhoneService_Yes</th>\n",
              "      <th>MultipleLines_No</th>\n",
              "      <th>MultipleLines_No phone service</th>\n",
              "      <th>MultipleLines_Yes</th>\n",
              "      <th>InternetService_DSL</th>\n",
              "      <th>InternetService_Fiber optic</th>\n",
              "      <th>InternetService_No</th>\n",
              "      <th>OnlineSecurity_No</th>\n",
              "      <th>OnlineSecurity_No internet service</th>\n",
              "      <th>OnlineSecurity_Yes</th>\n",
              "      <th>OnlineBackup_No</th>\n",
              "      <th>OnlineBackup_No internet service</th>\n",
              "      <th>OnlineBackup_Yes</th>\n",
              "      <th>DeviceProtection_No</th>\n",
              "      <th>DeviceProtection_No internet service</th>\n",
              "      <th>DeviceProtection_Yes</th>\n",
              "      <th>TechSupport_No</th>\n",
              "      <th>TechSupport_No internet service</th>\n",
              "      <th>TechSupport_Yes</th>\n",
              "      <th>StreamingTV_No</th>\n",
              "      <th>StreamingTV_No internet service</th>\n",
              "      <th>StreamingTV_Yes</th>\n",
              "      <th>StreamingMovies_No</th>\n",
              "      <th>StreamingMovies_No internet service</th>\n",
              "      <th>StreamingMovies_Yes</th>\n",
              "      <th>Contract_Month-to-month</th>\n",
              "      <th>Contract_One year</th>\n",
              "      <th>Contract_Two year</th>\n",
              "      <th>PaperlessBilling_No</th>\n",
              "      <th>PaperlessBilling_Yes</th>\n",
              "      <th>PaymentMethod_Bank transfer (automatic)</th>\n",
              "      <th>PaymentMethod_Credit card (automatic)</th>\n",
              "      <th>PaymentMethod_Electronic check</th>\n",
              "      <th>PaymentMethod_Mailed check</th>\n",
              "    </tr>\n",
              "  </thead>\n",
              "  <tbody>\n",
              "    <tr>\n",
              "      <th>0</th>\n",
              "      <td>0</td>\n",
              "      <td>1</td>\n",
              "      <td>29.85</td>\n",
              "      <td>29.85</td>\n",
              "      <td>0</td>\n",
              "      <td>1</td>\n",
              "      <td>1</td>\n",
              "      <td>0</td>\n",
              "      <td>1</td>\n",
              "      <td>0</td>\n",
              "      <td>0</td>\n",
              "      <td>1</td>\n",
              "      <td>0</td>\n",
              "      <td>1</td>\n",
              "      <td>0</td>\n",
              "      <td>0</td>\n",
              "      <td>1</td>\n",
              "      <td>0</td>\n",
              "      <td>0</td>\n",
              "      <td>0</td>\n",
              "      <td>0</td>\n",
              "      <td>1</td>\n",
              "      <td>1</td>\n",
              "      <td>0</td>\n",
              "      <td>0</td>\n",
              "      <td>1</td>\n",
              "      <td>0</td>\n",
              "      <td>0</td>\n",
              "      <td>1</td>\n",
              "      <td>0</td>\n",
              "      <td>0</td>\n",
              "      <td>1</td>\n",
              "      <td>0</td>\n",
              "      <td>0</td>\n",
              "      <td>1</td>\n",
              "      <td>0</td>\n",
              "      <td>0</td>\n",
              "      <td>0</td>\n",
              "      <td>1</td>\n",
              "      <td>0</td>\n",
              "      <td>0</td>\n",
              "      <td>1</td>\n",
              "      <td>0</td>\n",
              "    </tr>\n",
              "    <tr>\n",
              "      <th>1</th>\n",
              "      <td>0</td>\n",
              "      <td>34</td>\n",
              "      <td>56.95</td>\n",
              "      <td>1889.50</td>\n",
              "      <td>1</td>\n",
              "      <td>0</td>\n",
              "      <td>1</td>\n",
              "      <td>0</td>\n",
              "      <td>0</td>\n",
              "      <td>1</td>\n",
              "      <td>1</td>\n",
              "      <td>0</td>\n",
              "      <td>0</td>\n",
              "      <td>1</td>\n",
              "      <td>0</td>\n",
              "      <td>0</td>\n",
              "      <td>0</td>\n",
              "      <td>0</td>\n",
              "      <td>1</td>\n",
              "      <td>1</td>\n",
              "      <td>0</td>\n",
              "      <td>0</td>\n",
              "      <td>0</td>\n",
              "      <td>0</td>\n",
              "      <td>1</td>\n",
              "      <td>1</td>\n",
              "      <td>0</td>\n",
              "      <td>0</td>\n",
              "      <td>1</td>\n",
              "      <td>0</td>\n",
              "      <td>0</td>\n",
              "      <td>1</td>\n",
              "      <td>0</td>\n",
              "      <td>0</td>\n",
              "      <td>0</td>\n",
              "      <td>1</td>\n",
              "      <td>0</td>\n",
              "      <td>1</td>\n",
              "      <td>0</td>\n",
              "      <td>0</td>\n",
              "      <td>0</td>\n",
              "      <td>0</td>\n",
              "      <td>1</td>\n",
              "    </tr>\n",
              "    <tr>\n",
              "      <th>2</th>\n",
              "      <td>0</td>\n",
              "      <td>2</td>\n",
              "      <td>53.85</td>\n",
              "      <td>108.15</td>\n",
              "      <td>1</td>\n",
              "      <td>0</td>\n",
              "      <td>1</td>\n",
              "      <td>0</td>\n",
              "      <td>0</td>\n",
              "      <td>1</td>\n",
              "      <td>1</td>\n",
              "      <td>0</td>\n",
              "      <td>0</td>\n",
              "      <td>1</td>\n",
              "      <td>0</td>\n",
              "      <td>0</td>\n",
              "      <td>0</td>\n",
              "      <td>0</td>\n",
              "      <td>1</td>\n",
              "      <td>0</td>\n",
              "      <td>0</td>\n",
              "      <td>1</td>\n",
              "      <td>1</td>\n",
              "      <td>0</td>\n",
              "      <td>0</td>\n",
              "      <td>1</td>\n",
              "      <td>0</td>\n",
              "      <td>0</td>\n",
              "      <td>1</td>\n",
              "      <td>0</td>\n",
              "      <td>0</td>\n",
              "      <td>1</td>\n",
              "      <td>0</td>\n",
              "      <td>0</td>\n",
              "      <td>1</td>\n",
              "      <td>0</td>\n",
              "      <td>0</td>\n",
              "      <td>0</td>\n",
              "      <td>1</td>\n",
              "      <td>0</td>\n",
              "      <td>0</td>\n",
              "      <td>0</td>\n",
              "      <td>1</td>\n",
              "    </tr>\n",
              "    <tr>\n",
              "      <th>3</th>\n",
              "      <td>0</td>\n",
              "      <td>45</td>\n",
              "      <td>42.30</td>\n",
              "      <td>1840.75</td>\n",
              "      <td>1</td>\n",
              "      <td>0</td>\n",
              "      <td>1</td>\n",
              "      <td>0</td>\n",
              "      <td>1</td>\n",
              "      <td>0</td>\n",
              "      <td>0</td>\n",
              "      <td>1</td>\n",
              "      <td>0</td>\n",
              "      <td>1</td>\n",
              "      <td>0</td>\n",
              "      <td>0</td>\n",
              "      <td>0</td>\n",
              "      <td>0</td>\n",
              "      <td>1</td>\n",
              "      <td>1</td>\n",
              "      <td>0</td>\n",
              "      <td>0</td>\n",
              "      <td>0</td>\n",
              "      <td>0</td>\n",
              "      <td>1</td>\n",
              "      <td>0</td>\n",
              "      <td>0</td>\n",
              "      <td>1</td>\n",
              "      <td>1</td>\n",
              "      <td>0</td>\n",
              "      <td>0</td>\n",
              "      <td>1</td>\n",
              "      <td>0</td>\n",
              "      <td>0</td>\n",
              "      <td>0</td>\n",
              "      <td>1</td>\n",
              "      <td>0</td>\n",
              "      <td>1</td>\n",
              "      <td>0</td>\n",
              "      <td>1</td>\n",
              "      <td>0</td>\n",
              "      <td>0</td>\n",
              "      <td>0</td>\n",
              "    </tr>\n",
              "    <tr>\n",
              "      <th>4</th>\n",
              "      <td>0</td>\n",
              "      <td>2</td>\n",
              "      <td>70.70</td>\n",
              "      <td>151.65</td>\n",
              "      <td>1</td>\n",
              "      <td>0</td>\n",
              "      <td>1</td>\n",
              "      <td>0</td>\n",
              "      <td>0</td>\n",
              "      <td>1</td>\n",
              "      <td>1</td>\n",
              "      <td>0</td>\n",
              "      <td>0</td>\n",
              "      <td>0</td>\n",
              "      <td>1</td>\n",
              "      <td>0</td>\n",
              "      <td>1</td>\n",
              "      <td>0</td>\n",
              "      <td>0</td>\n",
              "      <td>1</td>\n",
              "      <td>0</td>\n",
              "      <td>0</td>\n",
              "      <td>1</td>\n",
              "      <td>0</td>\n",
              "      <td>0</td>\n",
              "      <td>1</td>\n",
              "      <td>0</td>\n",
              "      <td>0</td>\n",
              "      <td>1</td>\n",
              "      <td>0</td>\n",
              "      <td>0</td>\n",
              "      <td>1</td>\n",
              "      <td>0</td>\n",
              "      <td>0</td>\n",
              "      <td>1</td>\n",
              "      <td>0</td>\n",
              "      <td>0</td>\n",
              "      <td>0</td>\n",
              "      <td>1</td>\n",
              "      <td>0</td>\n",
              "      <td>0</td>\n",
              "      <td>1</td>\n",
              "      <td>0</td>\n",
              "    </tr>\n",
              "  </tbody>\n",
              "</table>\n",
              "</div>"
            ],
            "text/plain": [
              "   SeniorCitizen  ...  PaymentMethod_Mailed check\n",
              "0              0  ...                           0\n",
              "1              0  ...                           1\n",
              "2              0  ...                           1\n",
              "3              0  ...                           0\n",
              "4              0  ...                           0\n",
              "\n",
              "[5 rows x 43 columns]"
            ]
          },
          "metadata": {},
          "execution_count": 23
        }
      ]
    },
    {
      "cell_type": "code",
      "metadata": {
        "id": "Z6JIKdZVklkK"
      },
      "source": [
        "dtrain_x = dtrain_material[['SeniorCitizen', \n",
        "                            'tenure', 'MonthlyCharges', \n",
        "                            'TotalCharges', \n",
        "                            'Partner_No', \n",
        "                            'Partner_Yes',\n",
        "       'Dependents_No', 'Dependents_Yes', 'PhoneService_No',\n",
        "       'PhoneService_Yes', 'MultipleLines_No',\n",
        "       'MultipleLines_No phone service', 'MultipleLines_Yes',\n",
        "       'InternetService_DSL', 'InternetService_Fiber optic',\n",
        "       'InternetService_No', 'OnlineSecurity_No',\n",
        "       'OnlineSecurity_No internet service', 'OnlineSecurity_Yes',\n",
        "       'OnlineBackup_No', 'OnlineBackup_No internet service',\n",
        "       'OnlineBackup_Yes', 'DeviceProtection_No',\n",
        "       'DeviceProtection_No internet service', 'DeviceProtection_Yes',\n",
        "       'TechSupport_No', 'TechSupport_No internet service', 'TechSupport_Yes',\n",
        "       'StreamingTV_No', 'StreamingTV_No internet service', 'StreamingTV_Yes',\n",
        "       'StreamingMovies_No', 'StreamingMovies_No internet service',\n",
        "       'StreamingMovies_Yes', 'Contract_Month-to-month', 'Contract_One year',\n",
        "       'Contract_Two year', 'PaperlessBilling_No', 'PaperlessBilling_Yes',\n",
        "       'PaymentMethod_Bank transfer (automatic)',\n",
        "       'PaymentMethod_Credit card (automatic)',\n",
        "       'PaymentMethod_Electronic check', 'PaymentMethod_Mailed check']].copy()"
      ],
      "execution_count": 24,
      "outputs": []
    },
    {
      "cell_type": "code",
      "metadata": {
        "colab": {
          "base_uri": "https://localhost:8080/"
        },
        "id": "NtF6uoWTlFu0",
        "outputId": "62774731-2f4c-4d85-e131-0f3d551c3bb8"
      },
      "source": [
        "dtrain_y = df_dummies['Churn']\n",
        "dtrain_y"
      ],
      "execution_count": 25,
      "outputs": [
        {
          "output_type": "execute_result",
          "data": {
            "text/plain": [
              "0       0\n",
              "1       0\n",
              "2       1\n",
              "3       0\n",
              "4       1\n",
              "       ..\n",
              "7038    0\n",
              "7039    0\n",
              "7040    0\n",
              "7041    1\n",
              "7042    0\n",
              "Name: Churn, Length: 7032, dtype: int64"
            ]
          },
          "metadata": {},
          "execution_count": 25
        }
      ]
    },
    {
      "cell_type": "markdown",
      "metadata": {
        "id": "hSBna6qlM3mj"
      },
      "source": [
        "#Import Libraries Modelling"
      ]
    },
    {
      "cell_type": "code",
      "metadata": {
        "id": "061O6Qo1B1l4",
        "colab": {
          "base_uri": "https://localhost:8080/"
        },
        "outputId": "2679f7dd-7f8f-4024-ff72-dd99e0892a2b"
      },
      "source": [
        "#import libaries\n",
        "from sklearn.model_selection import train_test_split\n",
        "from sklearn.linear_model import LogisticRegression\n",
        "from sklearn.metrics import accuracy_score\n",
        "from sklearn.tree import DecisionTreeClassifier\n",
        "from sklearn.svm import SVC\n",
        "from sklearn.ensemble import RandomForestClassifier\n",
        "from sklearn.neighbors import KNeighborsClassifier\n",
        "from sklearn.ensemble import GradientBoostingClassifier\n",
        "from sklearn.ensemble import AdaBoostClassifier\n",
        "from sklearn.model_selection import cross_val_score\n",
        "from sklearn.metrics import confusion_matrix\n",
        "from sklearn.model_selection import KFold\n",
        "from imblearn.over_sampling import SMOTE\n",
        "from collections import Counter\n",
        "from sklearn.metrics import classification_report, confusion_matrix"
      ],
      "execution_count": 26,
      "outputs": [
        {
          "output_type": "stream",
          "name": "stderr",
          "text": [
            "/usr/local/lib/python3.7/dist-packages/sklearn/externals/six.py:31: FutureWarning: The module is deprecated in version 0.21 and will be removed in version 0.23 since we've dropped support for Python 2.7. Please rely on the official version of six (https://pypi.org/project/six/).\n",
            "  \"(https://pypi.org/project/six/).\", FutureWarning)\n",
            "/usr/local/lib/python3.7/dist-packages/sklearn/utils/deprecation.py:144: FutureWarning: The sklearn.neighbors.base module is  deprecated in version 0.22 and will be removed in version 0.24. The corresponding classes / functions should instead be imported from sklearn.neighbors. Anything that cannot be imported from sklearn.neighbors is now part of the private API.\n",
            "  warnings.warn(message, FutureWarning)\n"
          ]
        }
      ]
    },
    {
      "cell_type": "markdown",
      "metadata": {
        "id": "vfPJAjgMItGy"
      },
      "source": [
        "#Imbalance Dataset"
      ]
    },
    {
      "cell_type": "code",
      "metadata": {
        "id": "Ws9CELp3Lokh"
      },
      "source": [
        "features = dtrain_material[['SeniorCitizen', \n",
        "                            'tenure', 'MonthlyCharges', \n",
        "                            'TotalCharges', \n",
        "                            'Partner_No', \n",
        "                            'Partner_Yes',\n",
        "       'Dependents_No', 'Dependents_Yes', 'PhoneService_No',\n",
        "       'PhoneService_Yes', 'MultipleLines_No',\n",
        "       'MultipleLines_No phone service', 'MultipleLines_Yes',\n",
        "       'InternetService_DSL', 'InternetService_Fiber optic',\n",
        "       'InternetService_No', 'OnlineSecurity_No',\n",
        "       'OnlineSecurity_No internet service', 'OnlineSecurity_Yes',\n",
        "       'OnlineBackup_No', 'OnlineBackup_No internet service',\n",
        "       'OnlineBackup_Yes', 'DeviceProtection_No',\n",
        "       'DeviceProtection_No internet service', 'DeviceProtection_Yes',\n",
        "       'TechSupport_No', 'TechSupport_No internet service', 'TechSupport_Yes',\n",
        "       'StreamingTV_No', 'StreamingTV_No internet service', 'StreamingTV_Yes',\n",
        "       'StreamingMovies_No', 'StreamingMovies_No internet service',\n",
        "       'StreamingMovies_Yes', 'Contract_Month-to-month', 'Contract_One year',\n",
        "       'Contract_Two year', 'PaperlessBilling_No', 'PaperlessBilling_Yes',\n",
        "       'PaymentMethod_Bank transfer (automatic)',\n",
        "       'PaymentMethod_Credit card (automatic)',\n",
        "       'PaymentMethod_Electronic check', 'PaymentMethod_Mailed check']].copy()\n",
        "target = df_dummies['Churn']"
      ],
      "execution_count": 27,
      "outputs": []
    },
    {
      "cell_type": "code",
      "metadata": {
        "colab": {
          "base_uri": "https://localhost:8080/"
        },
        "id": "88RtYOw3L89r",
        "outputId": "965fd440-63c2-4948-bd3b-8c6a0674160e"
      },
      "source": [
        "X_train,X_test, y_train, y_test = train_test_split(features, target, test_size=0.3, random_state=2, stratify=target)\n",
        "print(\"Split Data \"'X_train: {} | X_test: {} | y_train: {} | y_test: {}'.format(len(X_train),len(X_test),len(y_train),len(y_test)))"
      ],
      "execution_count": 28,
      "outputs": [
        {
          "output_type": "stream",
          "name": "stdout",
          "text": [
            "Split Data X_train: 4922 | X_test: 2110 | y_train: 4922 | y_test: 2110\n"
          ]
        }
      ]
    },
    {
      "cell_type": "markdown",
      "metadata": {
        "id": "-IxJB0_FK8vM"
      },
      "source": [
        "##Logistic Regression"
      ]
    },
    {
      "cell_type": "code",
      "metadata": {
        "colab": {
          "base_uri": "https://localhost:8080/"
        },
        "id": "cxrqyPOMNE7q",
        "outputId": "1fc25355-aca5-4dd1-fe95-053d07688fbf"
      },
      "source": [
        "LR = LogisticRegression(max_iter=7000)\n",
        "LR.fit(X_train,y_train)"
      ],
      "execution_count": 29,
      "outputs": [
        {
          "output_type": "execute_result",
          "data": {
            "text/plain": [
              "LogisticRegression(C=1.0, class_weight=None, dual=False, fit_intercept=True,\n",
              "                   intercept_scaling=1, l1_ratio=None, max_iter=7000,\n",
              "                   multi_class='auto', n_jobs=None, penalty='l2',\n",
              "                   random_state=None, solver='lbfgs', tol=0.0001, verbose=0,\n",
              "                   warm_start=False)"
            ]
          },
          "metadata": {},
          "execution_count": 29
        }
      ]
    },
    {
      "cell_type": "code",
      "metadata": {
        "colab": {
          "base_uri": "https://localhost:8080/"
        },
        "id": "SDGjyhE6fFg2",
        "outputId": "e7093e5c-a237-46e8-94dc-17fff755d9dc"
      },
      "source": [
        "LR_predictions = LR.predict(X_test)\n",
        "accuracy_score(y_test, LR_predictions)"
      ],
      "execution_count": 30,
      "outputs": [
        {
          "output_type": "execute_result",
          "data": {
            "text/plain": [
              "0.8042654028436019"
            ]
          },
          "metadata": {},
          "execution_count": 30
        }
      ]
    },
    {
      "cell_type": "code",
      "metadata": {
        "colab": {
          "base_uri": "https://localhost:8080/"
        },
        "id": "EeAjVIxdixu1",
        "outputId": "d05f9a6a-fa32-4768-ef8a-335c9c126f99"
      },
      "source": [
        "print(f\"Accuracy score for Train data: {LR.score(X_train , y_train)}\")\n",
        "print(f\"Accuracy Score for Test data: {accuracy_score(y_test, LR_predictions)}\")"
      ],
      "execution_count": 31,
      "outputs": [
        {
          "output_type": "stream",
          "name": "stdout",
          "text": [
            "Accuracy score for Train data: 0.8075985371800082\n",
            "Accuracy Score for Test data: 0.8042654028436019\n"
          ]
        }
      ]
    },
    {
      "cell_type": "code",
      "metadata": {
        "colab": {
          "base_uri": "https://localhost:8080/"
        },
        "id": "cgB3oePHXEII",
        "outputId": "a265ce6f-f793-4378-f021-dd776b9973e1"
      },
      "source": [
        "print(classification_report(y_test,LR_predictions))"
      ],
      "execution_count": 32,
      "outputs": [
        {
          "output_type": "stream",
          "name": "stdout",
          "text": [
            "              precision    recall  f1-score   support\n",
            "\n",
            "           0       0.85      0.90      0.87      1549\n",
            "           1       0.66      0.55      0.60       561\n",
            "\n",
            "    accuracy                           0.80      2110\n",
            "   macro avg       0.75      0.72      0.73      2110\n",
            "weighted avg       0.80      0.80      0.80      2110\n",
            "\n"
          ]
        }
      ]
    },
    {
      "cell_type": "markdown",
      "metadata": {
        "id": "mL1uGmNmNVXB"
      },
      "source": [
        "##Support Vector Machine"
      ]
    },
    {
      "cell_type": "code",
      "metadata": {
        "colab": {
          "base_uri": "https://localhost:8080/"
        },
        "id": "eeDIOdGyLVSo",
        "outputId": "84285454-8510-4a70-b790-1f4bfdf978fe"
      },
      "source": [
        "svm = SVC(gamma='auto',random_state=2, max_iter=10000)\n",
        "svm.fit(X_train,y_train)"
      ],
      "execution_count": 33,
      "outputs": [
        {
          "output_type": "execute_result",
          "data": {
            "text/plain": [
              "SVC(C=1.0, break_ties=False, cache_size=200, class_weight=None, coef0=0.0,\n",
              "    decision_function_shape='ovr', degree=3, gamma='auto', kernel='rbf',\n",
              "    max_iter=10000, probability=False, random_state=2, shrinking=True,\n",
              "    tol=0.001, verbose=False)"
            ]
          },
          "metadata": {},
          "execution_count": 33
        }
      ]
    },
    {
      "cell_type": "code",
      "metadata": {
        "colab": {
          "base_uri": "https://localhost:8080/"
        },
        "id": "OjC0iy9_fOvS",
        "outputId": "e1b1221c-7497-409e-a542-16c21234e50c"
      },
      "source": [
        "svm_predictions = svm.predict(X_test)\n",
        "accuracy_score(y_test, svm_predictions)"
      ],
      "execution_count": 34,
      "outputs": [
        {
          "output_type": "execute_result",
          "data": {
            "text/plain": [
              "0.7706161137440758"
            ]
          },
          "metadata": {},
          "execution_count": 34
        }
      ]
    },
    {
      "cell_type": "code",
      "metadata": {
        "colab": {
          "base_uri": "https://localhost:8080/"
        },
        "id": "KLDp2c-7i_Te",
        "outputId": "fae57c48-7d38-47fe-f724-5200608bd772"
      },
      "source": [
        "print(f\"Accuracy score for Train data: {svm.score(X_train , y_train)}\")\n",
        "print(f\"Accuracy Score for Test data: {accuracy_score(y_test, svm_predictions)}\")"
      ],
      "execution_count": 35,
      "outputs": [
        {
          "output_type": "stream",
          "name": "stdout",
          "text": [
            "Accuracy score for Train data: 0.9110117838277123\n",
            "Accuracy Score for Test data: 0.7706161137440758\n"
          ]
        }
      ]
    },
    {
      "cell_type": "code",
      "metadata": {
        "colab": {
          "base_uri": "https://localhost:8080/"
        },
        "id": "4CPQDJUxXI5F",
        "outputId": "b8c45a41-d339-4663-f342-a35cfee44531"
      },
      "source": [
        "print(classification_report(y_test,svm_predictions))"
      ],
      "execution_count": 36,
      "outputs": [
        {
          "output_type": "stream",
          "name": "stdout",
          "text": [
            "              precision    recall  f1-score   support\n",
            "\n",
            "           0       0.79      0.94      0.86      1549\n",
            "           1       0.65      0.30      0.41       561\n",
            "\n",
            "    accuracy                           0.77      2110\n",
            "   macro avg       0.72      0.62      0.63      2110\n",
            "weighted avg       0.75      0.77      0.74      2110\n",
            "\n"
          ]
        }
      ]
    },
    {
      "cell_type": "markdown",
      "metadata": {
        "id": "Q9o41-3QNfRj"
      },
      "source": [
        "##Random Forest"
      ]
    },
    {
      "cell_type": "code",
      "metadata": {
        "colab": {
          "base_uri": "https://localhost:8080/"
        },
        "id": "jHjjQwPCNj_i",
        "outputId": "43bc393a-0fea-473d-ea9a-93c8b07f9cca"
      },
      "source": [
        "rf = RandomForestClassifier(n_estimators=200,random_state=2)\n",
        "rf.fit(X_train,y_train)"
      ],
      "execution_count": 37,
      "outputs": [
        {
          "output_type": "execute_result",
          "data": {
            "text/plain": [
              "RandomForestClassifier(bootstrap=True, ccp_alpha=0.0, class_weight=None,\n",
              "                       criterion='gini', max_depth=None, max_features='auto',\n",
              "                       max_leaf_nodes=None, max_samples=None,\n",
              "                       min_impurity_decrease=0.0, min_impurity_split=None,\n",
              "                       min_samples_leaf=1, min_samples_split=2,\n",
              "                       min_weight_fraction_leaf=0.0, n_estimators=200,\n",
              "                       n_jobs=None, oob_score=False, random_state=2, verbose=0,\n",
              "                       warm_start=False)"
            ]
          },
          "metadata": {},
          "execution_count": 37
        }
      ]
    },
    {
      "cell_type": "code",
      "metadata": {
        "colab": {
          "base_uri": "https://localhost:8080/"
        },
        "id": "XW6u32lPfhBS",
        "outputId": "b94bbbeb-1d79-4101-f803-63f84968f218"
      },
      "source": [
        "rf_predictions = rf.predict(X_test)\n",
        "accuracy_score(y_test, rf_predictions)"
      ],
      "execution_count": 38,
      "outputs": [
        {
          "output_type": "execute_result",
          "data": {
            "text/plain": [
              "0.7928909952606635"
            ]
          },
          "metadata": {},
          "execution_count": 38
        }
      ]
    },
    {
      "cell_type": "code",
      "metadata": {
        "colab": {
          "base_uri": "https://localhost:8080/"
        },
        "id": "cCOyV112ju4D",
        "outputId": "d261cdbb-e968-4ae8-aa81-da4dcdbc36c6"
      },
      "source": [
        "print(f\"Accuracy score for Train data: {rf.score(X_train , y_train)}\")\n",
        "print(f\"Accuracy Score for Test data: {accuracy_score(y_test, rf_predictions)}\")"
      ],
      "execution_count": 39,
      "outputs": [
        {
          "output_type": "stream",
          "name": "stdout",
          "text": [
            "Accuracy score for Train data: 0.9975619666802112\n",
            "Accuracy Score for Test data: 0.7928909952606635\n"
          ]
        }
      ]
    },
    {
      "cell_type": "code",
      "metadata": {
        "colab": {
          "base_uri": "https://localhost:8080/"
        },
        "id": "NDS-YiQMXSR1",
        "outputId": "495e2498-1a5c-4262-ef7e-a7ca2ef79da4"
      },
      "source": [
        "print(classification_report(y_test,rf_predictions))"
      ],
      "execution_count": 40,
      "outputs": [
        {
          "output_type": "stream",
          "name": "stdout",
          "text": [
            "              precision    recall  f1-score   support\n",
            "\n",
            "           0       0.83      0.91      0.87      1549\n",
            "           1       0.65      0.48      0.55       561\n",
            "\n",
            "    accuracy                           0.79      2110\n",
            "   macro avg       0.74      0.69      0.71      2110\n",
            "weighted avg       0.78      0.79      0.78      2110\n",
            "\n"
          ]
        }
      ]
    },
    {
      "cell_type": "markdown",
      "metadata": {
        "id": "yNka1F1aNtMC"
      },
      "source": [
        "##Decision Tree"
      ]
    },
    {
      "cell_type": "code",
      "metadata": {
        "colab": {
          "base_uri": "https://localhost:8080/"
        },
        "id": "5gSSTxrcNzFn",
        "outputId": "9f72b289-4303-4737-a864-6a2c986baa14"
      },
      "source": [
        "dt = DecisionTreeClassifier(random_state=2,criterion='gini')\n",
        "dt.fit(X_train,y_train)"
      ],
      "execution_count": 41,
      "outputs": [
        {
          "output_type": "execute_result",
          "data": {
            "text/plain": [
              "DecisionTreeClassifier(ccp_alpha=0.0, class_weight=None, criterion='gini',\n",
              "                       max_depth=None, max_features=None, max_leaf_nodes=None,\n",
              "                       min_impurity_decrease=0.0, min_impurity_split=None,\n",
              "                       min_samples_leaf=1, min_samples_split=2,\n",
              "                       min_weight_fraction_leaf=0.0, presort='deprecated',\n",
              "                       random_state=2, splitter='best')"
            ]
          },
          "metadata": {},
          "execution_count": 41
        }
      ]
    },
    {
      "cell_type": "code",
      "metadata": {
        "colab": {
          "base_uri": "https://localhost:8080/"
        },
        "id": "rTDvg3h6fzn2",
        "outputId": "3d9f367b-489c-4c73-939c-d5a9df5d3ad5"
      },
      "source": [
        "dt_predictions = dt.predict(X_test)\n",
        "accuracy_score(y_test, dt_predictions)"
      ],
      "execution_count": 42,
      "outputs": [
        {
          "output_type": "execute_result",
          "data": {
            "text/plain": [
              "0.7573459715639811"
            ]
          },
          "metadata": {},
          "execution_count": 42
        }
      ]
    },
    {
      "cell_type": "code",
      "metadata": {
        "colab": {
          "base_uri": "https://localhost:8080/"
        },
        "id": "mjZ-QRbHj2qJ",
        "outputId": "21c5de35-19cb-469c-839f-e63c31041d14"
      },
      "source": [
        "print(f\"Accuracy score for Train data: {dt.score(X_train , y_train)}\")\n",
        "print(f\"Accuracy Score for Test data: {accuracy_score(y_test, dt_predictions)}\")"
      ],
      "execution_count": 43,
      "outputs": [
        {
          "output_type": "stream",
          "name": "stdout",
          "text": [
            "Accuracy score for Train data: 0.9975619666802112\n",
            "Accuracy Score for Test data: 0.7573459715639811\n"
          ]
        }
      ]
    },
    {
      "cell_type": "code",
      "metadata": {
        "colab": {
          "base_uri": "https://localhost:8080/"
        },
        "id": "FU2KIKy0XWeI",
        "outputId": "2aba3676-108e-4849-82bf-b4ac458cc1f6"
      },
      "source": [
        "print(classification_report(y_test,dt_predictions))"
      ],
      "execution_count": 44,
      "outputs": [
        {
          "output_type": "stream",
          "name": "stdout",
          "text": [
            "              precision    recall  f1-score   support\n",
            "\n",
            "           0       0.84      0.83      0.83      1549\n",
            "           1       0.54      0.56      0.55       561\n",
            "\n",
            "    accuracy                           0.76      2110\n",
            "   macro avg       0.69      0.69      0.69      2110\n",
            "weighted avg       0.76      0.76      0.76      2110\n",
            "\n"
          ]
        }
      ]
    },
    {
      "cell_type": "markdown",
      "metadata": {
        "id": "kpu1_2RTN1PS"
      },
      "source": [
        "##KNN (K Nearest Neighbors)"
      ]
    },
    {
      "cell_type": "code",
      "metadata": {
        "colab": {
          "base_uri": "https://localhost:8080/"
        },
        "id": "ZwT0BVoUNygh",
        "outputId": "2f5f037e-a7d7-4130-cd44-891268ce6e0b"
      },
      "source": [
        "KNear=KNeighborsClassifier(n_neighbors=10)\n",
        "KNear.fit(X_train,y_train)"
      ],
      "execution_count": 45,
      "outputs": [
        {
          "output_type": "execute_result",
          "data": {
            "text/plain": [
              "KNeighborsClassifier(algorithm='auto', leaf_size=30, metric='minkowski',\n",
              "                     metric_params=None, n_jobs=None, n_neighbors=10, p=2,\n",
              "                     weights='uniform')"
            ]
          },
          "metadata": {},
          "execution_count": 45
        }
      ]
    },
    {
      "cell_type": "code",
      "metadata": {
        "colab": {
          "base_uri": "https://localhost:8080/"
        },
        "id": "MQYcQM-KgQav",
        "outputId": "084fd68f-b288-439e-a199-416fc5c05143"
      },
      "source": [
        "KNear_predictions = KNear.predict(X_test)\n",
        "accuracy_score(y_test, KNear_predictions)"
      ],
      "execution_count": 46,
      "outputs": [
        {
          "output_type": "execute_result",
          "data": {
            "text/plain": [
              "0.7791469194312797"
            ]
          },
          "metadata": {},
          "execution_count": 46
        }
      ]
    },
    {
      "cell_type": "code",
      "metadata": {
        "colab": {
          "base_uri": "https://localhost:8080/"
        },
        "id": "2vagSpT2kBOm",
        "outputId": "ff388023-193c-43fe-fc6b-1b30d29fb782"
      },
      "source": [
        "print(f\"Accuracy score for Train data: {KNear.score(X_train , y_train)}\")\n",
        "print(f\"Accuracy Score for Test data: {accuracy_score(y_test, KNear_predictions)}\")"
      ],
      "execution_count": 47,
      "outputs": [
        {
          "output_type": "stream",
          "name": "stdout",
          "text": [
            "Accuracy score for Train data: 0.8094270621698496\n",
            "Accuracy Score for Test data: 0.7791469194312797\n"
          ]
        }
      ]
    },
    {
      "cell_type": "code",
      "metadata": {
        "colab": {
          "base_uri": "https://localhost:8080/"
        },
        "id": "on5icnXXXaXb",
        "outputId": "8918dac3-be64-4a25-ca47-47852c835d43"
      },
      "source": [
        "print(classification_report(y_test,KNear_predictions))"
      ],
      "execution_count": 48,
      "outputs": [
        {
          "output_type": "stream",
          "name": "stdout",
          "text": [
            "              precision    recall  f1-score   support\n",
            "\n",
            "           0       0.80      0.94      0.86      1549\n",
            "           1       0.66      0.35      0.45       561\n",
            "\n",
            "    accuracy                           0.78      2110\n",
            "   macro avg       0.73      0.64      0.66      2110\n",
            "weighted avg       0.76      0.78      0.75      2110\n",
            "\n"
          ]
        }
      ]
    },
    {
      "cell_type": "markdown",
      "metadata": {
        "id": "ysO81oyTPTbm"
      },
      "source": [
        "##XGBoost"
      ]
    },
    {
      "cell_type": "code",
      "metadata": {
        "colab": {
          "base_uri": "https://localhost:8080/"
        },
        "id": "2NCd8aIEPVLD",
        "outputId": "430e2c28-e91a-43b1-ee6a-20bcc8cb27a3"
      },
      "source": [
        "!pip install xgboost"
      ],
      "execution_count": 49,
      "outputs": [
        {
          "output_type": "stream",
          "name": "stdout",
          "text": [
            "Requirement already satisfied: xgboost in /usr/local/lib/python3.7/dist-packages (0.90)\n",
            "Requirement already satisfied: scipy in /usr/local/lib/python3.7/dist-packages (from xgboost) (1.4.1)\n",
            "Requirement already satisfied: numpy in /usr/local/lib/python3.7/dist-packages (from xgboost) (1.19.5)\n"
          ]
        }
      ]
    },
    {
      "cell_type": "code",
      "metadata": {
        "colab": {
          "base_uri": "https://localhost:8080/"
        },
        "id": "sXqsoezzPVLE",
        "outputId": "523354c0-773e-491c-c79e-8b5ee4837ca5"
      },
      "source": [
        "from xgboost import XGBClassifier\n",
        "xgbc_base = XGBClassifier(random_state=2)\n",
        "xgbc_base.fit(X_train, y_train)"
      ],
      "execution_count": 50,
      "outputs": [
        {
          "output_type": "execute_result",
          "data": {
            "text/plain": [
              "XGBClassifier(base_score=0.5, booster='gbtree', colsample_bylevel=1,\n",
              "              colsample_bynode=1, colsample_bytree=1, gamma=0,\n",
              "              learning_rate=0.1, max_delta_step=0, max_depth=3,\n",
              "              min_child_weight=1, missing=None, n_estimators=100, n_jobs=1,\n",
              "              nthread=None, objective='binary:logistic', random_state=2,\n",
              "              reg_alpha=0, reg_lambda=1, scale_pos_weight=1, seed=None,\n",
              "              silent=None, subsample=1, verbosity=1)"
            ]
          },
          "metadata": {},
          "execution_count": 50
        }
      ]
    },
    {
      "cell_type": "code",
      "metadata": {
        "colab": {
          "base_uri": "https://localhost:8080/"
        },
        "id": "z0rgaEaTkLWD",
        "outputId": "a6e3658c-ed8f-4691-9e59-6b1ae182368b"
      },
      "source": [
        "xgbc_pred = xgbc_base.predict(X_test)\n",
        "accuracy_score(y_test, xgbc_pred)"
      ],
      "execution_count": 51,
      "outputs": [
        {
          "output_type": "execute_result",
          "data": {
            "text/plain": [
              "0.7990521327014218"
            ]
          },
          "metadata": {},
          "execution_count": 51
        }
      ]
    },
    {
      "cell_type": "code",
      "metadata": {
        "colab": {
          "base_uri": "https://localhost:8080/"
        },
        "id": "m2WCVo98kLlx",
        "outputId": "96cd8197-3465-4847-99d3-3e3f3c53807c"
      },
      "source": [
        "print(f\"Accuracy score for Train data: {xgbc_base.score(X_train , y_train)}\")\n",
        "print(f\"Accuracy Score for Test data: {accuracy_score(y_test, xgbc_pred)}\")"
      ],
      "execution_count": 52,
      "outputs": [
        {
          "output_type": "stream",
          "name": "stdout",
          "text": [
            "Accuracy score for Train data: 0.8234457537586347\n",
            "Accuracy Score for Test data: 0.7990521327014218\n"
          ]
        }
      ]
    },
    {
      "cell_type": "code",
      "metadata": {
        "colab": {
          "base_uri": "https://localhost:8080/"
        },
        "id": "tLeBa_3xXhHZ",
        "outputId": "347c88d3-c18c-49c3-d4fd-f88fdba82b15"
      },
      "source": [
        "print(classification_report(y_test,xgbc_pred))"
      ],
      "execution_count": 53,
      "outputs": [
        {
          "output_type": "stream",
          "name": "stdout",
          "text": [
            "              precision    recall  f1-score   support\n",
            "\n",
            "           0       0.83      0.91      0.87      1549\n",
            "           1       0.66      0.50      0.57       561\n",
            "\n",
            "    accuracy                           0.80      2110\n",
            "   macro avg       0.75      0.71      0.72      2110\n",
            "weighted avg       0.79      0.80      0.79      2110\n",
            "\n"
          ]
        }
      ]
    },
    {
      "cell_type": "markdown",
      "metadata": {
        "id": "riei0QQ0VRK-"
      },
      "source": [
        "##Gradient Boosting"
      ]
    },
    {
      "cell_type": "code",
      "metadata": {
        "colab": {
          "base_uri": "https://localhost:8080/"
        },
        "id": "PRZxsUSsVRLA",
        "outputId": "9fb43139-6f4b-4e5b-e859-711361c4fe2a"
      },
      "source": [
        "GB = GradientBoostingClassifier(n_estimators=120, learning_rate=0.5, max_depth=1, random_state=2)\n",
        "GB.fit(X_train, y_train)"
      ],
      "execution_count": 54,
      "outputs": [
        {
          "output_type": "execute_result",
          "data": {
            "text/plain": [
              "GradientBoostingClassifier(ccp_alpha=0.0, criterion='friedman_mse', init=None,\n",
              "                           learning_rate=0.5, loss='deviance', max_depth=1,\n",
              "                           max_features=None, max_leaf_nodes=None,\n",
              "                           min_impurity_decrease=0.0, min_impurity_split=None,\n",
              "                           min_samples_leaf=1, min_samples_split=2,\n",
              "                           min_weight_fraction_leaf=0.0, n_estimators=120,\n",
              "                           n_iter_no_change=None, presort='deprecated',\n",
              "                           random_state=2, subsample=1.0, tol=0.0001,\n",
              "                           validation_fraction=0.1, verbose=0,\n",
              "                           warm_start=False)"
            ]
          },
          "metadata": {},
          "execution_count": 54
        }
      ]
    },
    {
      "cell_type": "code",
      "metadata": {
        "colab": {
          "base_uri": "https://localhost:8080/"
        },
        "id": "f08AgeoYmpV_",
        "outputId": "a2ca9c31-3d65-4031-e6bb-905ecac4f2f1"
      },
      "source": [
        "GB_pred = GB.predict(X_test)\n",
        "accuracy_score(y_test, GB_pred)"
      ],
      "execution_count": 55,
      "outputs": [
        {
          "output_type": "execute_result",
          "data": {
            "text/plain": [
              "0.8042654028436019"
            ]
          },
          "metadata": {},
          "execution_count": 55
        }
      ]
    },
    {
      "cell_type": "code",
      "metadata": {
        "colab": {
          "base_uri": "https://localhost:8080/"
        },
        "id": "hYZeqPIEkg4_",
        "outputId": "9d0a864e-3b8d-4e99-c5e3-1f897ff1c7b2"
      },
      "source": [
        "print(f\"Accuracy score for Train data: {GB.score(X_train , y_train)}\")\n",
        "print(f\"Accuracy Score for Test data: {accuracy_score(y_test, GB_pred)}\")"
      ],
      "execution_count": 56,
      "outputs": [
        {
          "output_type": "stream",
          "name": "stdout",
          "text": [
            "Accuracy score for Train data: 0.8177570093457944\n",
            "Accuracy Score for Test data: 0.8042654028436019\n"
          ]
        }
      ]
    },
    {
      "cell_type": "code",
      "metadata": {
        "colab": {
          "base_uri": "https://localhost:8080/"
        },
        "id": "BgqwsC4jXmba",
        "outputId": "274ffa58-7032-4285-ce69-c744f33abac8"
      },
      "source": [
        "print(classification_report(y_test,GB_pred))"
      ],
      "execution_count": 57,
      "outputs": [
        {
          "output_type": "stream",
          "name": "stdout",
          "text": [
            "              precision    recall  f1-score   support\n",
            "\n",
            "           0       0.84      0.91      0.87      1549\n",
            "           1       0.67      0.52      0.59       561\n",
            "\n",
            "    accuracy                           0.80      2110\n",
            "   macro avg       0.75      0.71      0.73      2110\n",
            "weighted avg       0.79      0.80      0.80      2110\n",
            "\n"
          ]
        }
      ]
    },
    {
      "cell_type": "markdown",
      "metadata": {
        "id": "GQ9SfEcjanLZ"
      },
      "source": [
        "##CatBoost"
      ]
    },
    {
      "cell_type": "code",
      "metadata": {
        "colab": {
          "base_uri": "https://localhost:8080/"
        },
        "id": "d275d9LuZiWo",
        "outputId": "a31ae03d-ab86-47ff-af27-0e7ab2e820c3"
      },
      "source": [
        "!pip install catboost"
      ],
      "execution_count": 58,
      "outputs": [
        {
          "output_type": "stream",
          "name": "stdout",
          "text": [
            "Collecting catboost\n",
            "  Downloading catboost-1.0.3-cp37-none-manylinux1_x86_64.whl (76.3 MB)\n",
            "\u001b[K     |████████████████████████████████| 76.3 MB 21 kB/s \n",
            "\u001b[?25hRequirement already satisfied: six in /usr/local/lib/python3.7/dist-packages (from catboost) (1.15.0)\n",
            "Requirement already satisfied: graphviz in /usr/local/lib/python3.7/dist-packages (from catboost) (0.10.1)\n",
            "Requirement already satisfied: plotly in /usr/local/lib/python3.7/dist-packages (from catboost) (4.4.1)\n",
            "Requirement already satisfied: numpy>=1.16.0 in /usr/local/lib/python3.7/dist-packages (from catboost) (1.19.5)\n",
            "Requirement already satisfied: matplotlib in /usr/local/lib/python3.7/dist-packages (from catboost) (3.2.2)\n",
            "Requirement already satisfied: pandas>=0.24.0 in /usr/local/lib/python3.7/dist-packages (from catboost) (1.1.5)\n",
            "Requirement already satisfied: scipy in /usr/local/lib/python3.7/dist-packages (from catboost) (1.4.1)\n",
            "Requirement already satisfied: pytz>=2017.2 in /usr/local/lib/python3.7/dist-packages (from pandas>=0.24.0->catboost) (2018.9)\n",
            "Requirement already satisfied: python-dateutil>=2.7.3 in /usr/local/lib/python3.7/dist-packages (from pandas>=0.24.0->catboost) (2.8.2)\n",
            "Requirement already satisfied: cycler>=0.10 in /usr/local/lib/python3.7/dist-packages (from matplotlib->catboost) (0.11.0)\n",
            "Requirement already satisfied: kiwisolver>=1.0.1 in /usr/local/lib/python3.7/dist-packages (from matplotlib->catboost) (1.3.2)\n",
            "Requirement already satisfied: pyparsing!=2.0.4,!=2.1.2,!=2.1.6,>=2.0.1 in /usr/local/lib/python3.7/dist-packages (from matplotlib->catboost) (2.4.7)\n",
            "Requirement already satisfied: retrying>=1.3.3 in /usr/local/lib/python3.7/dist-packages (from plotly->catboost) (1.3.3)\n",
            "Installing collected packages: catboost\n",
            "Successfully installed catboost-1.0.3\n"
          ]
        }
      ]
    },
    {
      "cell_type": "code",
      "metadata": {
        "colab": {
          "base_uri": "https://localhost:8080/"
        },
        "id": "-XxT_kffX5iP",
        "outputId": "321b1684-dc96-4b0f-90e6-7d1e5f879966"
      },
      "source": [
        "from catboost import CatBoostClassifier\n",
        "cat = CatBoostClassifier(learning_rate=0.01)\n",
        "cat.fit(X_train, y_train)"
      ],
      "execution_count": 59,
      "outputs": [
        {
          "output_type": "stream",
          "name": "stdout",
          "text": [
            "0:\tlearn: 0.6860003\ttotal: 50.3ms\tremaining: 50.3s\n",
            "1:\tlearn: 0.6794260\ttotal: 54.1ms\tremaining: 27s\n",
            "2:\tlearn: 0.6726406\ttotal: 57.7ms\tremaining: 19.2s\n",
            "3:\tlearn: 0.6668985\ttotal: 61ms\tremaining: 15.2s\n",
            "4:\tlearn: 0.6607843\ttotal: 64.3ms\tremaining: 12.8s\n",
            "5:\tlearn: 0.6548303\ttotal: 68ms\tremaining: 11.3s\n",
            "6:\tlearn: 0.6492078\ttotal: 71.5ms\tremaining: 10.1s\n",
            "7:\tlearn: 0.6435597\ttotal: 74.7ms\tremaining: 9.27s\n",
            "8:\tlearn: 0.6377136\ttotal: 78.4ms\tremaining: 8.64s\n",
            "9:\tlearn: 0.6324257\ttotal: 82.2ms\tremaining: 8.13s\n",
            "10:\tlearn: 0.6271686\ttotal: 85.9ms\tremaining: 7.72s\n",
            "11:\tlearn: 0.6218531\ttotal: 89.4ms\tremaining: 7.36s\n",
            "12:\tlearn: 0.6171256\ttotal: 93ms\tremaining: 7.06s\n",
            "13:\tlearn: 0.6125447\ttotal: 96.6ms\tremaining: 6.8s\n",
            "14:\tlearn: 0.6076938\ttotal: 100ms\tremaining: 6.59s\n",
            "15:\tlearn: 0.6029556\ttotal: 104ms\tremaining: 6.39s\n",
            "16:\tlearn: 0.5984414\ttotal: 109ms\tremaining: 6.31s\n",
            "17:\tlearn: 0.5942677\ttotal: 115ms\tremaining: 6.3s\n",
            "18:\tlearn: 0.5901334\ttotal: 119ms\tremaining: 6.14s\n",
            "19:\tlearn: 0.5863326\ttotal: 122ms\tremaining: 6s\n",
            "20:\tlearn: 0.5822967\ttotal: 126ms\tremaining: 5.88s\n",
            "21:\tlearn: 0.5782432\ttotal: 130ms\tremaining: 5.77s\n",
            "22:\tlearn: 0.5742982\ttotal: 133ms\tremaining: 5.66s\n",
            "23:\tlearn: 0.5705157\ttotal: 137ms\tremaining: 5.56s\n",
            "24:\tlearn: 0.5668225\ttotal: 140ms\tremaining: 5.47s\n",
            "25:\tlearn: 0.5633944\ttotal: 144ms\tremaining: 5.38s\n",
            "26:\tlearn: 0.5598725\ttotal: 147ms\tremaining: 5.3s\n",
            "27:\tlearn: 0.5566460\ttotal: 151ms\tremaining: 5.23s\n",
            "28:\tlearn: 0.5534160\ttotal: 154ms\tremaining: 5.16s\n",
            "29:\tlearn: 0.5501721\ttotal: 158ms\tremaining: 5.09s\n",
            "30:\tlearn: 0.5469497\ttotal: 161ms\tremaining: 5.03s\n",
            "31:\tlearn: 0.5439416\ttotal: 165ms\tremaining: 4.98s\n",
            "32:\tlearn: 0.5408948\ttotal: 168ms\tremaining: 4.93s\n",
            "33:\tlearn: 0.5383741\ttotal: 172ms\tremaining: 4.87s\n",
            "34:\tlearn: 0.5360240\ttotal: 175ms\tremaining: 4.83s\n",
            "35:\tlearn: 0.5334344\ttotal: 178ms\tremaining: 4.78s\n",
            "36:\tlearn: 0.5307911\ttotal: 182ms\tremaining: 4.74s\n",
            "37:\tlearn: 0.5286418\ttotal: 184ms\tremaining: 4.65s\n",
            "38:\tlearn: 0.5260326\ttotal: 187ms\tremaining: 4.61s\n",
            "39:\tlearn: 0.5234813\ttotal: 191ms\tremaining: 4.58s\n",
            "40:\tlearn: 0.5209508\ttotal: 194ms\tremaining: 4.55s\n",
            "41:\tlearn: 0.5187045\ttotal: 198ms\tremaining: 4.51s\n",
            "42:\tlearn: 0.5164130\ttotal: 201ms\tremaining: 4.48s\n",
            "43:\tlearn: 0.5142338\ttotal: 205ms\tremaining: 4.46s\n",
            "44:\tlearn: 0.5117802\ttotal: 209ms\tremaining: 4.43s\n",
            "45:\tlearn: 0.5097577\ttotal: 212ms\tremaining: 4.4s\n",
            "46:\tlearn: 0.5076113\ttotal: 216ms\tremaining: 4.38s\n",
            "47:\tlearn: 0.5058280\ttotal: 220ms\tremaining: 4.36s\n",
            "48:\tlearn: 0.5038752\ttotal: 224ms\tremaining: 4.35s\n",
            "49:\tlearn: 0.5017259\ttotal: 228ms\tremaining: 4.33s\n",
            "50:\tlearn: 0.4999993\ttotal: 231ms\tremaining: 4.3s\n",
            "51:\tlearn: 0.4979310\ttotal: 235ms\tremaining: 4.28s\n",
            "52:\tlearn: 0.4963585\ttotal: 239ms\tremaining: 4.26s\n",
            "53:\tlearn: 0.4946178\ttotal: 242ms\tremaining: 4.25s\n",
            "54:\tlearn: 0.4932682\ttotal: 250ms\tremaining: 4.29s\n",
            "55:\tlearn: 0.4915473\ttotal: 253ms\tremaining: 4.27s\n",
            "56:\tlearn: 0.4899732\ttotal: 257ms\tremaining: 4.25s\n",
            "57:\tlearn: 0.4881366\ttotal: 261ms\tremaining: 4.23s\n",
            "58:\tlearn: 0.4867274\ttotal: 264ms\tremaining: 4.21s\n",
            "59:\tlearn: 0.4850429\ttotal: 267ms\tremaining: 4.19s\n",
            "60:\tlearn: 0.4836520\ttotal: 271ms\tremaining: 4.17s\n",
            "61:\tlearn: 0.4823139\ttotal: 275ms\tremaining: 4.15s\n",
            "62:\tlearn: 0.4810347\ttotal: 278ms\tremaining: 4.14s\n",
            "63:\tlearn: 0.4794395\ttotal: 282ms\tremaining: 4.12s\n",
            "64:\tlearn: 0.4781038\ttotal: 285ms\tremaining: 4.1s\n",
            "65:\tlearn: 0.4765314\ttotal: 289ms\tremaining: 4.09s\n",
            "66:\tlearn: 0.4754262\ttotal: 293ms\tremaining: 4.08s\n",
            "67:\tlearn: 0.4741625\ttotal: 297ms\tremaining: 4.06s\n",
            "68:\tlearn: 0.4728513\ttotal: 300ms\tremaining: 4.05s\n",
            "69:\tlearn: 0.4716394\ttotal: 304ms\tremaining: 4.03s\n",
            "70:\tlearn: 0.4702172\ttotal: 307ms\tremaining: 4.02s\n",
            "71:\tlearn: 0.4689571\ttotal: 311ms\tremaining: 4s\n",
            "72:\tlearn: 0.4678165\ttotal: 314ms\tremaining: 3.99s\n",
            "73:\tlearn: 0.4665114\ttotal: 318ms\tremaining: 3.98s\n",
            "74:\tlearn: 0.4654160\ttotal: 321ms\tremaining: 3.96s\n",
            "75:\tlearn: 0.4643719\ttotal: 325ms\tremaining: 3.95s\n",
            "76:\tlearn: 0.4632583\ttotal: 329ms\tremaining: 3.94s\n",
            "77:\tlearn: 0.4622213\ttotal: 332ms\tremaining: 3.93s\n",
            "78:\tlearn: 0.4611763\ttotal: 336ms\tremaining: 3.92s\n",
            "79:\tlearn: 0.4602979\ttotal: 340ms\tremaining: 3.9s\n",
            "80:\tlearn: 0.4593190\ttotal: 343ms\tremaining: 3.89s\n",
            "81:\tlearn: 0.4583532\ttotal: 347ms\tremaining: 3.88s\n",
            "82:\tlearn: 0.4574492\ttotal: 350ms\tremaining: 3.87s\n",
            "83:\tlearn: 0.4565580\ttotal: 354ms\tremaining: 3.86s\n",
            "84:\tlearn: 0.4557928\ttotal: 357ms\tremaining: 3.85s\n",
            "85:\tlearn: 0.4548676\ttotal: 361ms\tremaining: 3.84s\n",
            "86:\tlearn: 0.4539573\ttotal: 365ms\tremaining: 3.83s\n",
            "87:\tlearn: 0.4529797\ttotal: 368ms\tremaining: 3.82s\n",
            "88:\tlearn: 0.4521709\ttotal: 374ms\tremaining: 3.83s\n",
            "89:\tlearn: 0.4514239\ttotal: 377ms\tremaining: 3.81s\n",
            "90:\tlearn: 0.4506491\ttotal: 381ms\tremaining: 3.8s\n",
            "91:\tlearn: 0.4498107\ttotal: 384ms\tremaining: 3.79s\n",
            "92:\tlearn: 0.4488408\ttotal: 388ms\tremaining: 3.78s\n",
            "93:\tlearn: 0.4482032\ttotal: 392ms\tremaining: 3.78s\n",
            "94:\tlearn: 0.4473902\ttotal: 396ms\tremaining: 3.77s\n",
            "95:\tlearn: 0.4465810\ttotal: 399ms\tremaining: 3.76s\n",
            "96:\tlearn: 0.4458133\ttotal: 403ms\tremaining: 3.75s\n",
            "97:\tlearn: 0.4451586\ttotal: 407ms\tremaining: 3.74s\n",
            "98:\tlearn: 0.4444969\ttotal: 411ms\tremaining: 3.74s\n",
            "99:\tlearn: 0.4437562\ttotal: 416ms\tremaining: 3.74s\n",
            "100:\tlearn: 0.4430590\ttotal: 419ms\tremaining: 3.73s\n",
            "101:\tlearn: 0.4422335\ttotal: 423ms\tremaining: 3.72s\n",
            "102:\tlearn: 0.4415691\ttotal: 427ms\tremaining: 3.72s\n",
            "103:\tlearn: 0.4409084\ttotal: 430ms\tremaining: 3.71s\n",
            "104:\tlearn: 0.4402419\ttotal: 434ms\tremaining: 3.7s\n",
            "105:\tlearn: 0.4395769\ttotal: 437ms\tremaining: 3.69s\n",
            "106:\tlearn: 0.4390126\ttotal: 441ms\tremaining: 3.68s\n",
            "107:\tlearn: 0.4383687\ttotal: 447ms\tremaining: 3.69s\n",
            "108:\tlearn: 0.4377692\ttotal: 453ms\tremaining: 3.7s\n",
            "109:\tlearn: 0.4373943\ttotal: 454ms\tremaining: 3.67s\n",
            "110:\tlearn: 0.4367289\ttotal: 458ms\tremaining: 3.66s\n",
            "111:\tlearn: 0.4360722\ttotal: 461ms\tremaining: 3.66s\n",
            "112:\tlearn: 0.4354957\ttotal: 465ms\tremaining: 3.65s\n",
            "113:\tlearn: 0.4349882\ttotal: 469ms\tremaining: 3.64s\n",
            "114:\tlearn: 0.4344389\ttotal: 472ms\tremaining: 3.63s\n",
            "115:\tlearn: 0.4338145\ttotal: 476ms\tremaining: 3.63s\n",
            "116:\tlearn: 0.4333067\ttotal: 480ms\tremaining: 3.62s\n",
            "117:\tlearn: 0.4326761\ttotal: 484ms\tremaining: 3.61s\n",
            "118:\tlearn: 0.4321591\ttotal: 487ms\tremaining: 3.61s\n",
            "119:\tlearn: 0.4316461\ttotal: 491ms\tremaining: 3.6s\n",
            "120:\tlearn: 0.4310985\ttotal: 495ms\tremaining: 3.59s\n",
            "121:\tlearn: 0.4306439\ttotal: 498ms\tremaining: 3.59s\n",
            "122:\tlearn: 0.4301292\ttotal: 502ms\tremaining: 3.58s\n",
            "123:\tlearn: 0.4296423\ttotal: 506ms\tremaining: 3.57s\n",
            "124:\tlearn: 0.4291949\ttotal: 510ms\tremaining: 3.57s\n",
            "125:\tlearn: 0.4287922\ttotal: 513ms\tremaining: 3.56s\n",
            "126:\tlearn: 0.4283470\ttotal: 517ms\tremaining: 3.55s\n",
            "127:\tlearn: 0.4278526\ttotal: 520ms\tremaining: 3.54s\n",
            "128:\tlearn: 0.4273131\ttotal: 524ms\tremaining: 3.54s\n",
            "129:\tlearn: 0.4268001\ttotal: 528ms\tremaining: 3.53s\n",
            "130:\tlearn: 0.4263729\ttotal: 531ms\tremaining: 3.52s\n",
            "131:\tlearn: 0.4258703\ttotal: 535ms\tremaining: 3.52s\n",
            "132:\tlearn: 0.4254613\ttotal: 539ms\tremaining: 3.51s\n",
            "133:\tlearn: 0.4250995\ttotal: 542ms\tremaining: 3.5s\n",
            "134:\tlearn: 0.4247089\ttotal: 546ms\tremaining: 3.5s\n",
            "135:\tlearn: 0.4243234\ttotal: 549ms\tremaining: 3.49s\n",
            "136:\tlearn: 0.4239943\ttotal: 553ms\tremaining: 3.48s\n",
            "137:\tlearn: 0.4236163\ttotal: 556ms\tremaining: 3.47s\n",
            "138:\tlearn: 0.4232768\ttotal: 560ms\tremaining: 3.47s\n",
            "139:\tlearn: 0.4229396\ttotal: 563ms\tremaining: 3.46s\n",
            "140:\tlearn: 0.4225828\ttotal: 567ms\tremaining: 3.45s\n",
            "141:\tlearn: 0.4222292\ttotal: 570ms\tremaining: 3.44s\n",
            "142:\tlearn: 0.4219157\ttotal: 574ms\tremaining: 3.44s\n",
            "143:\tlearn: 0.4215469\ttotal: 577ms\tremaining: 3.43s\n",
            "144:\tlearn: 0.4212062\ttotal: 581ms\tremaining: 3.42s\n",
            "145:\tlearn: 0.4208942\ttotal: 585ms\tremaining: 3.42s\n",
            "146:\tlearn: 0.4205905\ttotal: 588ms\tremaining: 3.41s\n",
            "147:\tlearn: 0.4202535\ttotal: 592ms\tremaining: 3.4s\n",
            "148:\tlearn: 0.4199335\ttotal: 596ms\tremaining: 3.4s\n",
            "149:\tlearn: 0.4196131\ttotal: 599ms\tremaining: 3.4s\n",
            "150:\tlearn: 0.4192243\ttotal: 603ms\tremaining: 3.39s\n",
            "151:\tlearn: 0.4188756\ttotal: 607ms\tremaining: 3.38s\n",
            "152:\tlearn: 0.4186008\ttotal: 610ms\tremaining: 3.38s\n",
            "153:\tlearn: 0.4183512\ttotal: 614ms\tremaining: 3.37s\n",
            "154:\tlearn: 0.4180556\ttotal: 617ms\tremaining: 3.37s\n",
            "155:\tlearn: 0.4177809\ttotal: 621ms\tremaining: 3.36s\n",
            "156:\tlearn: 0.4174301\ttotal: 624ms\tremaining: 3.35s\n",
            "157:\tlearn: 0.4171841\ttotal: 628ms\tremaining: 3.35s\n",
            "158:\tlearn: 0.4169363\ttotal: 631ms\tremaining: 3.34s\n",
            "159:\tlearn: 0.4166597\ttotal: 635ms\tremaining: 3.33s\n",
            "160:\tlearn: 0.4164080\ttotal: 638ms\tremaining: 3.33s\n",
            "161:\tlearn: 0.4161803\ttotal: 644ms\tremaining: 3.33s\n",
            "162:\tlearn: 0.4159494\ttotal: 648ms\tremaining: 3.33s\n",
            "163:\tlearn: 0.4156454\ttotal: 652ms\tremaining: 3.32s\n",
            "164:\tlearn: 0.4153303\ttotal: 655ms\tremaining: 3.32s\n",
            "165:\tlearn: 0.4150166\ttotal: 659ms\tremaining: 3.31s\n",
            "166:\tlearn: 0.4147760\ttotal: 663ms\tremaining: 3.31s\n",
            "167:\tlearn: 0.4145051\ttotal: 666ms\tremaining: 3.3s\n",
            "168:\tlearn: 0.4142421\ttotal: 670ms\tremaining: 3.29s\n",
            "169:\tlearn: 0.4140116\ttotal: 674ms\tremaining: 3.29s\n",
            "170:\tlearn: 0.4137828\ttotal: 677ms\tremaining: 3.28s\n",
            "171:\tlearn: 0.4135224\ttotal: 683ms\tremaining: 3.29s\n",
            "172:\tlearn: 0.4132883\ttotal: 688ms\tremaining: 3.29s\n",
            "173:\tlearn: 0.4130759\ttotal: 697ms\tremaining: 3.31s\n",
            "174:\tlearn: 0.4128467\ttotal: 703ms\tremaining: 3.31s\n",
            "175:\tlearn: 0.4125704\ttotal: 706ms\tremaining: 3.31s\n",
            "176:\tlearn: 0.4123114\ttotal: 710ms\tremaining: 3.3s\n",
            "177:\tlearn: 0.4121080\ttotal: 713ms\tremaining: 3.29s\n",
            "178:\tlearn: 0.4119180\ttotal: 717ms\tremaining: 3.29s\n",
            "179:\tlearn: 0.4117083\ttotal: 721ms\tremaining: 3.28s\n",
            "180:\tlearn: 0.4114612\ttotal: 724ms\tremaining: 3.28s\n",
            "181:\tlearn: 0.4112513\ttotal: 728ms\tremaining: 3.27s\n",
            "182:\tlearn: 0.4110556\ttotal: 731ms\tremaining: 3.26s\n",
            "183:\tlearn: 0.4108659\ttotal: 735ms\tremaining: 3.26s\n",
            "184:\tlearn: 0.4105553\ttotal: 738ms\tremaining: 3.25s\n",
            "185:\tlearn: 0.4103710\ttotal: 742ms\tremaining: 3.25s\n",
            "186:\tlearn: 0.4101344\ttotal: 746ms\tremaining: 3.24s\n",
            "187:\tlearn: 0.4099656\ttotal: 749ms\tremaining: 3.24s\n",
            "188:\tlearn: 0.4097478\ttotal: 753ms\tremaining: 3.23s\n",
            "189:\tlearn: 0.4095558\ttotal: 757ms\tremaining: 3.23s\n",
            "190:\tlearn: 0.4093424\ttotal: 759ms\tremaining: 3.22s\n",
            "191:\tlearn: 0.4090136\ttotal: 763ms\tremaining: 3.21s\n",
            "192:\tlearn: 0.4088296\ttotal: 766ms\tremaining: 3.2s\n",
            "193:\tlearn: 0.4086106\ttotal: 770ms\tremaining: 3.2s\n",
            "194:\tlearn: 0.4084069\ttotal: 774ms\tremaining: 3.19s\n",
            "195:\tlearn: 0.4081938\ttotal: 778ms\tremaining: 3.19s\n",
            "196:\tlearn: 0.4080395\ttotal: 781ms\tremaining: 3.19s\n",
            "197:\tlearn: 0.4078200\ttotal: 785ms\tremaining: 3.18s\n",
            "198:\tlearn: 0.4077544\ttotal: 787ms\tremaining: 3.17s\n",
            "199:\tlearn: 0.4075039\ttotal: 790ms\tremaining: 3.16s\n",
            "200:\tlearn: 0.4073246\ttotal: 794ms\tremaining: 3.15s\n",
            "201:\tlearn: 0.4072136\ttotal: 798ms\tremaining: 3.15s\n",
            "202:\tlearn: 0.4070465\ttotal: 801ms\tremaining: 3.15s\n",
            "203:\tlearn: 0.4068193\ttotal: 805ms\tremaining: 3.14s\n",
            "204:\tlearn: 0.4066147\ttotal: 809ms\tremaining: 3.14s\n",
            "205:\tlearn: 0.4064504\ttotal: 812ms\tremaining: 3.13s\n",
            "206:\tlearn: 0.4063014\ttotal: 816ms\tremaining: 3.13s\n",
            "207:\tlearn: 0.4061409\ttotal: 820ms\tremaining: 3.12s\n",
            "208:\tlearn: 0.4059465\ttotal: 824ms\tremaining: 3.12s\n",
            "209:\tlearn: 0.4057998\ttotal: 827ms\tremaining: 3.11s\n",
            "210:\tlearn: 0.4055975\ttotal: 831ms\tremaining: 3.11s\n",
            "211:\tlearn: 0.4054015\ttotal: 834ms\tremaining: 3.1s\n",
            "212:\tlearn: 0.4051902\ttotal: 841ms\tremaining: 3.11s\n",
            "213:\tlearn: 0.4050192\ttotal: 845ms\tremaining: 3.1s\n",
            "214:\tlearn: 0.4048123\ttotal: 848ms\tremaining: 3.1s\n",
            "215:\tlearn: 0.4046512\ttotal: 852ms\tremaining: 3.09s\n",
            "216:\tlearn: 0.4044282\ttotal: 856ms\tremaining: 3.09s\n",
            "217:\tlearn: 0.4042512\ttotal: 859ms\tremaining: 3.08s\n",
            "218:\tlearn: 0.4040614\ttotal: 863ms\tremaining: 3.08s\n",
            "219:\tlearn: 0.4038915\ttotal: 866ms\tremaining: 3.07s\n",
            "220:\tlearn: 0.4037324\ttotal: 870ms\tremaining: 3.06s\n",
            "221:\tlearn: 0.4035214\ttotal: 873ms\tremaining: 3.06s\n",
            "222:\tlearn: 0.4033866\ttotal: 877ms\tremaining: 3.06s\n",
            "223:\tlearn: 0.4032140\ttotal: 881ms\tremaining: 3.05s\n",
            "224:\tlearn: 0.4030061\ttotal: 884ms\tremaining: 3.04s\n",
            "225:\tlearn: 0.4028308\ttotal: 887ms\tremaining: 3.04s\n",
            "226:\tlearn: 0.4026612\ttotal: 891ms\tremaining: 3.03s\n",
            "227:\tlearn: 0.4025220\ttotal: 895ms\tremaining: 3.03s\n",
            "228:\tlearn: 0.4024071\ttotal: 898ms\tremaining: 3.02s\n",
            "229:\tlearn: 0.4022472\ttotal: 902ms\tremaining: 3.02s\n",
            "230:\tlearn: 0.4021356\ttotal: 905ms\tremaining: 3.01s\n",
            "231:\tlearn: 0.4019412\ttotal: 909ms\tremaining: 3.01s\n",
            "232:\tlearn: 0.4017646\ttotal: 912ms\tremaining: 3s\n",
            "233:\tlearn: 0.4016393\ttotal: 916ms\tremaining: 3s\n",
            "234:\tlearn: 0.4015053\ttotal: 919ms\tremaining: 2.99s\n",
            "235:\tlearn: 0.4013688\ttotal: 923ms\tremaining: 2.99s\n",
            "236:\tlearn: 0.4011719\ttotal: 926ms\tremaining: 2.98s\n",
            "237:\tlearn: 0.4010134\ttotal: 930ms\tremaining: 2.98s\n",
            "238:\tlearn: 0.4008406\ttotal: 933ms\tremaining: 2.97s\n",
            "239:\tlearn: 0.4006934\ttotal: 937ms\tremaining: 2.97s\n",
            "240:\tlearn: 0.4005902\ttotal: 941ms\tremaining: 2.96s\n",
            "241:\tlearn: 0.4004315\ttotal: 944ms\tremaining: 2.96s\n",
            "242:\tlearn: 0.4002991\ttotal: 951ms\tremaining: 2.96s\n",
            "243:\tlearn: 0.4001690\ttotal: 954ms\tremaining: 2.96s\n",
            "244:\tlearn: 0.4000654\ttotal: 958ms\tremaining: 2.95s\n",
            "245:\tlearn: 0.3999451\ttotal: 961ms\tremaining: 2.95s\n",
            "246:\tlearn: 0.3997592\ttotal: 965ms\tremaining: 2.94s\n",
            "247:\tlearn: 0.3996276\ttotal: 968ms\tremaining: 2.94s\n",
            "248:\tlearn: 0.3995088\ttotal: 972ms\tremaining: 2.93s\n",
            "249:\tlearn: 0.3993610\ttotal: 975ms\tremaining: 2.93s\n",
            "250:\tlearn: 0.3992061\ttotal: 979ms\tremaining: 2.92s\n",
            "251:\tlearn: 0.3990669\ttotal: 982ms\tremaining: 2.92s\n",
            "252:\tlearn: 0.3989264\ttotal: 986ms\tremaining: 2.91s\n",
            "253:\tlearn: 0.3987516\ttotal: 991ms\tremaining: 2.91s\n",
            "254:\tlearn: 0.3986241\ttotal: 995ms\tremaining: 2.9s\n",
            "255:\tlearn: 0.3984517\ttotal: 998ms\tremaining: 2.9s\n",
            "256:\tlearn: 0.3983321\ttotal: 1s\tremaining: 2.9s\n",
            "257:\tlearn: 0.3981838\ttotal: 1s\tremaining: 2.89s\n",
            "258:\tlearn: 0.3980242\ttotal: 1.01s\tremaining: 2.89s\n",
            "259:\tlearn: 0.3978419\ttotal: 1.01s\tremaining: 2.88s\n",
            "260:\tlearn: 0.3977274\ttotal: 1.02s\tremaining: 2.88s\n",
            "261:\tlearn: 0.3975829\ttotal: 1.02s\tremaining: 2.87s\n",
            "262:\tlearn: 0.3974258\ttotal: 1.02s\tremaining: 2.87s\n",
            "263:\tlearn: 0.3973639\ttotal: 1.03s\tremaining: 2.86s\n",
            "264:\tlearn: 0.3972054\ttotal: 1.03s\tremaining: 2.86s\n",
            "265:\tlearn: 0.3970945\ttotal: 1.03s\tremaining: 2.85s\n",
            "266:\tlearn: 0.3969318\ttotal: 1.04s\tremaining: 2.86s\n",
            "267:\tlearn: 0.3967748\ttotal: 1.05s\tremaining: 2.86s\n",
            "268:\tlearn: 0.3966378\ttotal: 1.05s\tremaining: 2.85s\n",
            "269:\tlearn: 0.3964590\ttotal: 1.05s\tremaining: 2.85s\n",
            "270:\tlearn: 0.3963292\ttotal: 1.06s\tremaining: 2.84s\n",
            "271:\tlearn: 0.3962094\ttotal: 1.06s\tremaining: 2.84s\n",
            "272:\tlearn: 0.3960641\ttotal: 1.06s\tremaining: 2.83s\n",
            "273:\tlearn: 0.3958854\ttotal: 1.07s\tremaining: 2.83s\n",
            "274:\tlearn: 0.3957451\ttotal: 1.07s\tremaining: 2.83s\n",
            "275:\tlearn: 0.3956313\ttotal: 1.07s\tremaining: 2.82s\n",
            "276:\tlearn: 0.3954972\ttotal: 1.08s\tremaining: 2.82s\n",
            "277:\tlearn: 0.3953922\ttotal: 1.08s\tremaining: 2.81s\n",
            "278:\tlearn: 0.3953163\ttotal: 1.09s\tremaining: 2.81s\n",
            "279:\tlearn: 0.3951779\ttotal: 1.09s\tremaining: 2.8s\n",
            "280:\tlearn: 0.3951044\ttotal: 1.09s\tremaining: 2.8s\n",
            "281:\tlearn: 0.3949797\ttotal: 1.1s\tremaining: 2.79s\n",
            "282:\tlearn: 0.3948874\ttotal: 1.1s\tremaining: 2.79s\n",
            "283:\tlearn: 0.3947376\ttotal: 1.1s\tremaining: 2.78s\n",
            "284:\tlearn: 0.3946293\ttotal: 1.11s\tremaining: 2.78s\n",
            "285:\tlearn: 0.3945306\ttotal: 1.11s\tremaining: 2.77s\n",
            "286:\tlearn: 0.3944479\ttotal: 1.11s\tremaining: 2.77s\n",
            "287:\tlearn: 0.3943488\ttotal: 1.12s\tremaining: 2.76s\n",
            "288:\tlearn: 0.3942591\ttotal: 1.12s\tremaining: 2.76s\n",
            "289:\tlearn: 0.3941233\ttotal: 1.13s\tremaining: 2.75s\n",
            "290:\tlearn: 0.3940285\ttotal: 1.13s\tremaining: 2.75s\n",
            "291:\tlearn: 0.3938989\ttotal: 1.13s\tremaining: 2.75s\n",
            "292:\tlearn: 0.3937636\ttotal: 1.14s\tremaining: 2.74s\n",
            "293:\tlearn: 0.3936197\ttotal: 1.14s\tremaining: 2.74s\n",
            "294:\tlearn: 0.3934728\ttotal: 1.14s\tremaining: 2.73s\n",
            "295:\tlearn: 0.3933661\ttotal: 1.15s\tremaining: 2.73s\n",
            "296:\tlearn: 0.3931972\ttotal: 1.15s\tremaining: 2.72s\n",
            "297:\tlearn: 0.3930613\ttotal: 1.15s\tremaining: 2.72s\n",
            "298:\tlearn: 0.3929154\ttotal: 1.16s\tremaining: 2.72s\n",
            "299:\tlearn: 0.3927982\ttotal: 1.16s\tremaining: 2.72s\n",
            "300:\tlearn: 0.3926831\ttotal: 1.17s\tremaining: 2.71s\n",
            "301:\tlearn: 0.3924979\ttotal: 1.17s\tremaining: 2.71s\n",
            "302:\tlearn: 0.3924267\ttotal: 1.18s\tremaining: 2.7s\n",
            "303:\tlearn: 0.3923195\ttotal: 1.18s\tremaining: 2.7s\n",
            "304:\tlearn: 0.3922320\ttotal: 1.18s\tremaining: 2.69s\n",
            "305:\tlearn: 0.3920979\ttotal: 1.19s\tremaining: 2.69s\n",
            "306:\tlearn: 0.3919617\ttotal: 1.19s\tremaining: 2.69s\n",
            "307:\tlearn: 0.3918405\ttotal: 1.19s\tremaining: 2.68s\n",
            "308:\tlearn: 0.3917374\ttotal: 1.2s\tremaining: 2.68s\n",
            "309:\tlearn: 0.3916453\ttotal: 1.2s\tremaining: 2.67s\n",
            "310:\tlearn: 0.3915327\ttotal: 1.2s\tremaining: 2.67s\n",
            "311:\tlearn: 0.3914351\ttotal: 1.21s\tremaining: 2.66s\n",
            "312:\tlearn: 0.3913111\ttotal: 1.21s\tremaining: 2.66s\n",
            "313:\tlearn: 0.3912031\ttotal: 1.21s\tremaining: 2.65s\n",
            "314:\tlearn: 0.3910486\ttotal: 1.22s\tremaining: 2.65s\n",
            "315:\tlearn: 0.3909820\ttotal: 1.22s\tremaining: 2.64s\n",
            "316:\tlearn: 0.3908657\ttotal: 1.22s\tremaining: 2.64s\n",
            "317:\tlearn: 0.3907369\ttotal: 1.23s\tremaining: 2.63s\n",
            "318:\tlearn: 0.3905632\ttotal: 1.24s\tremaining: 2.64s\n",
            "319:\tlearn: 0.3904525\ttotal: 1.24s\tremaining: 2.63s\n",
            "320:\tlearn: 0.3903594\ttotal: 1.24s\tremaining: 2.63s\n",
            "321:\tlearn: 0.3902764\ttotal: 1.25s\tremaining: 2.63s\n",
            "322:\tlearn: 0.3902132\ttotal: 1.25s\tremaining: 2.62s\n",
            "323:\tlearn: 0.3901505\ttotal: 1.25s\tremaining: 2.62s\n",
            "324:\tlearn: 0.3900307\ttotal: 1.26s\tremaining: 2.61s\n",
            "325:\tlearn: 0.3899429\ttotal: 1.26s\tremaining: 2.61s\n",
            "326:\tlearn: 0.3898269\ttotal: 1.26s\tremaining: 2.6s\n",
            "327:\tlearn: 0.3897507\ttotal: 1.27s\tremaining: 2.6s\n",
            "328:\tlearn: 0.3896535\ttotal: 1.27s\tremaining: 2.59s\n",
            "329:\tlearn: 0.3895731\ttotal: 1.27s\tremaining: 2.59s\n",
            "330:\tlearn: 0.3894657\ttotal: 1.28s\tremaining: 2.59s\n",
            "331:\tlearn: 0.3894013\ttotal: 1.28s\tremaining: 2.58s\n",
            "332:\tlearn: 0.3893626\ttotal: 1.28s\tremaining: 2.58s\n",
            "333:\tlearn: 0.3892615\ttotal: 1.29s\tremaining: 2.57s\n",
            "334:\tlearn: 0.3891958\ttotal: 1.29s\tremaining: 2.57s\n",
            "335:\tlearn: 0.3890688\ttotal: 1.3s\tremaining: 2.56s\n",
            "336:\tlearn: 0.3889795\ttotal: 1.3s\tremaining: 2.56s\n",
            "337:\tlearn: 0.3888494\ttotal: 1.3s\tremaining: 2.55s\n",
            "338:\tlearn: 0.3887727\ttotal: 1.31s\tremaining: 2.55s\n",
            "339:\tlearn: 0.3886621\ttotal: 1.31s\tremaining: 2.54s\n",
            "340:\tlearn: 0.3886082\ttotal: 1.31s\tremaining: 2.54s\n",
            "341:\tlearn: 0.3885264\ttotal: 1.32s\tremaining: 2.54s\n",
            "342:\tlearn: 0.3883859\ttotal: 1.32s\tremaining: 2.53s\n",
            "343:\tlearn: 0.3882754\ttotal: 1.32s\tremaining: 2.53s\n",
            "344:\tlearn: 0.3881830\ttotal: 1.33s\tremaining: 2.52s\n",
            "345:\tlearn: 0.3880971\ttotal: 1.33s\tremaining: 2.52s\n",
            "346:\tlearn: 0.3879987\ttotal: 1.34s\tremaining: 2.52s\n",
            "347:\tlearn: 0.3879127\ttotal: 1.34s\tremaining: 2.51s\n",
            "348:\tlearn: 0.3877954\ttotal: 1.34s\tremaining: 2.51s\n",
            "349:\tlearn: 0.3877032\ttotal: 1.35s\tremaining: 2.5s\n",
            "350:\tlearn: 0.3876635\ttotal: 1.35s\tremaining: 2.5s\n",
            "351:\tlearn: 0.3875656\ttotal: 1.35s\tremaining: 2.49s\n",
            "352:\tlearn: 0.3874955\ttotal: 1.36s\tremaining: 2.49s\n",
            "353:\tlearn: 0.3874203\ttotal: 1.36s\tremaining: 2.48s\n",
            "354:\tlearn: 0.3873354\ttotal: 1.36s\tremaining: 2.48s\n",
            "355:\tlearn: 0.3872334\ttotal: 1.37s\tremaining: 2.47s\n",
            "356:\tlearn: 0.3871437\ttotal: 1.37s\tremaining: 2.47s\n",
            "357:\tlearn: 0.3870657\ttotal: 1.38s\tremaining: 2.47s\n",
            "358:\tlearn: 0.3869722\ttotal: 1.38s\tremaining: 2.46s\n",
            "359:\tlearn: 0.3868496\ttotal: 1.38s\tremaining: 2.46s\n",
            "360:\tlearn: 0.3867524\ttotal: 1.39s\tremaining: 2.45s\n",
            "361:\tlearn: 0.3866724\ttotal: 1.39s\tremaining: 2.45s\n",
            "362:\tlearn: 0.3865454\ttotal: 1.39s\tremaining: 2.45s\n",
            "363:\tlearn: 0.3864556\ttotal: 1.4s\tremaining: 2.44s\n",
            "364:\tlearn: 0.3863731\ttotal: 1.4s\tremaining: 2.44s\n",
            "365:\tlearn: 0.3863070\ttotal: 1.41s\tremaining: 2.44s\n",
            "366:\tlearn: 0.3862155\ttotal: 1.41s\tremaining: 2.43s\n",
            "367:\tlearn: 0.3861456\ttotal: 1.41s\tremaining: 2.43s\n",
            "368:\tlearn: 0.3860414\ttotal: 1.42s\tremaining: 2.42s\n",
            "369:\tlearn: 0.3859472\ttotal: 1.42s\tremaining: 2.42s\n",
            "370:\tlearn: 0.3858783\ttotal: 1.42s\tremaining: 2.42s\n",
            "371:\tlearn: 0.3857947\ttotal: 1.43s\tremaining: 2.41s\n",
            "372:\tlearn: 0.3856933\ttotal: 1.44s\tremaining: 2.41s\n",
            "373:\tlearn: 0.3855784\ttotal: 1.44s\tremaining: 2.41s\n",
            "374:\tlearn: 0.3854848\ttotal: 1.44s\tremaining: 2.4s\n",
            "375:\tlearn: 0.3854133\ttotal: 1.45s\tremaining: 2.4s\n",
            "376:\tlearn: 0.3853655\ttotal: 1.45s\tremaining: 2.4s\n",
            "377:\tlearn: 0.3852849\ttotal: 1.45s\tremaining: 2.39s\n",
            "378:\tlearn: 0.3851687\ttotal: 1.46s\tremaining: 2.39s\n",
            "379:\tlearn: 0.3850977\ttotal: 1.46s\tremaining: 2.38s\n",
            "380:\tlearn: 0.3850143\ttotal: 1.46s\tremaining: 2.38s\n",
            "381:\tlearn: 0.3849694\ttotal: 1.47s\tremaining: 2.38s\n",
            "382:\tlearn: 0.3849203\ttotal: 1.47s\tremaining: 2.37s\n",
            "383:\tlearn: 0.3848496\ttotal: 1.48s\tremaining: 2.37s\n",
            "384:\tlearn: 0.3847583\ttotal: 1.48s\tremaining: 2.36s\n",
            "385:\tlearn: 0.3846641\ttotal: 1.48s\tremaining: 2.36s\n",
            "386:\tlearn: 0.3845507\ttotal: 1.49s\tremaining: 2.35s\n",
            "387:\tlearn: 0.3844959\ttotal: 1.49s\tremaining: 2.35s\n",
            "388:\tlearn: 0.3844104\ttotal: 1.49s\tremaining: 2.35s\n",
            "389:\tlearn: 0.3843368\ttotal: 1.5s\tremaining: 2.34s\n",
            "390:\tlearn: 0.3842439\ttotal: 1.5s\tremaining: 2.34s\n",
            "391:\tlearn: 0.3841769\ttotal: 1.5s\tremaining: 2.33s\n",
            "392:\tlearn: 0.3840485\ttotal: 1.51s\tremaining: 2.33s\n",
            "393:\tlearn: 0.3839987\ttotal: 1.51s\tremaining: 2.32s\n",
            "394:\tlearn: 0.3838359\ttotal: 1.51s\tremaining: 2.32s\n",
            "395:\tlearn: 0.3837680\ttotal: 1.52s\tremaining: 2.32s\n",
            "396:\tlearn: 0.3836915\ttotal: 1.52s\tremaining: 2.31s\n",
            "397:\tlearn: 0.3836061\ttotal: 1.53s\tremaining: 2.31s\n",
            "398:\tlearn: 0.3835223\ttotal: 1.53s\tremaining: 2.31s\n",
            "399:\tlearn: 0.3834537\ttotal: 1.53s\tremaining: 2.3s\n",
            "400:\tlearn: 0.3833517\ttotal: 1.54s\tremaining: 2.3s\n",
            "401:\tlearn: 0.3833151\ttotal: 1.54s\tremaining: 2.29s\n",
            "402:\tlearn: 0.3831884\ttotal: 1.54s\tremaining: 2.29s\n",
            "403:\tlearn: 0.3831338\ttotal: 1.55s\tremaining: 2.29s\n",
            "404:\tlearn: 0.3830522\ttotal: 1.55s\tremaining: 2.28s\n",
            "405:\tlearn: 0.3829887\ttotal: 1.56s\tremaining: 2.28s\n",
            "406:\tlearn: 0.3828814\ttotal: 1.56s\tremaining: 2.27s\n",
            "407:\tlearn: 0.3828108\ttotal: 1.56s\tremaining: 2.27s\n",
            "408:\tlearn: 0.3827319\ttotal: 1.57s\tremaining: 2.27s\n",
            "409:\tlearn: 0.3826073\ttotal: 1.58s\tremaining: 2.27s\n",
            "410:\tlearn: 0.3825589\ttotal: 1.58s\tremaining: 2.27s\n",
            "411:\tlearn: 0.3824872\ttotal: 1.59s\tremaining: 2.27s\n",
            "412:\tlearn: 0.3824329\ttotal: 1.59s\tremaining: 2.26s\n",
            "413:\tlearn: 0.3823322\ttotal: 1.59s\tremaining: 2.26s\n",
            "414:\tlearn: 0.3822383\ttotal: 1.6s\tremaining: 2.25s\n",
            "415:\tlearn: 0.3822254\ttotal: 1.6s\tremaining: 2.25s\n",
            "416:\tlearn: 0.3821737\ttotal: 1.6s\tremaining: 2.24s\n",
            "417:\tlearn: 0.3821298\ttotal: 1.61s\tremaining: 2.24s\n",
            "418:\tlearn: 0.3820407\ttotal: 1.62s\tremaining: 2.24s\n",
            "419:\tlearn: 0.3819739\ttotal: 1.62s\tremaining: 2.24s\n",
            "420:\tlearn: 0.3818606\ttotal: 1.62s\tremaining: 2.23s\n",
            "421:\tlearn: 0.3818193\ttotal: 1.63s\tremaining: 2.23s\n",
            "422:\tlearn: 0.3817334\ttotal: 1.63s\tremaining: 2.23s\n",
            "423:\tlearn: 0.3816657\ttotal: 1.64s\tremaining: 2.22s\n",
            "424:\tlearn: 0.3816017\ttotal: 1.64s\tremaining: 2.22s\n",
            "425:\tlearn: 0.3815348\ttotal: 1.64s\tremaining: 2.21s\n",
            "426:\tlearn: 0.3814577\ttotal: 1.65s\tremaining: 2.21s\n",
            "427:\tlearn: 0.3814178\ttotal: 1.66s\tremaining: 2.21s\n",
            "428:\tlearn: 0.3813266\ttotal: 1.66s\tremaining: 2.21s\n",
            "429:\tlearn: 0.3812363\ttotal: 1.67s\tremaining: 2.21s\n",
            "430:\tlearn: 0.3811436\ttotal: 1.67s\tremaining: 2.2s\n",
            "431:\tlearn: 0.3810765\ttotal: 1.67s\tremaining: 2.2s\n",
            "432:\tlearn: 0.3809613\ttotal: 1.68s\tremaining: 2.2s\n",
            "433:\tlearn: 0.3808660\ttotal: 1.68s\tremaining: 2.19s\n",
            "434:\tlearn: 0.3807991\ttotal: 1.68s\tremaining: 2.19s\n",
            "435:\tlearn: 0.3807430\ttotal: 1.69s\tremaining: 2.18s\n",
            "436:\tlearn: 0.3806813\ttotal: 1.69s\tremaining: 2.18s\n",
            "437:\tlearn: 0.3804980\ttotal: 1.7s\tremaining: 2.18s\n",
            "438:\tlearn: 0.3804034\ttotal: 1.7s\tremaining: 2.17s\n",
            "439:\tlearn: 0.3803450\ttotal: 1.7s\tremaining: 2.17s\n",
            "440:\tlearn: 0.3802526\ttotal: 1.71s\tremaining: 2.16s\n",
            "441:\tlearn: 0.3801613\ttotal: 1.71s\tremaining: 2.16s\n",
            "442:\tlearn: 0.3800562\ttotal: 1.72s\tremaining: 2.16s\n",
            "443:\tlearn: 0.3799660\ttotal: 1.72s\tremaining: 2.15s\n",
            "444:\tlearn: 0.3798872\ttotal: 1.72s\tremaining: 2.15s\n",
            "445:\tlearn: 0.3798254\ttotal: 1.73s\tremaining: 2.14s\n",
            "446:\tlearn: 0.3797372\ttotal: 1.73s\tremaining: 2.14s\n",
            "447:\tlearn: 0.3796665\ttotal: 1.73s\tremaining: 2.13s\n",
            "448:\tlearn: 0.3795514\ttotal: 1.74s\tremaining: 2.13s\n",
            "449:\tlearn: 0.3794735\ttotal: 1.74s\tremaining: 2.13s\n",
            "450:\tlearn: 0.3793951\ttotal: 1.74s\tremaining: 2.12s\n",
            "451:\tlearn: 0.3793606\ttotal: 1.75s\tremaining: 2.12s\n",
            "452:\tlearn: 0.3792974\ttotal: 1.75s\tremaining: 2.12s\n",
            "453:\tlearn: 0.3792432\ttotal: 1.75s\tremaining: 2.11s\n",
            "454:\tlearn: 0.3791473\ttotal: 1.76s\tremaining: 2.11s\n",
            "455:\tlearn: 0.3791095\ttotal: 1.76s\tremaining: 2.1s\n",
            "456:\tlearn: 0.3790083\ttotal: 1.77s\tremaining: 2.1s\n",
            "457:\tlearn: 0.3789507\ttotal: 1.77s\tremaining: 2.09s\n",
            "458:\tlearn: 0.3788872\ttotal: 1.77s\tremaining: 2.09s\n",
            "459:\tlearn: 0.3788127\ttotal: 1.78s\tremaining: 2.08s\n",
            "460:\tlearn: 0.3787104\ttotal: 1.78s\tremaining: 2.08s\n",
            "461:\tlearn: 0.3786744\ttotal: 1.78s\tremaining: 2.08s\n",
            "462:\tlearn: 0.3785741\ttotal: 1.79s\tremaining: 2.07s\n",
            "463:\tlearn: 0.3785085\ttotal: 1.79s\tremaining: 2.07s\n",
            "464:\tlearn: 0.3784291\ttotal: 1.79s\tremaining: 2.06s\n",
            "465:\tlearn: 0.3783175\ttotal: 1.8s\tremaining: 2.06s\n",
            "466:\tlearn: 0.3782206\ttotal: 1.8s\tremaining: 2.06s\n",
            "467:\tlearn: 0.3781283\ttotal: 1.8s\tremaining: 2.05s\n",
            "468:\tlearn: 0.3780219\ttotal: 1.81s\tremaining: 2.05s\n",
            "469:\tlearn: 0.3779448\ttotal: 1.81s\tremaining: 2.04s\n",
            "470:\tlearn: 0.3778665\ttotal: 1.81s\tremaining: 2.04s\n",
            "471:\tlearn: 0.3777994\ttotal: 1.82s\tremaining: 2.04s\n",
            "472:\tlearn: 0.3777445\ttotal: 1.83s\tremaining: 2.04s\n",
            "473:\tlearn: 0.3776499\ttotal: 1.83s\tremaining: 2.04s\n",
            "474:\tlearn: 0.3775803\ttotal: 1.84s\tremaining: 2.03s\n",
            "475:\tlearn: 0.3774657\ttotal: 1.84s\tremaining: 2.03s\n",
            "476:\tlearn: 0.3774018\ttotal: 1.84s\tremaining: 2.02s\n",
            "477:\tlearn: 0.3773516\ttotal: 1.85s\tremaining: 2.02s\n",
            "478:\tlearn: 0.3772558\ttotal: 1.85s\tremaining: 2.01s\n",
            "479:\tlearn: 0.3771829\ttotal: 1.85s\tremaining: 2.01s\n",
            "480:\tlearn: 0.3771189\ttotal: 1.86s\tremaining: 2s\n",
            "481:\tlearn: 0.3770271\ttotal: 1.86s\tremaining: 2s\n",
            "482:\tlearn: 0.3769781\ttotal: 1.87s\tremaining: 2s\n",
            "483:\tlearn: 0.3769068\ttotal: 1.87s\tremaining: 1.99s\n",
            "484:\tlearn: 0.3768447\ttotal: 1.87s\tremaining: 1.99s\n",
            "485:\tlearn: 0.3767714\ttotal: 1.88s\tremaining: 1.99s\n",
            "486:\tlearn: 0.3766813\ttotal: 1.88s\tremaining: 1.98s\n",
            "487:\tlearn: 0.3765760\ttotal: 1.88s\tremaining: 1.98s\n",
            "488:\tlearn: 0.3764623\ttotal: 1.89s\tremaining: 1.97s\n",
            "489:\tlearn: 0.3764105\ttotal: 1.89s\tremaining: 1.97s\n",
            "490:\tlearn: 0.3763229\ttotal: 1.9s\tremaining: 1.96s\n",
            "491:\tlearn: 0.3762790\ttotal: 1.9s\tremaining: 1.96s\n",
            "492:\tlearn: 0.3762128\ttotal: 1.9s\tremaining: 1.96s\n",
            "493:\tlearn: 0.3761580\ttotal: 1.91s\tremaining: 1.95s\n",
            "494:\tlearn: 0.3760988\ttotal: 1.91s\tremaining: 1.95s\n",
            "495:\tlearn: 0.3759798\ttotal: 1.91s\tremaining: 1.94s\n",
            "496:\tlearn: 0.3759318\ttotal: 1.92s\tremaining: 1.94s\n",
            "497:\tlearn: 0.3758804\ttotal: 1.92s\tremaining: 1.94s\n",
            "498:\tlearn: 0.3757985\ttotal: 1.92s\tremaining: 1.93s\n",
            "499:\tlearn: 0.3757341\ttotal: 1.93s\tremaining: 1.93s\n",
            "500:\tlearn: 0.3756878\ttotal: 1.93s\tremaining: 1.92s\n",
            "501:\tlearn: 0.3756113\ttotal: 1.94s\tremaining: 1.92s\n",
            "502:\tlearn: 0.3755844\ttotal: 1.94s\tremaining: 1.92s\n",
            "503:\tlearn: 0.3754746\ttotal: 1.94s\tremaining: 1.91s\n",
            "504:\tlearn: 0.3754251\ttotal: 1.95s\tremaining: 1.91s\n",
            "505:\tlearn: 0.3753384\ttotal: 1.95s\tremaining: 1.9s\n",
            "506:\tlearn: 0.3752676\ttotal: 1.95s\tremaining: 1.9s\n",
            "507:\tlearn: 0.3752277\ttotal: 1.96s\tremaining: 1.9s\n",
            "508:\tlearn: 0.3751630\ttotal: 1.96s\tremaining: 1.89s\n",
            "509:\tlearn: 0.3751456\ttotal: 1.96s\tremaining: 1.89s\n",
            "510:\tlearn: 0.3750538\ttotal: 1.97s\tremaining: 1.88s\n",
            "511:\tlearn: 0.3749862\ttotal: 1.97s\tremaining: 1.88s\n",
            "512:\tlearn: 0.3749000\ttotal: 1.98s\tremaining: 1.87s\n",
            "513:\tlearn: 0.3748136\ttotal: 1.98s\tremaining: 1.87s\n",
            "514:\tlearn: 0.3747629\ttotal: 1.98s\tremaining: 1.87s\n",
            "515:\tlearn: 0.3747275\ttotal: 1.99s\tremaining: 1.86s\n",
            "516:\tlearn: 0.3746322\ttotal: 1.99s\tremaining: 1.86s\n",
            "517:\tlearn: 0.3745532\ttotal: 1.99s\tremaining: 1.85s\n",
            "518:\tlearn: 0.3744561\ttotal: 2s\tremaining: 1.85s\n",
            "519:\tlearn: 0.3743943\ttotal: 2s\tremaining: 1.85s\n",
            "520:\tlearn: 0.3743320\ttotal: 2s\tremaining: 1.84s\n",
            "521:\tlearn: 0.3742390\ttotal: 2.01s\tremaining: 1.84s\n",
            "522:\tlearn: 0.3741559\ttotal: 2.01s\tremaining: 1.83s\n",
            "523:\tlearn: 0.3740943\ttotal: 2.02s\tremaining: 1.83s\n",
            "524:\tlearn: 0.3740579\ttotal: 2.02s\tremaining: 1.83s\n",
            "525:\tlearn: 0.3740063\ttotal: 2.02s\tremaining: 1.82s\n",
            "526:\tlearn: 0.3739645\ttotal: 2.03s\tremaining: 1.82s\n",
            "527:\tlearn: 0.3738926\ttotal: 2.03s\tremaining: 1.82s\n",
            "528:\tlearn: 0.3738384\ttotal: 2.04s\tremaining: 1.81s\n",
            "529:\tlearn: 0.3737250\ttotal: 2.04s\tremaining: 1.81s\n",
            "530:\tlearn: 0.3736526\ttotal: 2.04s\tremaining: 1.81s\n",
            "531:\tlearn: 0.3735350\ttotal: 2.05s\tremaining: 1.8s\n",
            "532:\tlearn: 0.3734850\ttotal: 2.05s\tremaining: 1.8s\n",
            "533:\tlearn: 0.3734437\ttotal: 2.06s\tremaining: 1.79s\n",
            "534:\tlearn: 0.3733785\ttotal: 2.06s\tremaining: 1.79s\n",
            "535:\tlearn: 0.3733316\ttotal: 2.06s\tremaining: 1.78s\n",
            "536:\tlearn: 0.3732246\ttotal: 2.07s\tremaining: 1.78s\n",
            "537:\tlearn: 0.3731778\ttotal: 2.07s\tremaining: 1.78s\n",
            "538:\tlearn: 0.3730936\ttotal: 2.07s\tremaining: 1.77s\n",
            "539:\tlearn: 0.3730016\ttotal: 2.08s\tremaining: 1.77s\n",
            "540:\tlearn: 0.3729495\ttotal: 2.08s\tremaining: 1.76s\n",
            "541:\tlearn: 0.3728842\ttotal: 2.08s\tremaining: 1.76s\n",
            "542:\tlearn: 0.3728029\ttotal: 2.09s\tremaining: 1.76s\n",
            "543:\tlearn: 0.3727539\ttotal: 2.09s\tremaining: 1.75s\n",
            "544:\tlearn: 0.3726805\ttotal: 2.09s\tremaining: 1.75s\n",
            "545:\tlearn: 0.3726273\ttotal: 2.1s\tremaining: 1.74s\n",
            "546:\tlearn: 0.3725855\ttotal: 2.1s\tremaining: 1.74s\n",
            "547:\tlearn: 0.3725260\ttotal: 2.11s\tremaining: 1.74s\n",
            "548:\tlearn: 0.3724814\ttotal: 2.11s\tremaining: 1.73s\n",
            "549:\tlearn: 0.3724084\ttotal: 2.11s\tremaining: 1.73s\n",
            "550:\tlearn: 0.3723521\ttotal: 2.12s\tremaining: 1.73s\n",
            "551:\tlearn: 0.3723152\ttotal: 2.12s\tremaining: 1.72s\n",
            "552:\tlearn: 0.3721780\ttotal: 2.13s\tremaining: 1.72s\n",
            "553:\tlearn: 0.3721234\ttotal: 2.13s\tremaining: 1.71s\n",
            "554:\tlearn: 0.3720853\ttotal: 2.13s\tremaining: 1.71s\n",
            "555:\tlearn: 0.3720182\ttotal: 2.14s\tremaining: 1.71s\n",
            "556:\tlearn: 0.3719561\ttotal: 2.14s\tremaining: 1.71s\n",
            "557:\tlearn: 0.3718862\ttotal: 2.15s\tremaining: 1.7s\n",
            "558:\tlearn: 0.3718148\ttotal: 2.15s\tremaining: 1.7s\n",
            "559:\tlearn: 0.3717657\ttotal: 2.16s\tremaining: 1.69s\n",
            "560:\tlearn: 0.3716772\ttotal: 2.16s\tremaining: 1.69s\n",
            "561:\tlearn: 0.3715898\ttotal: 2.16s\tremaining: 1.69s\n",
            "562:\tlearn: 0.3715094\ttotal: 2.17s\tremaining: 1.68s\n",
            "563:\tlearn: 0.3714324\ttotal: 2.17s\tremaining: 1.68s\n",
            "564:\tlearn: 0.3713500\ttotal: 2.17s\tremaining: 1.67s\n",
            "565:\tlearn: 0.3712876\ttotal: 2.18s\tremaining: 1.67s\n",
            "566:\tlearn: 0.3712366\ttotal: 2.18s\tremaining: 1.67s\n",
            "567:\tlearn: 0.3711830\ttotal: 2.19s\tremaining: 1.66s\n",
            "568:\tlearn: 0.3711038\ttotal: 2.19s\tremaining: 1.66s\n",
            "569:\tlearn: 0.3710104\ttotal: 2.19s\tremaining: 1.65s\n",
            "570:\tlearn: 0.3709151\ttotal: 2.2s\tremaining: 1.65s\n",
            "571:\tlearn: 0.3708451\ttotal: 2.2s\tremaining: 1.65s\n",
            "572:\tlearn: 0.3707761\ttotal: 2.2s\tremaining: 1.64s\n",
            "573:\tlearn: 0.3706880\ttotal: 2.21s\tremaining: 1.64s\n",
            "574:\tlearn: 0.3706083\ttotal: 2.21s\tremaining: 1.63s\n",
            "575:\tlearn: 0.3705111\ttotal: 2.21s\tremaining: 1.63s\n",
            "576:\tlearn: 0.3704142\ttotal: 2.22s\tremaining: 1.63s\n",
            "577:\tlearn: 0.3703688\ttotal: 2.22s\tremaining: 1.62s\n",
            "578:\tlearn: 0.3703350\ttotal: 2.23s\tremaining: 1.62s\n",
            "579:\tlearn: 0.3702534\ttotal: 2.23s\tremaining: 1.62s\n",
            "580:\tlearn: 0.3702213\ttotal: 2.24s\tremaining: 1.61s\n",
            "581:\tlearn: 0.3701415\ttotal: 2.24s\tremaining: 1.61s\n",
            "582:\tlearn: 0.3700723\ttotal: 2.25s\tremaining: 1.61s\n",
            "583:\tlearn: 0.3700223\ttotal: 2.25s\tremaining: 1.6s\n",
            "584:\tlearn: 0.3699439\ttotal: 2.25s\tremaining: 1.6s\n",
            "585:\tlearn: 0.3699039\ttotal: 2.26s\tremaining: 1.59s\n",
            "586:\tlearn: 0.3698316\ttotal: 2.26s\tremaining: 1.59s\n",
            "587:\tlearn: 0.3697151\ttotal: 2.26s\tremaining: 1.58s\n",
            "588:\tlearn: 0.3696320\ttotal: 2.27s\tremaining: 1.58s\n",
            "589:\tlearn: 0.3695504\ttotal: 2.27s\tremaining: 1.58s\n",
            "590:\tlearn: 0.3695051\ttotal: 2.27s\tremaining: 1.57s\n",
            "591:\tlearn: 0.3694597\ttotal: 2.28s\tremaining: 1.57s\n",
            "592:\tlearn: 0.3694203\ttotal: 2.28s\tremaining: 1.57s\n",
            "593:\tlearn: 0.3693369\ttotal: 2.29s\tremaining: 1.56s\n",
            "594:\tlearn: 0.3692765\ttotal: 2.29s\tremaining: 1.56s\n",
            "595:\tlearn: 0.3692144\ttotal: 2.29s\tremaining: 1.55s\n",
            "596:\tlearn: 0.3691575\ttotal: 2.3s\tremaining: 1.55s\n",
            "597:\tlearn: 0.3690415\ttotal: 2.3s\tremaining: 1.55s\n",
            "598:\tlearn: 0.3689947\ttotal: 2.3s\tremaining: 1.54s\n",
            "599:\tlearn: 0.3689498\ttotal: 2.31s\tremaining: 1.54s\n",
            "600:\tlearn: 0.3688638\ttotal: 2.31s\tremaining: 1.53s\n",
            "601:\tlearn: 0.3687662\ttotal: 2.31s\tremaining: 1.53s\n",
            "602:\tlearn: 0.3687077\ttotal: 2.32s\tremaining: 1.53s\n",
            "603:\tlearn: 0.3686414\ttotal: 2.32s\tremaining: 1.52s\n",
            "604:\tlearn: 0.3685565\ttotal: 2.33s\tremaining: 1.52s\n",
            "605:\tlearn: 0.3684404\ttotal: 2.33s\tremaining: 1.51s\n",
            "606:\tlearn: 0.3683888\ttotal: 2.33s\tremaining: 1.51s\n",
            "607:\tlearn: 0.3683072\ttotal: 2.34s\tremaining: 1.51s\n",
            "608:\tlearn: 0.3682233\ttotal: 2.34s\tremaining: 1.5s\n",
            "609:\tlearn: 0.3681883\ttotal: 2.35s\tremaining: 1.5s\n",
            "610:\tlearn: 0.3680797\ttotal: 2.35s\tremaining: 1.5s\n",
            "611:\tlearn: 0.3679844\ttotal: 2.35s\tremaining: 1.49s\n",
            "612:\tlearn: 0.3679245\ttotal: 2.36s\tremaining: 1.49s\n",
            "613:\tlearn: 0.3678795\ttotal: 2.36s\tremaining: 1.48s\n",
            "614:\tlearn: 0.3677741\ttotal: 2.36s\tremaining: 1.48s\n",
            "615:\tlearn: 0.3676780\ttotal: 2.37s\tremaining: 1.48s\n",
            "616:\tlearn: 0.3676213\ttotal: 2.37s\tremaining: 1.47s\n",
            "617:\tlearn: 0.3675452\ttotal: 2.37s\tremaining: 1.47s\n",
            "618:\tlearn: 0.3674660\ttotal: 2.38s\tremaining: 1.46s\n",
            "619:\tlearn: 0.3674341\ttotal: 2.38s\tremaining: 1.46s\n",
            "620:\tlearn: 0.3673330\ttotal: 2.38s\tremaining: 1.46s\n",
            "621:\tlearn: 0.3672610\ttotal: 2.39s\tremaining: 1.45s\n",
            "622:\tlearn: 0.3671819\ttotal: 2.39s\tremaining: 1.45s\n",
            "623:\tlearn: 0.3671291\ttotal: 2.4s\tremaining: 1.44s\n",
            "624:\tlearn: 0.3670645\ttotal: 2.4s\tremaining: 1.44s\n",
            "625:\tlearn: 0.3670063\ttotal: 2.4s\tremaining: 1.44s\n",
            "626:\tlearn: 0.3669045\ttotal: 2.4s\tremaining: 1.43s\n",
            "627:\tlearn: 0.3668536\ttotal: 2.41s\tremaining: 1.43s\n",
            "628:\tlearn: 0.3668154\ttotal: 2.41s\tremaining: 1.42s\n",
            "629:\tlearn: 0.3667615\ttotal: 2.42s\tremaining: 1.42s\n",
            "630:\tlearn: 0.3667163\ttotal: 2.42s\tremaining: 1.42s\n",
            "631:\tlearn: 0.3666606\ttotal: 2.43s\tremaining: 1.41s\n",
            "632:\tlearn: 0.3666180\ttotal: 2.43s\tremaining: 1.41s\n",
            "633:\tlearn: 0.3665664\ttotal: 2.44s\tremaining: 1.41s\n",
            "634:\tlearn: 0.3664834\ttotal: 2.44s\tremaining: 1.4s\n",
            "635:\tlearn: 0.3664097\ttotal: 2.44s\tremaining: 1.4s\n",
            "636:\tlearn: 0.3663311\ttotal: 2.45s\tremaining: 1.39s\n",
            "637:\tlearn: 0.3662968\ttotal: 2.45s\tremaining: 1.39s\n",
            "638:\tlearn: 0.3662567\ttotal: 2.45s\tremaining: 1.39s\n",
            "639:\tlearn: 0.3661940\ttotal: 2.46s\tremaining: 1.38s\n",
            "640:\tlearn: 0.3661309\ttotal: 2.46s\tremaining: 1.38s\n",
            "641:\tlearn: 0.3660911\ttotal: 2.46s\tremaining: 1.37s\n",
            "642:\tlearn: 0.3660178\ttotal: 2.47s\tremaining: 1.37s\n",
            "643:\tlearn: 0.3659772\ttotal: 2.47s\tremaining: 1.37s\n",
            "644:\tlearn: 0.3659114\ttotal: 2.47s\tremaining: 1.36s\n",
            "645:\tlearn: 0.3658389\ttotal: 2.48s\tremaining: 1.36s\n",
            "646:\tlearn: 0.3657811\ttotal: 2.48s\tremaining: 1.35s\n",
            "647:\tlearn: 0.3657328\ttotal: 2.48s\tremaining: 1.35s\n",
            "648:\tlearn: 0.3656767\ttotal: 2.49s\tremaining: 1.35s\n",
            "649:\tlearn: 0.3656144\ttotal: 2.49s\tremaining: 1.34s\n",
            "650:\tlearn: 0.3655589\ttotal: 2.5s\tremaining: 1.34s\n",
            "651:\tlearn: 0.3655074\ttotal: 2.5s\tremaining: 1.33s\n",
            "652:\tlearn: 0.3654669\ttotal: 2.5s\tremaining: 1.33s\n",
            "653:\tlearn: 0.3653810\ttotal: 2.51s\tremaining: 1.33s\n",
            "654:\tlearn: 0.3652967\ttotal: 2.51s\tremaining: 1.32s\n",
            "655:\tlearn: 0.3652517\ttotal: 2.51s\tremaining: 1.32s\n",
            "656:\tlearn: 0.3651896\ttotal: 2.52s\tremaining: 1.31s\n",
            "657:\tlearn: 0.3651300\ttotal: 2.52s\tremaining: 1.31s\n",
            "658:\tlearn: 0.3650739\ttotal: 2.52s\tremaining: 1.31s\n",
            "659:\tlearn: 0.3649907\ttotal: 2.53s\tremaining: 1.3s\n",
            "660:\tlearn: 0.3649438\ttotal: 2.53s\tremaining: 1.3s\n",
            "661:\tlearn: 0.3648614\ttotal: 2.54s\tremaining: 1.29s\n",
            "662:\tlearn: 0.3648052\ttotal: 2.54s\tremaining: 1.29s\n",
            "663:\tlearn: 0.3647340\ttotal: 2.54s\tremaining: 1.29s\n",
            "664:\tlearn: 0.3646512\ttotal: 2.55s\tremaining: 1.28s\n",
            "665:\tlearn: 0.3646177\ttotal: 2.55s\tremaining: 1.28s\n",
            "666:\tlearn: 0.3645575\ttotal: 2.55s\tremaining: 1.27s\n",
            "667:\tlearn: 0.3644525\ttotal: 2.56s\tremaining: 1.27s\n",
            "668:\tlearn: 0.3643911\ttotal: 2.56s\tremaining: 1.27s\n",
            "669:\tlearn: 0.3643537\ttotal: 2.56s\tremaining: 1.26s\n",
            "670:\tlearn: 0.3643234\ttotal: 2.57s\tremaining: 1.26s\n",
            "671:\tlearn: 0.3642867\ttotal: 2.57s\tremaining: 1.25s\n",
            "672:\tlearn: 0.3642511\ttotal: 2.57s\tremaining: 1.25s\n",
            "673:\tlearn: 0.3642062\ttotal: 2.58s\tremaining: 1.25s\n",
            "674:\tlearn: 0.3641107\ttotal: 2.58s\tremaining: 1.24s\n",
            "675:\tlearn: 0.3640385\ttotal: 2.58s\tremaining: 1.24s\n",
            "676:\tlearn: 0.3639421\ttotal: 2.59s\tremaining: 1.24s\n",
            "677:\tlearn: 0.3638776\ttotal: 2.59s\tremaining: 1.23s\n",
            "678:\tlearn: 0.3638389\ttotal: 2.6s\tremaining: 1.23s\n",
            "679:\tlearn: 0.3637811\ttotal: 2.6s\tremaining: 1.22s\n",
            "680:\tlearn: 0.3636911\ttotal: 2.6s\tremaining: 1.22s\n",
            "681:\tlearn: 0.3636592\ttotal: 2.61s\tremaining: 1.22s\n",
            "682:\tlearn: 0.3636106\ttotal: 2.61s\tremaining: 1.21s\n",
            "683:\tlearn: 0.3635328\ttotal: 2.61s\tremaining: 1.21s\n",
            "684:\tlearn: 0.3634657\ttotal: 2.62s\tremaining: 1.2s\n",
            "685:\tlearn: 0.3633874\ttotal: 2.62s\tremaining: 1.2s\n",
            "686:\tlearn: 0.3633189\ttotal: 2.63s\tremaining: 1.2s\n",
            "687:\tlearn: 0.3632438\ttotal: 2.64s\tremaining: 1.2s\n",
            "688:\tlearn: 0.3631698\ttotal: 2.65s\tremaining: 1.19s\n",
            "689:\tlearn: 0.3631313\ttotal: 2.65s\tremaining: 1.19s\n",
            "690:\tlearn: 0.3630915\ttotal: 2.65s\tremaining: 1.19s\n",
            "691:\tlearn: 0.3630112\ttotal: 2.66s\tremaining: 1.18s\n",
            "692:\tlearn: 0.3629137\ttotal: 2.66s\tremaining: 1.18s\n",
            "693:\tlearn: 0.3628488\ttotal: 2.66s\tremaining: 1.17s\n",
            "694:\tlearn: 0.3627923\ttotal: 2.67s\tremaining: 1.17s\n",
            "695:\tlearn: 0.3627339\ttotal: 2.67s\tremaining: 1.17s\n",
            "696:\tlearn: 0.3626849\ttotal: 2.67s\tremaining: 1.16s\n",
            "697:\tlearn: 0.3626218\ttotal: 2.68s\tremaining: 1.16s\n",
            "698:\tlearn: 0.3625820\ttotal: 2.68s\tremaining: 1.16s\n",
            "699:\tlearn: 0.3625389\ttotal: 2.69s\tremaining: 1.15s\n",
            "700:\tlearn: 0.3625058\ttotal: 2.69s\tremaining: 1.15s\n",
            "701:\tlearn: 0.3624573\ttotal: 2.69s\tremaining: 1.14s\n",
            "702:\tlearn: 0.3623683\ttotal: 2.7s\tremaining: 1.14s\n",
            "703:\tlearn: 0.3622538\ttotal: 2.7s\tremaining: 1.14s\n",
            "704:\tlearn: 0.3622023\ttotal: 2.71s\tremaining: 1.13s\n",
            "705:\tlearn: 0.3621740\ttotal: 2.71s\tremaining: 1.13s\n",
            "706:\tlearn: 0.3620943\ttotal: 2.71s\tremaining: 1.12s\n",
            "707:\tlearn: 0.3620605\ttotal: 2.72s\tremaining: 1.12s\n",
            "708:\tlearn: 0.3620134\ttotal: 2.72s\tremaining: 1.12s\n",
            "709:\tlearn: 0.3619455\ttotal: 2.72s\tremaining: 1.11s\n",
            "710:\tlearn: 0.3618860\ttotal: 2.73s\tremaining: 1.11s\n",
            "711:\tlearn: 0.3618109\ttotal: 2.73s\tremaining: 1.1s\n",
            "712:\tlearn: 0.3616917\ttotal: 2.73s\tremaining: 1.1s\n",
            "713:\tlearn: 0.3616339\ttotal: 2.74s\tremaining: 1.1s\n",
            "714:\tlearn: 0.3615921\ttotal: 2.74s\tremaining: 1.09s\n",
            "715:\tlearn: 0.3615567\ttotal: 2.74s\tremaining: 1.09s\n",
            "716:\tlearn: 0.3614836\ttotal: 2.75s\tremaining: 1.08s\n",
            "717:\tlearn: 0.3614309\ttotal: 2.75s\tremaining: 1.08s\n",
            "718:\tlearn: 0.3613872\ttotal: 2.75s\tremaining: 1.08s\n",
            "719:\tlearn: 0.3613362\ttotal: 2.76s\tremaining: 1.07s\n",
            "720:\tlearn: 0.3612851\ttotal: 2.76s\tremaining: 1.07s\n",
            "721:\tlearn: 0.3612466\ttotal: 2.77s\tremaining: 1.06s\n",
            "722:\tlearn: 0.3611984\ttotal: 2.77s\tremaining: 1.06s\n",
            "723:\tlearn: 0.3611968\ttotal: 2.77s\tremaining: 1.05s\n",
            "724:\tlearn: 0.3611208\ttotal: 2.77s\tremaining: 1.05s\n",
            "725:\tlearn: 0.3611178\ttotal: 2.77s\tremaining: 1.05s\n",
            "726:\tlearn: 0.3610682\ttotal: 2.78s\tremaining: 1.04s\n",
            "727:\tlearn: 0.3610109\ttotal: 2.78s\tremaining: 1.04s\n",
            "728:\tlearn: 0.3609647\ttotal: 2.79s\tremaining: 1.03s\n",
            "729:\tlearn: 0.3608964\ttotal: 2.79s\tremaining: 1.03s\n",
            "730:\tlearn: 0.3608208\ttotal: 2.79s\tremaining: 1.03s\n",
            "731:\tlearn: 0.3607804\ttotal: 2.8s\tremaining: 1.02s\n",
            "732:\tlearn: 0.3607386\ttotal: 2.8s\tremaining: 1.02s\n",
            "733:\tlearn: 0.3606893\ttotal: 2.8s\tremaining: 1.01s\n",
            "734:\tlearn: 0.3606146\ttotal: 2.81s\tremaining: 1.01s\n",
            "735:\tlearn: 0.3605200\ttotal: 2.81s\tremaining: 1.01s\n",
            "736:\tlearn: 0.3604517\ttotal: 2.81s\tremaining: 1s\n",
            "737:\tlearn: 0.3603658\ttotal: 2.82s\tremaining: 1s\n",
            "738:\tlearn: 0.3602772\ttotal: 2.82s\tremaining: 996ms\n",
            "739:\tlearn: 0.3602496\ttotal: 2.82s\tremaining: 992ms\n",
            "740:\tlearn: 0.3602125\ttotal: 2.83s\tremaining: 989ms\n",
            "741:\tlearn: 0.3601245\ttotal: 2.83s\tremaining: 986ms\n",
            "742:\tlearn: 0.3600401\ttotal: 2.84s\tremaining: 982ms\n",
            "743:\tlearn: 0.3599735\ttotal: 2.84s\tremaining: 978ms\n",
            "744:\tlearn: 0.3598934\ttotal: 2.85s\tremaining: 974ms\n",
            "745:\tlearn: 0.3598544\ttotal: 2.85s\tremaining: 970ms\n",
            "746:\tlearn: 0.3598120\ttotal: 2.85s\tremaining: 966ms\n",
            "747:\tlearn: 0.3597089\ttotal: 2.86s\tremaining: 962ms\n",
            "748:\tlearn: 0.3596247\ttotal: 2.86s\tremaining: 958ms\n",
            "749:\tlearn: 0.3595272\ttotal: 2.86s\tremaining: 954ms\n",
            "750:\tlearn: 0.3594531\ttotal: 2.87s\tremaining: 951ms\n",
            "751:\tlearn: 0.3593590\ttotal: 2.87s\tremaining: 947ms\n",
            "752:\tlearn: 0.3593238\ttotal: 2.87s\tremaining: 943ms\n",
            "753:\tlearn: 0.3592822\ttotal: 2.88s\tremaining: 939ms\n",
            "754:\tlearn: 0.3592461\ttotal: 2.88s\tremaining: 935ms\n",
            "755:\tlearn: 0.3592060\ttotal: 2.88s\tremaining: 931ms\n",
            "756:\tlearn: 0.3591043\ttotal: 2.89s\tremaining: 927ms\n",
            "757:\tlearn: 0.3590184\ttotal: 2.89s\tremaining: 923ms\n",
            "758:\tlearn: 0.3589284\ttotal: 2.9s\tremaining: 919ms\n",
            "759:\tlearn: 0.3588377\ttotal: 2.9s\tremaining: 915ms\n",
            "760:\tlearn: 0.3587550\ttotal: 2.9s\tremaining: 911ms\n",
            "761:\tlearn: 0.3586855\ttotal: 2.9s\tremaining: 908ms\n",
            "762:\tlearn: 0.3586390\ttotal: 2.91s\tremaining: 904ms\n",
            "763:\tlearn: 0.3586382\ttotal: 2.91s\tremaining: 900ms\n",
            "764:\tlearn: 0.3585972\ttotal: 2.92s\tremaining: 896ms\n",
            "765:\tlearn: 0.3585632\ttotal: 2.92s\tremaining: 892ms\n",
            "766:\tlearn: 0.3585124\ttotal: 2.92s\tremaining: 888ms\n",
            "767:\tlearn: 0.3584749\ttotal: 2.92s\tremaining: 884ms\n",
            "768:\tlearn: 0.3584083\ttotal: 2.93s\tremaining: 880ms\n",
            "769:\tlearn: 0.3582932\ttotal: 2.93s\tremaining: 876ms\n",
            "770:\tlearn: 0.3582232\ttotal: 2.94s\tremaining: 872ms\n",
            "771:\tlearn: 0.3581593\ttotal: 2.94s\tremaining: 868ms\n",
            "772:\tlearn: 0.3581073\ttotal: 2.94s\tremaining: 864ms\n",
            "773:\tlearn: 0.3580735\ttotal: 2.95s\tremaining: 860ms\n",
            "774:\tlearn: 0.3580196\ttotal: 2.95s\tremaining: 857ms\n",
            "775:\tlearn: 0.3579906\ttotal: 2.95s\tremaining: 853ms\n",
            "776:\tlearn: 0.3579238\ttotal: 2.96s\tremaining: 849ms\n",
            "777:\tlearn: 0.3578412\ttotal: 2.96s\tremaining: 845ms\n",
            "778:\tlearn: 0.3578016\ttotal: 2.96s\tremaining: 841ms\n",
            "779:\tlearn: 0.3577215\ttotal: 2.97s\tremaining: 837ms\n",
            "780:\tlearn: 0.3576401\ttotal: 2.97s\tremaining: 833ms\n",
            "781:\tlearn: 0.3575898\ttotal: 2.97s\tremaining: 829ms\n",
            "782:\tlearn: 0.3575585\ttotal: 2.98s\tremaining: 825ms\n",
            "783:\tlearn: 0.3575038\ttotal: 2.98s\tremaining: 822ms\n",
            "784:\tlearn: 0.3574262\ttotal: 2.98s\tremaining: 818ms\n",
            "785:\tlearn: 0.3573199\ttotal: 2.99s\tremaining: 814ms\n",
            "786:\tlearn: 0.3572863\ttotal: 2.99s\tremaining: 810ms\n",
            "787:\tlearn: 0.3572048\ttotal: 3s\tremaining: 806ms\n",
            "788:\tlearn: 0.3571483\ttotal: 3s\tremaining: 802ms\n",
            "789:\tlearn: 0.3570974\ttotal: 3s\tremaining: 798ms\n",
            "790:\tlearn: 0.3570533\ttotal: 3.01s\tremaining: 795ms\n",
            "791:\tlearn: 0.3570077\ttotal: 3.01s\tremaining: 791ms\n",
            "792:\tlearn: 0.3569535\ttotal: 3.01s\tremaining: 787ms\n",
            "793:\tlearn: 0.3569099\ttotal: 3.02s\tremaining: 783ms\n",
            "794:\tlearn: 0.3568461\ttotal: 3.02s\tremaining: 779ms\n",
            "795:\tlearn: 0.3567916\ttotal: 3.02s\tremaining: 775ms\n",
            "796:\tlearn: 0.3567184\ttotal: 3.03s\tremaining: 772ms\n",
            "797:\tlearn: 0.3566626\ttotal: 3.04s\tremaining: 768ms\n",
            "798:\tlearn: 0.3565586\ttotal: 3.04s\tremaining: 765ms\n",
            "799:\tlearn: 0.3564774\ttotal: 3.04s\tremaining: 761ms\n",
            "800:\tlearn: 0.3564147\ttotal: 3.04s\tremaining: 757ms\n",
            "801:\tlearn: 0.3563529\ttotal: 3.05s\tremaining: 753ms\n",
            "802:\tlearn: 0.3562754\ttotal: 3.05s\tremaining: 749ms\n",
            "803:\tlearn: 0.3562370\ttotal: 3.06s\tremaining: 745ms\n",
            "804:\tlearn: 0.3561749\ttotal: 3.06s\tremaining: 741ms\n",
            "805:\tlearn: 0.3561403\ttotal: 3.06s\tremaining: 737ms\n",
            "806:\tlearn: 0.3560994\ttotal: 3.07s\tremaining: 734ms\n",
            "807:\tlearn: 0.3560487\ttotal: 3.07s\tremaining: 730ms\n",
            "808:\tlearn: 0.3559862\ttotal: 3.08s\tremaining: 727ms\n",
            "809:\tlearn: 0.3559391\ttotal: 3.08s\tremaining: 723ms\n",
            "810:\tlearn: 0.3558544\ttotal: 3.09s\tremaining: 719ms\n",
            "811:\tlearn: 0.3558114\ttotal: 3.09s\tremaining: 716ms\n",
            "812:\tlearn: 0.3557103\ttotal: 3.09s\tremaining: 712ms\n",
            "813:\tlearn: 0.3556465\ttotal: 3.1s\tremaining: 708ms\n",
            "814:\tlearn: 0.3555501\ttotal: 3.1s\tremaining: 704ms\n",
            "815:\tlearn: 0.3555031\ttotal: 3.1s\tremaining: 700ms\n",
            "816:\tlearn: 0.3554692\ttotal: 3.11s\tremaining: 696ms\n",
            "817:\tlearn: 0.3554093\ttotal: 3.11s\tremaining: 692ms\n",
            "818:\tlearn: 0.3553665\ttotal: 3.12s\tremaining: 689ms\n",
            "819:\tlearn: 0.3553074\ttotal: 3.12s\tremaining: 685ms\n",
            "820:\tlearn: 0.3552587\ttotal: 3.12s\tremaining: 681ms\n",
            "821:\tlearn: 0.3552061\ttotal: 3.13s\tremaining: 677ms\n",
            "822:\tlearn: 0.3551583\ttotal: 3.13s\tremaining: 673ms\n",
            "823:\tlearn: 0.3551037\ttotal: 3.13s\tremaining: 669ms\n",
            "824:\tlearn: 0.3550509\ttotal: 3.14s\tremaining: 665ms\n",
            "825:\tlearn: 0.3549817\ttotal: 3.14s\tremaining: 662ms\n",
            "826:\tlearn: 0.3549048\ttotal: 3.14s\tremaining: 658ms\n",
            "827:\tlearn: 0.3548070\ttotal: 3.15s\tremaining: 654ms\n",
            "828:\tlearn: 0.3547464\ttotal: 3.15s\tremaining: 650ms\n",
            "829:\tlearn: 0.3547037\ttotal: 3.15s\tremaining: 646ms\n",
            "830:\tlearn: 0.3546216\ttotal: 3.16s\tremaining: 642ms\n",
            "831:\tlearn: 0.3545389\ttotal: 3.16s\tremaining: 639ms\n",
            "832:\tlearn: 0.3544579\ttotal: 3.17s\tremaining: 635ms\n",
            "833:\tlearn: 0.3543953\ttotal: 3.17s\tremaining: 631ms\n",
            "834:\tlearn: 0.3543158\ttotal: 3.17s\tremaining: 627ms\n",
            "835:\tlearn: 0.3542681\ttotal: 3.18s\tremaining: 623ms\n",
            "836:\tlearn: 0.3542015\ttotal: 3.18s\tremaining: 619ms\n",
            "837:\tlearn: 0.3541539\ttotal: 3.18s\tremaining: 616ms\n",
            "838:\tlearn: 0.3540819\ttotal: 3.19s\tremaining: 612ms\n",
            "839:\tlearn: 0.3540166\ttotal: 3.19s\tremaining: 608ms\n",
            "840:\tlearn: 0.3540108\ttotal: 3.19s\tremaining: 604ms\n",
            "841:\tlearn: 0.3539326\ttotal: 3.2s\tremaining: 600ms\n",
            "842:\tlearn: 0.3538758\ttotal: 3.2s\tremaining: 596ms\n",
            "843:\tlearn: 0.3538296\ttotal: 3.2s\tremaining: 592ms\n",
            "844:\tlearn: 0.3537720\ttotal: 3.21s\tremaining: 588ms\n",
            "845:\tlearn: 0.3537126\ttotal: 3.21s\tremaining: 585ms\n",
            "846:\tlearn: 0.3536606\ttotal: 3.21s\tremaining: 581ms\n",
            "847:\tlearn: 0.3536494\ttotal: 3.22s\tremaining: 577ms\n",
            "848:\tlearn: 0.3535566\ttotal: 3.23s\tremaining: 574ms\n",
            "849:\tlearn: 0.3535173\ttotal: 3.23s\tremaining: 570ms\n",
            "850:\tlearn: 0.3534578\ttotal: 3.23s\tremaining: 566ms\n",
            "851:\tlearn: 0.3534022\ttotal: 3.23s\tremaining: 562ms\n",
            "852:\tlearn: 0.3533380\ttotal: 3.24s\tremaining: 558ms\n",
            "853:\tlearn: 0.3532637\ttotal: 3.24s\tremaining: 554ms\n",
            "854:\tlearn: 0.3532096\ttotal: 3.25s\tremaining: 551ms\n",
            "855:\tlearn: 0.3531831\ttotal: 3.25s\tremaining: 547ms\n",
            "856:\tlearn: 0.3531294\ttotal: 3.25s\tremaining: 543ms\n",
            "857:\tlearn: 0.3530667\ttotal: 3.26s\tremaining: 540ms\n",
            "858:\tlearn: 0.3530439\ttotal: 3.26s\tremaining: 536ms\n",
            "859:\tlearn: 0.3529719\ttotal: 3.27s\tremaining: 532ms\n",
            "860:\tlearn: 0.3528959\ttotal: 3.27s\tremaining: 528ms\n",
            "861:\tlearn: 0.3528239\ttotal: 3.27s\tremaining: 524ms\n",
            "862:\tlearn: 0.3527359\ttotal: 3.28s\tremaining: 520ms\n",
            "863:\tlearn: 0.3526761\ttotal: 3.28s\tremaining: 517ms\n",
            "864:\tlearn: 0.3526146\ttotal: 3.28s\tremaining: 513ms\n",
            "865:\tlearn: 0.3525417\ttotal: 3.29s\tremaining: 509ms\n",
            "866:\tlearn: 0.3524783\ttotal: 3.29s\tremaining: 505ms\n",
            "867:\tlearn: 0.3524371\ttotal: 3.29s\tremaining: 501ms\n",
            "868:\tlearn: 0.3523713\ttotal: 3.3s\tremaining: 497ms\n",
            "869:\tlearn: 0.3522893\ttotal: 3.3s\tremaining: 494ms\n",
            "870:\tlearn: 0.3522497\ttotal: 3.31s\tremaining: 490ms\n",
            "871:\tlearn: 0.3521690\ttotal: 3.31s\tremaining: 486ms\n",
            "872:\tlearn: 0.3521171\ttotal: 3.31s\tremaining: 482ms\n",
            "873:\tlearn: 0.3520434\ttotal: 3.32s\tremaining: 478ms\n",
            "874:\tlearn: 0.3519955\ttotal: 3.32s\tremaining: 475ms\n",
            "875:\tlearn: 0.3519474\ttotal: 3.33s\tremaining: 471ms\n",
            "876:\tlearn: 0.3518956\ttotal: 3.33s\tremaining: 467ms\n",
            "877:\tlearn: 0.3518544\ttotal: 3.33s\tremaining: 463ms\n",
            "878:\tlearn: 0.3517818\ttotal: 3.33s\tremaining: 459ms\n",
            "879:\tlearn: 0.3517415\ttotal: 3.34s\tremaining: 455ms\n",
            "880:\tlearn: 0.3516885\ttotal: 3.34s\tremaining: 452ms\n",
            "881:\tlearn: 0.3516523\ttotal: 3.35s\tremaining: 448ms\n",
            "882:\tlearn: 0.3516033\ttotal: 3.35s\tremaining: 444ms\n",
            "883:\tlearn: 0.3515293\ttotal: 3.35s\tremaining: 440ms\n",
            "884:\tlearn: 0.3514447\ttotal: 3.36s\tremaining: 436ms\n",
            "885:\tlearn: 0.3513632\ttotal: 3.36s\tremaining: 432ms\n",
            "886:\tlearn: 0.3512563\ttotal: 3.36s\tremaining: 429ms\n",
            "887:\tlearn: 0.3511935\ttotal: 3.37s\tremaining: 425ms\n",
            "888:\tlearn: 0.3510972\ttotal: 3.37s\tremaining: 421ms\n",
            "889:\tlearn: 0.3510160\ttotal: 3.38s\tremaining: 417ms\n",
            "890:\tlearn: 0.3509536\ttotal: 3.38s\tremaining: 413ms\n",
            "891:\tlearn: 0.3509106\ttotal: 3.38s\tremaining: 410ms\n",
            "892:\tlearn: 0.3508534\ttotal: 3.39s\tremaining: 406ms\n",
            "893:\tlearn: 0.3507577\ttotal: 3.39s\tremaining: 402ms\n",
            "894:\tlearn: 0.3507153\ttotal: 3.39s\tremaining: 398ms\n",
            "895:\tlearn: 0.3506665\ttotal: 3.4s\tremaining: 394ms\n",
            "896:\tlearn: 0.3506275\ttotal: 3.4s\tremaining: 391ms\n",
            "897:\tlearn: 0.3505599\ttotal: 3.4s\tremaining: 387ms\n",
            "898:\tlearn: 0.3505195\ttotal: 3.41s\tremaining: 383ms\n",
            "899:\tlearn: 0.3504038\ttotal: 3.41s\tremaining: 379ms\n",
            "900:\tlearn: 0.3503468\ttotal: 3.41s\tremaining: 375ms\n",
            "901:\tlearn: 0.3502877\ttotal: 3.42s\tremaining: 371ms\n",
            "902:\tlearn: 0.3502144\ttotal: 3.43s\tremaining: 368ms\n",
            "903:\tlearn: 0.3501591\ttotal: 3.43s\tremaining: 365ms\n",
            "904:\tlearn: 0.3501094\ttotal: 3.44s\tremaining: 361ms\n",
            "905:\tlearn: 0.3500734\ttotal: 3.44s\tremaining: 357ms\n",
            "906:\tlearn: 0.3500166\ttotal: 3.44s\tremaining: 353ms\n",
            "907:\tlearn: 0.3499755\ttotal: 3.45s\tremaining: 349ms\n",
            "908:\tlearn: 0.3499158\ttotal: 3.45s\tremaining: 346ms\n",
            "909:\tlearn: 0.3498612\ttotal: 3.46s\tremaining: 342ms\n",
            "910:\tlearn: 0.3498112\ttotal: 3.46s\tremaining: 338ms\n",
            "911:\tlearn: 0.3497468\ttotal: 3.46s\tremaining: 334ms\n",
            "912:\tlearn: 0.3496777\ttotal: 3.47s\tremaining: 330ms\n",
            "913:\tlearn: 0.3496101\ttotal: 3.47s\tremaining: 326ms\n",
            "914:\tlearn: 0.3495695\ttotal: 3.48s\tremaining: 323ms\n",
            "915:\tlearn: 0.3494881\ttotal: 3.48s\tremaining: 319ms\n",
            "916:\tlearn: 0.3494317\ttotal: 3.48s\tremaining: 315ms\n",
            "917:\tlearn: 0.3493906\ttotal: 3.49s\tremaining: 312ms\n",
            "918:\tlearn: 0.3493372\ttotal: 3.49s\tremaining: 308ms\n",
            "919:\tlearn: 0.3493049\ttotal: 3.5s\tremaining: 304ms\n",
            "920:\tlearn: 0.3492288\ttotal: 3.5s\tremaining: 300ms\n",
            "921:\tlearn: 0.3491980\ttotal: 3.5s\tremaining: 296ms\n",
            "922:\tlearn: 0.3491575\ttotal: 3.51s\tremaining: 293ms\n",
            "923:\tlearn: 0.3491131\ttotal: 3.51s\tremaining: 289ms\n",
            "924:\tlearn: 0.3490347\ttotal: 3.51s\tremaining: 285ms\n",
            "925:\tlearn: 0.3489758\ttotal: 3.52s\tremaining: 281ms\n",
            "926:\tlearn: 0.3488942\ttotal: 3.52s\tremaining: 277ms\n",
            "927:\tlearn: 0.3488443\ttotal: 3.52s\tremaining: 274ms\n",
            "928:\tlearn: 0.3488086\ttotal: 3.53s\tremaining: 270ms\n",
            "929:\tlearn: 0.3487210\ttotal: 3.53s\tremaining: 266ms\n",
            "930:\tlearn: 0.3486602\ttotal: 3.54s\tremaining: 262ms\n",
            "931:\tlearn: 0.3486198\ttotal: 3.54s\tremaining: 258ms\n",
            "932:\tlearn: 0.3485423\ttotal: 3.54s\tremaining: 254ms\n",
            "933:\tlearn: 0.3484922\ttotal: 3.55s\tremaining: 251ms\n",
            "934:\tlearn: 0.3484244\ttotal: 3.55s\tremaining: 247ms\n",
            "935:\tlearn: 0.3483837\ttotal: 3.55s\tremaining: 243ms\n",
            "936:\tlearn: 0.3483069\ttotal: 3.56s\tremaining: 239ms\n",
            "937:\tlearn: 0.3482335\ttotal: 3.56s\tremaining: 235ms\n",
            "938:\tlearn: 0.3481515\ttotal: 3.56s\tremaining: 232ms\n",
            "939:\tlearn: 0.3480840\ttotal: 3.57s\tremaining: 228ms\n",
            "940:\tlearn: 0.3480420\ttotal: 3.57s\tremaining: 224ms\n",
            "941:\tlearn: 0.3479900\ttotal: 3.58s\tremaining: 220ms\n",
            "942:\tlearn: 0.3479334\ttotal: 3.58s\tremaining: 216ms\n",
            "943:\tlearn: 0.3478625\ttotal: 3.58s\tremaining: 213ms\n",
            "944:\tlearn: 0.3478037\ttotal: 3.59s\tremaining: 209ms\n",
            "945:\tlearn: 0.3477444\ttotal: 3.59s\tremaining: 205ms\n",
            "946:\tlearn: 0.3477033\ttotal: 3.59s\tremaining: 201ms\n",
            "947:\tlearn: 0.3476220\ttotal: 3.6s\tremaining: 197ms\n",
            "948:\tlearn: 0.3476168\ttotal: 3.6s\tremaining: 194ms\n",
            "949:\tlearn: 0.3475751\ttotal: 3.61s\tremaining: 190ms\n",
            "950:\tlearn: 0.3475135\ttotal: 3.61s\tremaining: 186ms\n",
            "951:\tlearn: 0.3474578\ttotal: 3.62s\tremaining: 182ms\n",
            "952:\tlearn: 0.3473973\ttotal: 3.62s\tremaining: 178ms\n",
            "953:\tlearn: 0.3472987\ttotal: 3.62s\tremaining: 175ms\n",
            "954:\tlearn: 0.3472365\ttotal: 3.63s\tremaining: 171ms\n",
            "955:\tlearn: 0.3471625\ttotal: 3.63s\tremaining: 167ms\n",
            "956:\tlearn: 0.3471097\ttotal: 3.64s\tremaining: 163ms\n",
            "957:\tlearn: 0.3470625\ttotal: 3.64s\tremaining: 160ms\n",
            "958:\tlearn: 0.3470053\ttotal: 3.64s\tremaining: 156ms\n",
            "959:\tlearn: 0.3469612\ttotal: 3.65s\tremaining: 152ms\n",
            "960:\tlearn: 0.3469136\ttotal: 3.65s\tremaining: 148ms\n",
            "961:\tlearn: 0.3468706\ttotal: 3.65s\tremaining: 144ms\n",
            "962:\tlearn: 0.3468100\ttotal: 3.66s\tremaining: 141ms\n",
            "963:\tlearn: 0.3467809\ttotal: 3.66s\tremaining: 137ms\n",
            "964:\tlearn: 0.3467363\ttotal: 3.67s\tremaining: 133ms\n",
            "965:\tlearn: 0.3466891\ttotal: 3.67s\tremaining: 129ms\n",
            "966:\tlearn: 0.3466294\ttotal: 3.67s\tremaining: 125ms\n",
            "967:\tlearn: 0.3465761\ttotal: 3.68s\tremaining: 122ms\n",
            "968:\tlearn: 0.3465050\ttotal: 3.68s\tremaining: 118ms\n",
            "969:\tlearn: 0.3464663\ttotal: 3.68s\tremaining: 114ms\n",
            "970:\tlearn: 0.3464008\ttotal: 3.69s\tremaining: 110ms\n",
            "971:\tlearn: 0.3463199\ttotal: 3.69s\tremaining: 106ms\n",
            "972:\tlearn: 0.3462774\ttotal: 3.69s\tremaining: 103ms\n",
            "973:\tlearn: 0.3461955\ttotal: 3.7s\tremaining: 98.7ms\n",
            "974:\tlearn: 0.3461551\ttotal: 3.7s\tremaining: 94.9ms\n",
            "975:\tlearn: 0.3461030\ttotal: 3.71s\tremaining: 91.1ms\n",
            "976:\tlearn: 0.3460310\ttotal: 3.71s\tremaining: 87.3ms\n",
            "977:\tlearn: 0.3459408\ttotal: 3.71s\tremaining: 83.5ms\n",
            "978:\tlearn: 0.3458618\ttotal: 3.71s\tremaining: 79.7ms\n",
            "979:\tlearn: 0.3458049\ttotal: 3.72s\tremaining: 75.9ms\n",
            "980:\tlearn: 0.3457613\ttotal: 3.72s\tremaining: 72.1ms\n",
            "981:\tlearn: 0.3457078\ttotal: 3.73s\tremaining: 68.3ms\n",
            "982:\tlearn: 0.3456433\ttotal: 3.73s\tremaining: 64.5ms\n",
            "983:\tlearn: 0.3455734\ttotal: 3.73s\tremaining: 60.7ms\n",
            "984:\tlearn: 0.3455132\ttotal: 3.74s\tremaining: 56.9ms\n",
            "985:\tlearn: 0.3454533\ttotal: 3.74s\tremaining: 53.1ms\n",
            "986:\tlearn: 0.3453916\ttotal: 3.74s\tremaining: 49.3ms\n",
            "987:\tlearn: 0.3453476\ttotal: 3.75s\tremaining: 45.5ms\n",
            "988:\tlearn: 0.3452919\ttotal: 3.75s\tremaining: 41.7ms\n",
            "989:\tlearn: 0.3452161\ttotal: 3.75s\tremaining: 37.9ms\n",
            "990:\tlearn: 0.3451439\ttotal: 3.76s\tremaining: 34.1ms\n",
            "991:\tlearn: 0.3451029\ttotal: 3.76s\tremaining: 30.3ms\n",
            "992:\tlearn: 0.3449962\ttotal: 3.77s\tremaining: 26.6ms\n",
            "993:\tlearn: 0.3449597\ttotal: 3.77s\tremaining: 22.8ms\n",
            "994:\tlearn: 0.3448990\ttotal: 3.77s\tremaining: 19ms\n",
            "995:\tlearn: 0.3448093\ttotal: 3.78s\tremaining: 15.2ms\n",
            "996:\tlearn: 0.3447763\ttotal: 3.78s\tremaining: 11.4ms\n",
            "997:\tlearn: 0.3447158\ttotal: 3.78s\tremaining: 7.58ms\n",
            "998:\tlearn: 0.3446527\ttotal: 3.79s\tremaining: 3.79ms\n",
            "999:\tlearn: 0.3446048\ttotal: 3.79s\tremaining: 0us\n"
          ]
        },
        {
          "output_type": "execute_result",
          "data": {
            "text/plain": [
              "<catboost.core.CatBoostClassifier at 0x7fae9faf1d10>"
            ]
          },
          "metadata": {},
          "execution_count": 59
        }
      ]
    },
    {
      "cell_type": "code",
      "metadata": {
        "colab": {
          "base_uri": "https://localhost:8080/"
        },
        "id": "Eee6xArdkqUi",
        "outputId": "4a5c7bf4-e210-4bd0-a911-2ba04a330189"
      },
      "source": [
        "cat_pred = cat.predict(X_test)\n",
        "accuracy_score(y_test, cat_pred)"
      ],
      "execution_count": 60,
      "outputs": [
        {
          "output_type": "execute_result",
          "data": {
            "text/plain": [
              "0.8056872037914692"
            ]
          },
          "metadata": {},
          "execution_count": 60
        }
      ]
    },
    {
      "cell_type": "code",
      "metadata": {
        "colab": {
          "base_uri": "https://localhost:8080/"
        },
        "id": "BHgaNuRekqpM",
        "outputId": "67ae3ed7-9cb3-4fd6-ba73-b756e7b131b4"
      },
      "source": [
        "print(f\"Accuracy score for Train data: {cat.score(X_train , y_train)}\")\n",
        "print(f\"Accuracy Score for Test data: {accuracy_score(y_test, cat_pred)}\")"
      ],
      "execution_count": 61,
      "outputs": [
        {
          "output_type": "stream",
          "name": "stdout",
          "text": [
            "Accuracy score for Train data: 0.8427468508736287\n",
            "Accuracy Score for Test data: 0.8056872037914692\n"
          ]
        }
      ]
    },
    {
      "cell_type": "code",
      "metadata": {
        "colab": {
          "base_uri": "https://localhost:8080/"
        },
        "id": "r4NGUEYUYC66",
        "outputId": "b085dd0c-b497-4420-c8f8-7a8578703d94"
      },
      "source": [
        "print(classification_report(y_test,cat_pred))"
      ],
      "execution_count": 62,
      "outputs": [
        {
          "output_type": "stream",
          "name": "stdout",
          "text": [
            "              precision    recall  f1-score   support\n",
            "\n",
            "           0       0.84      0.91      0.87      1549\n",
            "           1       0.68      0.52      0.59       561\n",
            "\n",
            "    accuracy                           0.81      2110\n",
            "   macro avg       0.76      0.71      0.73      2110\n",
            "weighted avg       0.80      0.81      0.80      2110\n",
            "\n"
          ]
        }
      ]
    },
    {
      "cell_type": "code",
      "metadata": {
        "colab": {
          "base_uri": "https://localhost:8080/"
        },
        "id": "Fwuv7Ry-djoH",
        "outputId": "25d0e1c5-694e-4b19-d7cd-5120ee24bf38"
      },
      "source": [
        "!pip install lightgbm"
      ],
      "execution_count": 63,
      "outputs": [
        {
          "output_type": "stream",
          "name": "stdout",
          "text": [
            "Requirement already satisfied: lightgbm in /usr/local/lib/python3.7/dist-packages (2.2.3)\n",
            "Requirement already satisfied: scikit-learn in /usr/local/lib/python3.7/dist-packages (from lightgbm) (0.22.2.post1)\n",
            "Requirement already satisfied: scipy in /usr/local/lib/python3.7/dist-packages (from lightgbm) (1.4.1)\n",
            "Requirement already satisfied: numpy in /usr/local/lib/python3.7/dist-packages (from lightgbm) (1.19.5)\n",
            "Requirement already satisfied: joblib>=0.11 in /usr/local/lib/python3.7/dist-packages (from scikit-learn->lightgbm) (1.1.0)\n"
          ]
        }
      ]
    },
    {
      "cell_type": "markdown",
      "metadata": {
        "id": "l_pfYmVmeeNe"
      },
      "source": [
        "##LightGBM"
      ]
    },
    {
      "cell_type": "code",
      "metadata": {
        "colab": {
          "base_uri": "https://localhost:8080/"
        },
        "id": "p_LAQK8QdRYT",
        "outputId": "1007df1b-638e-40c3-b0fe-5fe67997dc12"
      },
      "source": [
        "import lightgbm as lgb\n",
        "lgbm = lgb.LGBMClassifier(random_state=2,learning_rate=0.01)\n",
        "lgbm.fit(X_train, y_train)"
      ],
      "execution_count": 64,
      "outputs": [
        {
          "output_type": "execute_result",
          "data": {
            "text/plain": [
              "LGBMClassifier(boosting_type='gbdt', class_weight=None, colsample_bytree=1.0,\n",
              "               importance_type='split', learning_rate=0.01, max_depth=-1,\n",
              "               min_child_samples=20, min_child_weight=0.001, min_split_gain=0.0,\n",
              "               n_estimators=100, n_jobs=-1, num_leaves=31, objective=None,\n",
              "               random_state=2, reg_alpha=0.0, reg_lambda=0.0, silent=True,\n",
              "               subsample=1.0, subsample_for_bin=200000, subsample_freq=0)"
            ]
          },
          "metadata": {},
          "execution_count": 64
        }
      ]
    },
    {
      "cell_type": "code",
      "metadata": {
        "colab": {
          "base_uri": "https://localhost:8080/"
        },
        "id": "iZuYbeRQeZrJ",
        "outputId": "fa57ed53-455c-4c83-edc8-6c75d71ccbc7"
      },
      "source": [
        "lgbm_pred = lgbm.predict(X_test)\n",
        "accuracy_score(y_test, lgbm_pred)"
      ],
      "execution_count": 65,
      "outputs": [
        {
          "output_type": "execute_result",
          "data": {
            "text/plain": [
              "0.7933649289099526"
            ]
          },
          "metadata": {},
          "execution_count": 65
        }
      ]
    },
    {
      "cell_type": "code",
      "metadata": {
        "colab": {
          "base_uri": "https://localhost:8080/"
        },
        "id": "J41zOdpjk6vJ",
        "outputId": "dac8edbd-bfa3-459d-d595-ceb1e3894539"
      },
      "source": [
        "print(f\"Accuracy score for Train data: {lgbm.score(X_train , y_train)}\")\n",
        "print(f\"Accuracy Score for Test data: {accuracy_score(y_test, lgbm_pred)}\")"
      ],
      "execution_count": 66,
      "outputs": [
        {
          "output_type": "stream",
          "name": "stdout",
          "text": [
            "Accuracy score for Train data: 0.8027224705404307\n",
            "Accuracy Score for Test data: 0.7933649289099526\n"
          ]
        }
      ]
    },
    {
      "cell_type": "code",
      "metadata": {
        "colab": {
          "base_uri": "https://localhost:8080/"
        },
        "id": "Ut5pFjgtdNgN",
        "outputId": "d92856c5-b5dd-498f-aa79-b694de567d48"
      },
      "source": [
        "print(classification_report(y_test,lgbm_pred))"
      ],
      "execution_count": 67,
      "outputs": [
        {
          "output_type": "stream",
          "name": "stdout",
          "text": [
            "              precision    recall  f1-score   support\n",
            "\n",
            "           0       0.80      0.96      0.87      1549\n",
            "           1       0.77      0.32      0.45       561\n",
            "\n",
            "    accuracy                           0.79      2110\n",
            "   macro avg       0.78      0.64      0.66      2110\n",
            "weighted avg       0.79      0.79      0.76      2110\n",
            "\n"
          ]
        }
      ]
    },
    {
      "cell_type": "markdown",
      "metadata": {
        "id": "NikGvgjCU8Og"
      },
      "source": [
        "#SMOTE\n"
      ]
    },
    {
      "cell_type": "code",
      "metadata": {
        "id": "Wz_npfzqUF7c"
      },
      "source": [
        "sm = SMOTE(sampling_strategy = 0.5, random_state=2)  "
      ],
      "execution_count": 68,
      "outputs": []
    },
    {
      "cell_type": "code",
      "metadata": {
        "colab": {
          "base_uri": "https://localhost:8080/"
        },
        "id": "tVmjwqD8UF7c",
        "outputId": "3230c231-46fd-41f9-d0d6-803f69ed64d2"
      },
      "source": [
        "Counter(y_train)"
      ],
      "execution_count": 69,
      "outputs": [
        {
          "output_type": "execute_result",
          "data": {
            "text/plain": [
              "Counter({0: 3614, 1: 1308})"
            ]
          },
          "metadata": {},
          "execution_count": 69
        }
      ]
    },
    {
      "cell_type": "code",
      "metadata": {
        "colab": {
          "base_uri": "https://localhost:8080/"
        },
        "id": "Q0GHQikMUF7c",
        "outputId": "a82d25e9-8bd9-492e-fe02-1e45a764a1bc"
      },
      "source": [
        "x_res, y_res = sm.fit_resample(X_train, y_train)\n",
        "Counter(y_res)"
      ],
      "execution_count": 70,
      "outputs": [
        {
          "output_type": "stream",
          "name": "stderr",
          "text": [
            "/usr/local/lib/python3.7/dist-packages/sklearn/utils/deprecation.py:87: FutureWarning: Function safe_indexing is deprecated; safe_indexing is deprecated in version 0.22 and will be removed in version 0.24.\n",
            "  warnings.warn(msg, category=FutureWarning)\n"
          ]
        },
        {
          "output_type": "execute_result",
          "data": {
            "text/plain": [
              "Counter({0: 3614, 1: 1807})"
            ]
          },
          "metadata": {},
          "execution_count": 70
        }
      ]
    },
    {
      "cell_type": "markdown",
      "metadata": {
        "id": "c63S9V54PnKr"
      },
      "source": [
        "##Logistic Regression SMOTE"
      ]
    },
    {
      "cell_type": "code",
      "metadata": {
        "colab": {
          "base_uri": "https://localhost:8080/"
        },
        "id": "pCeI5l8BRyfX",
        "outputId": "d849b093-4574-436e-c7c8-78d36e36f2c2"
      },
      "source": [
        "LR_sm = LogisticRegression(max_iter=7000)\n",
        "LR_sm.fit(x_res,y_res.ravel())"
      ],
      "execution_count": 71,
      "outputs": [
        {
          "output_type": "execute_result",
          "data": {
            "text/plain": [
              "LogisticRegression(C=1.0, class_weight=None, dual=False, fit_intercept=True,\n",
              "                   intercept_scaling=1, l1_ratio=None, max_iter=7000,\n",
              "                   multi_class='auto', n_jobs=None, penalty='l2',\n",
              "                   random_state=None, solver='lbfgs', tol=0.0001, verbose=0,\n",
              "                   warm_start=False)"
            ]
          },
          "metadata": {},
          "execution_count": 71
        }
      ]
    },
    {
      "cell_type": "code",
      "metadata": {
        "colab": {
          "base_uri": "https://localhost:8080/"
        },
        "id": "DMFWD9Iqgj59",
        "outputId": "8bf2d3a3-2f35-4239-a5fd-218a0f2fd6bc"
      },
      "source": [
        "LR_sm_predictions = LR_sm.predict(X_test)\n",
        "accuracy_score(y_test, LR_sm_predictions)"
      ],
      "execution_count": 72,
      "outputs": [
        {
          "output_type": "execute_result",
          "data": {
            "text/plain": [
              "0.7966824644549763"
            ]
          },
          "metadata": {},
          "execution_count": 72
        }
      ]
    },
    {
      "cell_type": "code",
      "metadata": {
        "colab": {
          "base_uri": "https://localhost:8080/"
        },
        "id": "bNGjxLNRlBj-",
        "outputId": "0fdbcba4-1bb7-4bf6-adff-064097ad2b12"
      },
      "source": [
        "print(f\"Accuracy score for Train data: {LR_sm.score(x_res,y_res.ravel())}\")\n",
        "print(f\"Accuracy Score for Test data: {accuracy_score(y_test, LR_sm_predictions)}\")"
      ],
      "execution_count": 140,
      "outputs": [
        {
          "output_type": "stream",
          "name": "stdout",
          "text": [
            "Accuracy score for Train data: 0.781036709094263\n",
            "Accuracy Score for Test data: 0.7966824644549763\n"
          ]
        }
      ]
    },
    {
      "cell_type": "code",
      "metadata": {
        "colab": {
          "base_uri": "https://localhost:8080/"
        },
        "id": "ya_VvzioX9Ak",
        "outputId": "0d75b86e-21b9-4690-d2e7-b1906695866f"
      },
      "source": [
        "print(classification_report(y_test,LR_sm_predictions))"
      ],
      "execution_count": 74,
      "outputs": [
        {
          "output_type": "stream",
          "name": "stdout",
          "text": [
            "              precision    recall  f1-score   support\n",
            "\n",
            "           0       0.87      0.85      0.86      1549\n",
            "           1       0.61      0.64      0.62       561\n",
            "\n",
            "    accuracy                           0.80      2110\n",
            "   macro avg       0.74      0.75      0.74      2110\n",
            "weighted avg       0.80      0.80      0.80      2110\n",
            "\n"
          ]
        }
      ]
    },
    {
      "cell_type": "markdown",
      "metadata": {
        "id": "XlCAKqTbR_nR"
      },
      "source": [
        "##Support Vector Machine SMOTE"
      ]
    },
    {
      "cell_type": "code",
      "metadata": {
        "colab": {
          "base_uri": "https://localhost:8080/"
        },
        "id": "wCoK4C6-R_nS",
        "outputId": "bbcb11bc-6e41-4d3c-c104-d46748a367f6"
      },
      "source": [
        "svm_sm = SVC(gamma='auto',random_state=2)\n",
        "svm_sm.fit(x_res,y_res.ravel())"
      ],
      "execution_count": 75,
      "outputs": [
        {
          "output_type": "execute_result",
          "data": {
            "text/plain": [
              "SVC(C=1.0, break_ties=False, cache_size=200, class_weight=None, coef0=0.0,\n",
              "    decision_function_shape='ovr', degree=3, gamma='auto', kernel='rbf',\n",
              "    max_iter=-1, probability=False, random_state=2, shrinking=True, tol=0.001,\n",
              "    verbose=False)"
            ]
          },
          "metadata": {},
          "execution_count": 75
        }
      ]
    },
    {
      "cell_type": "code",
      "metadata": {
        "colab": {
          "base_uri": "https://localhost:8080/"
        },
        "id": "vAfVpNB9hLhT",
        "outputId": "8cc646ac-c779-401c-a2a7-e9e376b5ea29"
      },
      "source": [
        "svm_sm_predictions = svm_sm.predict(X_test)\n",
        "accuracy_score(y_test, svm_sm_predictions)"
      ],
      "execution_count": 76,
      "outputs": [
        {
          "output_type": "execute_result",
          "data": {
            "text/plain": [
              "0.7739336492890996"
            ]
          },
          "metadata": {},
          "execution_count": 76
        }
      ]
    },
    {
      "cell_type": "code",
      "metadata": {
        "colab": {
          "base_uri": "https://localhost:8080/"
        },
        "id": "B7m8XTGllIR5",
        "outputId": "727d6491-3e30-4ea0-d40f-270d8b179417"
      },
      "source": [
        "print(f\"Accuracy score for Train data: {svm_sm.score(x_res,y_res.ravel())}\")\n",
        "print(f\"Accuracy Score for Test data: {accuracy_score(y_test, svm_sm_predictions)}\")"
      ],
      "execution_count": 141,
      "outputs": [
        {
          "output_type": "stream",
          "name": "stdout",
          "text": [
            "Accuracy score for Train data: 0.9223390518354547\n",
            "Accuracy Score for Test data: 0.7739336492890996\n"
          ]
        }
      ]
    },
    {
      "cell_type": "code",
      "metadata": {
        "colab": {
          "base_uri": "https://localhost:8080/"
        },
        "id": "Dt8CMbhWYB3j",
        "outputId": "19a27de8-d4b4-4920-c0c3-ab81dea7a5bc"
      },
      "source": [
        "print(classification_report(y_test,svm_sm_predictions))"
      ],
      "execution_count": 160,
      "outputs": [
        {
          "output_type": "stream",
          "name": "stdout",
          "text": [
            "              precision    recall  f1-score   support\n",
            "\n",
            "           0       0.81      0.91      0.86      1549\n",
            "           1       0.62      0.39      0.48       561\n",
            "\n",
            "    accuracy                           0.77      2110\n",
            "   macro avg       0.71      0.65      0.67      2110\n",
            "weighted avg       0.76      0.77      0.76      2110\n",
            "\n"
          ]
        }
      ]
    },
    {
      "cell_type": "markdown",
      "metadata": {
        "id": "2SPPGs_tSSvG"
      },
      "source": [
        "##Random Forest SMOTE"
      ]
    },
    {
      "cell_type": "code",
      "metadata": {
        "colab": {
          "base_uri": "https://localhost:8080/"
        },
        "id": "oD4Rq6MzSSvf",
        "outputId": "1b13e929-504a-474a-c0b3-e44f404d28e7"
      },
      "source": [
        "rf_sm = RandomForestClassifier(n_estimators=40,random_state=2)\n",
        "rf_sm.fit(x_res,y_res.ravel())"
      ],
      "execution_count": 79,
      "outputs": [
        {
          "output_type": "execute_result",
          "data": {
            "text/plain": [
              "RandomForestClassifier(bootstrap=True, ccp_alpha=0.0, class_weight=None,\n",
              "                       criterion='gini', max_depth=None, max_features='auto',\n",
              "                       max_leaf_nodes=None, max_samples=None,\n",
              "                       min_impurity_decrease=0.0, min_impurity_split=None,\n",
              "                       min_samples_leaf=1, min_samples_split=2,\n",
              "                       min_weight_fraction_leaf=0.0, n_estimators=40,\n",
              "                       n_jobs=None, oob_score=False, random_state=2, verbose=0,\n",
              "                       warm_start=False)"
            ]
          },
          "metadata": {},
          "execution_count": 79
        }
      ]
    },
    {
      "cell_type": "code",
      "metadata": {
        "colab": {
          "base_uri": "https://localhost:8080/"
        },
        "id": "SQ1clt7rhWLO",
        "outputId": "1fa350d5-ee4a-4daa-e4e7-0caecaf65bf3"
      },
      "source": [
        "rf_sm_predictions = rf_sm.predict(X_test)\n",
        "accuracy_score(y_test, rf_sm_predictions)"
      ],
      "execution_count": 80,
      "outputs": [
        {
          "output_type": "execute_result",
          "data": {
            "text/plain": [
              "0.7862559241706161"
            ]
          },
          "metadata": {},
          "execution_count": 80
        }
      ]
    },
    {
      "cell_type": "code",
      "metadata": {
        "colab": {
          "base_uri": "https://localhost:8080/"
        },
        "id": "ldNqdfOMlNz9",
        "outputId": "3f088fb6-9c63-4105-8f1c-8db015da3f2c"
      },
      "source": [
        "print(f\"Accuracy score for Train data: {rf_sm.score(x_res,y_res.ravel())}\")\n",
        "print(f\"Accuracy Score for Test data: {accuracy_score(y_test, rf_sm_predictions)}\")"
      ],
      "execution_count": 142,
      "outputs": [
        {
          "output_type": "stream",
          "name": "stdout",
          "text": [
            "Accuracy score for Train data: 0.9964951116030253\n",
            "Accuracy Score for Test data: 0.7862559241706161\n"
          ]
        }
      ]
    },
    {
      "cell_type": "code",
      "metadata": {
        "colab": {
          "base_uri": "https://localhost:8080/"
        },
        "id": "GJklJX_yYGqM",
        "outputId": "41cd1825-b67e-4d9c-d1fe-d2a2defa17e5"
      },
      "source": [
        "print(classification_report(y_test,rf_sm_predictions))"
      ],
      "execution_count": 161,
      "outputs": [
        {
          "output_type": "stream",
          "name": "stdout",
          "text": [
            "              precision    recall  f1-score   support\n",
            "\n",
            "           0       0.83      0.89      0.86      1549\n",
            "           1       0.63      0.49      0.55       561\n",
            "\n",
            "    accuracy                           0.79      2110\n",
            "   macro avg       0.73      0.69      0.70      2110\n",
            "weighted avg       0.77      0.79      0.78      2110\n",
            "\n"
          ]
        }
      ]
    },
    {
      "cell_type": "markdown",
      "metadata": {
        "id": "WUL8QUphSSvf"
      },
      "source": [
        "##Decision Tree SMOTE"
      ]
    },
    {
      "cell_type": "code",
      "metadata": {
        "colab": {
          "base_uri": "https://localhost:8080/"
        },
        "id": "wy2dt3o1SSvg",
        "outputId": "f9fac7e6-7296-4895-d8b1-1ff50e90e952"
      },
      "source": [
        "dt_sm = DecisionTreeClassifier(random_state=2)\n",
        "dt_sm.fit(x_res,y_res.ravel())"
      ],
      "execution_count": 83,
      "outputs": [
        {
          "output_type": "execute_result",
          "data": {
            "text/plain": [
              "DecisionTreeClassifier(ccp_alpha=0.0, class_weight=None, criterion='gini',\n",
              "                       max_depth=None, max_features=None, max_leaf_nodes=None,\n",
              "                       min_impurity_decrease=0.0, min_impurity_split=None,\n",
              "                       min_samples_leaf=1, min_samples_split=2,\n",
              "                       min_weight_fraction_leaf=0.0, presort='deprecated',\n",
              "                       random_state=2, splitter='best')"
            ]
          },
          "metadata": {},
          "execution_count": 83
        }
      ]
    },
    {
      "cell_type": "code",
      "metadata": {
        "colab": {
          "base_uri": "https://localhost:8080/"
        },
        "id": "ZLhUkPHehhFX",
        "outputId": "19c24ea6-6747-4e6b-8ccd-b96293916f64"
      },
      "source": [
        "dt_sm_predictions = dt_sm.predict(X_test)\n",
        "accuracy_score(y_test, dt_sm_predictions)"
      ],
      "execution_count": 84,
      "outputs": [
        {
          "output_type": "execute_result",
          "data": {
            "text/plain": [
              "0.7327014218009479"
            ]
          },
          "metadata": {},
          "execution_count": 84
        }
      ]
    },
    {
      "cell_type": "code",
      "metadata": {
        "colab": {
          "base_uri": "https://localhost:8080/"
        },
        "id": "p8kzbQVSlS6c",
        "outputId": "bb3fbc69-764b-4b64-9214-c2e5cb001c5b"
      },
      "source": [
        "print(f\"Accuracy score for Train data: {dt_sm.score(x_res,y_res.ravel())}\")\n",
        "print(f\"Accuracy Score for Test data: {accuracy_score(y_test, dt_sm_predictions)}\")"
      ],
      "execution_count": 143,
      "outputs": [
        {
          "output_type": "stream",
          "name": "stdout",
          "text": [
            "Accuracy score for Train data: 0.9977863862755949\n",
            "Accuracy Score for Test data: 0.7327014218009479\n"
          ]
        }
      ]
    },
    {
      "cell_type": "code",
      "metadata": {
        "colab": {
          "base_uri": "https://localhost:8080/"
        },
        "id": "4_5vhgFlYU3b",
        "outputId": "1f557024-77f4-40fa-8d1a-76cd2b6bb015"
      },
      "source": [
        "print(classification_report(y_test,dt_sm_predictions))"
      ],
      "execution_count": 86,
      "outputs": [
        {
          "output_type": "stream",
          "name": "stdout",
          "text": [
            "              precision    recall  f1-score   support\n",
            "\n",
            "           0       0.82      0.81      0.82      1549\n",
            "           1       0.50      0.52      0.51       561\n",
            "\n",
            "    accuracy                           0.73      2110\n",
            "   macro avg       0.66      0.67      0.66      2110\n",
            "weighted avg       0.74      0.73      0.73      2110\n",
            "\n"
          ]
        }
      ]
    },
    {
      "cell_type": "markdown",
      "metadata": {
        "id": "PQER5gjcSSvg"
      },
      "source": [
        "##KNN (K Nearest Neighbors) SMOTE"
      ]
    },
    {
      "cell_type": "code",
      "metadata": {
        "colab": {
          "base_uri": "https://localhost:8080/"
        },
        "id": "uEvJc7_2SSvg",
        "outputId": "ab4dde72-abf7-4f5d-fb15-69b3a2de6e41"
      },
      "source": [
        "KNear_sm=KNeighborsClassifier(n_neighbors=10)\n",
        "KNear_sm.fit(x_res,y_res.ravel())"
      ],
      "execution_count": 87,
      "outputs": [
        {
          "output_type": "execute_result",
          "data": {
            "text/plain": [
              "KNeighborsClassifier(algorithm='auto', leaf_size=30, metric='minkowski',\n",
              "                     metric_params=None, n_jobs=None, n_neighbors=10, p=2,\n",
              "                     weights='uniform')"
            ]
          },
          "metadata": {},
          "execution_count": 87
        }
      ]
    },
    {
      "cell_type": "code",
      "metadata": {
        "colab": {
          "base_uri": "https://localhost:8080/"
        },
        "id": "gk8K59bShvlN",
        "outputId": "2ff7fc4a-56a6-40f9-b2c7-5e4496503dc4"
      },
      "source": [
        "KNear_sm_predictions = KNear_sm.predict(X_test)\n",
        "accuracy_score(y_test, KNear_sm_predictions)"
      ],
      "execution_count": 88,
      "outputs": [
        {
          "output_type": "execute_result",
          "data": {
            "text/plain": [
              "0.776303317535545"
            ]
          },
          "metadata": {},
          "execution_count": 88
        }
      ]
    },
    {
      "cell_type": "code",
      "metadata": {
        "colab": {
          "base_uri": "https://localhost:8080/"
        },
        "id": "Lz9MbFy_lZUQ",
        "outputId": "350309dc-71fa-4121-dace-3b70a467ec65"
      },
      "source": [
        "print(f\"Accuracy score for Train data: {KNear_sm.score(x_res,y_res.ravel())}\")\n",
        "print(f\"Accuracy Score for Test data: {accuracy_score(y_test, KNear_sm_predictions)}\")"
      ],
      "execution_count": 144,
      "outputs": [
        {
          "output_type": "stream",
          "name": "stdout",
          "text": [
            "Accuracy score for Train data: 0.7952407304925291\n",
            "Accuracy Score for Test data: 0.776303317535545\n"
          ]
        }
      ]
    },
    {
      "cell_type": "code",
      "metadata": {
        "colab": {
          "base_uri": "https://localhost:8080/"
        },
        "id": "3j6W_6_RYZBl",
        "outputId": "a298e083-6a69-4a23-ab43-121504f4cf9b"
      },
      "source": [
        "print(classification_report(y_test,KNear_sm_predictions))"
      ],
      "execution_count": 90,
      "outputs": [
        {
          "output_type": "stream",
          "name": "stdout",
          "text": [
            "              precision    recall  f1-score   support\n",
            "\n",
            "           0       0.82      0.89      0.85      1549\n",
            "           1       0.60      0.46      0.52       561\n",
            "\n",
            "    accuracy                           0.78      2110\n",
            "   macro avg       0.71      0.68      0.69      2110\n",
            "weighted avg       0.76      0.78      0.77      2110\n",
            "\n"
          ]
        }
      ]
    },
    {
      "cell_type": "markdown",
      "metadata": {
        "id": "PVs9eoxHb82V"
      },
      "source": [
        "##XGBoost SMOTE"
      ]
    },
    {
      "cell_type": "code",
      "metadata": {
        "colab": {
          "base_uri": "https://localhost:8080/"
        },
        "id": "jcjLOy9bcFP9",
        "outputId": "685282e6-99d5-4804-c40c-a392c1c001fd"
      },
      "source": [
        "xgbc_base_sm = XGBClassifier(random_state=2)\n",
        "xgbc_base_sm.fit(x_res,y_res.ravel())"
      ],
      "execution_count": 91,
      "outputs": [
        {
          "output_type": "execute_result",
          "data": {
            "text/plain": [
              "XGBClassifier(base_score=0.5, booster='gbtree', colsample_bylevel=1,\n",
              "              colsample_bynode=1, colsample_bytree=1, gamma=0,\n",
              "              learning_rate=0.1, max_delta_step=0, max_depth=3,\n",
              "              min_child_weight=1, missing=None, n_estimators=100, n_jobs=1,\n",
              "              nthread=None, objective='binary:logistic', random_state=2,\n",
              "              reg_alpha=0, reg_lambda=1, scale_pos_weight=1, seed=None,\n",
              "              silent=None, subsample=1, verbosity=1)"
            ]
          },
          "metadata": {},
          "execution_count": 91
        }
      ]
    },
    {
      "cell_type": "code",
      "metadata": {
        "colab": {
          "base_uri": "https://localhost:8080/",
          "height": 656
        },
        "id": "1VoBJTC8cFP9",
        "outputId": "b80cd523-fa8c-4be1-8868-80add2e366d7"
      },
      "source": [
        "xgbc_sm_predictions = xgbc_base_sm.predict(X_test)\n",
        "accuracy_score(y_test, xgbc_sm_predictions)"
      ],
      "execution_count": 92,
      "outputs": [
        {
          "output_type": "error",
          "ename": "ValueError",
          "evalue": "ignored",
          "traceback": [
            "\u001b[0;31m---------------------------------------------------------------------------\u001b[0m",
            "\u001b[0;31mValueError\u001b[0m                                Traceback (most recent call last)",
            "\u001b[0;32m<ipython-input-92-e56999466606>\u001b[0m in \u001b[0;36m<module>\u001b[0;34m()\u001b[0m\n\u001b[0;32m----> 1\u001b[0;31m \u001b[0mxgbc_sm_predictions\u001b[0m \u001b[0;34m=\u001b[0m \u001b[0mxgbc_base_sm\u001b[0m\u001b[0;34m.\u001b[0m\u001b[0mpredict\u001b[0m\u001b[0;34m(\u001b[0m\u001b[0mX_test\u001b[0m\u001b[0;34m)\u001b[0m\u001b[0;34m\u001b[0m\u001b[0;34m\u001b[0m\u001b[0m\n\u001b[0m\u001b[1;32m      2\u001b[0m \u001b[0maccuracy_score\u001b[0m\u001b[0;34m(\u001b[0m\u001b[0my_test\u001b[0m\u001b[0;34m,\u001b[0m \u001b[0mxgbc_sm_predictions\u001b[0m\u001b[0;34m)\u001b[0m\u001b[0;34m\u001b[0m\u001b[0;34m\u001b[0m\u001b[0m\n",
            "\u001b[0;32m/usr/local/lib/python3.7/dist-packages/xgboost/sklearn.py\u001b[0m in \u001b[0;36mpredict\u001b[0;34m(self, data, output_margin, ntree_limit, validate_features)\u001b[0m\n\u001b[1;32m    789\u001b[0m                                                  \u001b[0moutput_margin\u001b[0m\u001b[0;34m=\u001b[0m\u001b[0moutput_margin\u001b[0m\u001b[0;34m,\u001b[0m\u001b[0;34m\u001b[0m\u001b[0;34m\u001b[0m\u001b[0m\n\u001b[1;32m    790\u001b[0m                                                  \u001b[0mntree_limit\u001b[0m\u001b[0;34m=\u001b[0m\u001b[0mntree_limit\u001b[0m\u001b[0;34m,\u001b[0m\u001b[0;34m\u001b[0m\u001b[0;34m\u001b[0m\u001b[0m\n\u001b[0;32m--> 791\u001b[0;31m                                                  validate_features=validate_features)\n\u001b[0m\u001b[1;32m    792\u001b[0m         \u001b[0;32mif\u001b[0m \u001b[0moutput_margin\u001b[0m\u001b[0;34m:\u001b[0m\u001b[0;34m\u001b[0m\u001b[0;34m\u001b[0m\u001b[0m\n\u001b[1;32m    793\u001b[0m             \u001b[0;31m# If output_margin is active, simply return the scores\u001b[0m\u001b[0;34m\u001b[0m\u001b[0;34m\u001b[0m\u001b[0;34m\u001b[0m\u001b[0m\n",
            "\u001b[0;32m/usr/local/lib/python3.7/dist-packages/xgboost/core.py\u001b[0m in \u001b[0;36mpredict\u001b[0;34m(self, data, output_margin, ntree_limit, pred_leaf, pred_contribs, approx_contribs, pred_interactions, validate_features)\u001b[0m\n\u001b[1;32m   1282\u001b[0m \u001b[0;34m\u001b[0m\u001b[0m\n\u001b[1;32m   1283\u001b[0m         \u001b[0;32mif\u001b[0m \u001b[0mvalidate_features\u001b[0m\u001b[0;34m:\u001b[0m\u001b[0;34m\u001b[0m\u001b[0;34m\u001b[0m\u001b[0m\n\u001b[0;32m-> 1284\u001b[0;31m             \u001b[0mself\u001b[0m\u001b[0;34m.\u001b[0m\u001b[0m_validate_features\u001b[0m\u001b[0;34m(\u001b[0m\u001b[0mdata\u001b[0m\u001b[0;34m)\u001b[0m\u001b[0;34m\u001b[0m\u001b[0;34m\u001b[0m\u001b[0m\n\u001b[0m\u001b[1;32m   1285\u001b[0m \u001b[0;34m\u001b[0m\u001b[0m\n\u001b[1;32m   1286\u001b[0m         \u001b[0mlength\u001b[0m \u001b[0;34m=\u001b[0m \u001b[0mc_bst_ulong\u001b[0m\u001b[0;34m(\u001b[0m\u001b[0;34m)\u001b[0m\u001b[0;34m\u001b[0m\u001b[0;34m\u001b[0m\u001b[0m\n",
            "\u001b[0;32m/usr/local/lib/python3.7/dist-packages/xgboost/core.py\u001b[0m in \u001b[0;36m_validate_features\u001b[0;34m(self, data)\u001b[0m\n\u001b[1;32m   1688\u001b[0m \u001b[0;34m\u001b[0m\u001b[0m\n\u001b[1;32m   1689\u001b[0m                 raise ValueError(msg.format(self.feature_names,\n\u001b[0;32m-> 1690\u001b[0;31m                                             data.feature_names))\n\u001b[0m\u001b[1;32m   1691\u001b[0m \u001b[0;34m\u001b[0m\u001b[0m\n\u001b[1;32m   1692\u001b[0m     \u001b[0;32mdef\u001b[0m \u001b[0mget_split_value_histogram\u001b[0m\u001b[0;34m(\u001b[0m\u001b[0mself\u001b[0m\u001b[0;34m,\u001b[0m \u001b[0mfeature\u001b[0m\u001b[0;34m,\u001b[0m \u001b[0mfmap\u001b[0m\u001b[0;34m=\u001b[0m\u001b[0;34m''\u001b[0m\u001b[0;34m,\u001b[0m \u001b[0mbins\u001b[0m\u001b[0;34m=\u001b[0m\u001b[0;32mNone\u001b[0m\u001b[0;34m,\u001b[0m \u001b[0mas_pandas\u001b[0m\u001b[0;34m=\u001b[0m\u001b[0;32mTrue\u001b[0m\u001b[0;34m)\u001b[0m\u001b[0;34m:\u001b[0m\u001b[0;34m\u001b[0m\u001b[0;34m\u001b[0m\u001b[0m\n",
            "\u001b[0;31mValueError\u001b[0m: feature_names mismatch: ['f0', 'f1', 'f2', 'f3', 'f4', 'f5', 'f6', 'f7', 'f8', 'f9', 'f10', 'f11', 'f12', 'f13', 'f14', 'f15', 'f16', 'f17', 'f18', 'f19', 'f20', 'f21', 'f22', 'f23', 'f24', 'f25', 'f26', 'f27', 'f28', 'f29', 'f30', 'f31', 'f32', 'f33', 'f34', 'f35', 'f36', 'f37', 'f38', 'f39', 'f40', 'f41', 'f42'] ['SeniorCitizen', 'tenure', 'MonthlyCharges', 'TotalCharges', 'Partner_No', 'Partner_Yes', 'Dependents_No', 'Dependents_Yes', 'PhoneService_No', 'PhoneService_Yes', 'MultipleLines_No', 'MultipleLines_No phone service', 'MultipleLines_Yes', 'InternetService_DSL', 'InternetService_Fiber optic', 'InternetService_No', 'OnlineSecurity_No', 'OnlineSecurity_No internet service', 'OnlineSecurity_Yes', 'OnlineBackup_No', 'OnlineBackup_No internet service', 'OnlineBackup_Yes', 'DeviceProtection_No', 'DeviceProtection_No internet service', 'DeviceProtection_Yes', 'TechSupport_No', 'TechSupport_No internet service', 'TechSupport_Yes', 'StreamingTV_No', 'StreamingTV_No internet service', 'StreamingTV_Yes', 'StreamingMovies_No', 'StreamingMovies_No internet service', 'StreamingMovies_Yes', 'Contract_Month-to-month', 'Contract_One year', 'Contract_Two year', 'PaperlessBilling_No', 'PaperlessBilling_Yes', 'PaymentMethod_Bank transfer (automatic)', 'PaymentMethod_Credit card (automatic)', 'PaymentMethod_Electronic check', 'PaymentMethod_Mailed check']\nexpected f1, f28, f22, f4, f14, f29, f24, f7, f38, f9, f26, f23, f11, f27, f19, f12, f34, f18, f0, f36, f32, f6, f33, f10, f17, f37, f31, f8, f3, f39, f41, f15, f5, f20, f30, f35, f21, f25, f40, f42, f16, f13, f2 in input data\ntraining data did not have the following fields: OnlineBackup_No internet service, MultipleLines_Yes, InternetService_No, InternetService_DSL, StreamingMovies_No internet service, PaymentMethod_Electronic check, StreamingTV_No internet service, TotalCharges, OnlineBackup_Yes, InternetService_Fiber optic, MultipleLines_No phone service, TechSupport_Yes, OnlineBackup_No, PaperlessBilling_No, PhoneService_No, Dependents_Yes, DeviceProtection_No, PaymentMethod_Bank transfer (automatic), PaperlessBilling_Yes, PaymentMethod_Mailed check, PaymentMethod_Credit card (automatic), StreamingTV_Yes, StreamingMovies_No, OnlineSecurity_No internet service, OnlineSecurity_Yes, tenure, Contract_Month-to-month, MonthlyCharges, MultipleLines_No, TechSupport_No, SeniorCitizen, StreamingTV_No, DeviceProtection_No internet service, OnlineSecurity_No, TechSupport_No internet service, Contract_One year, StreamingMovies_Yes, PhoneService_Yes, Dependents_No, DeviceProtection_Yes, Partner_Yes, Partner_No, Contract_Two year"
          ]
        }
      ]
    },
    {
      "cell_type": "code",
      "metadata": {
        "id": "MrmFlPPjcFP-"
      },
      "source": [
        "print(classification_report(y_test,xgbc_sm_predictions))"
      ],
      "execution_count": null,
      "outputs": []
    },
    {
      "cell_type": "markdown",
      "metadata": {
        "id": "oANd1AOaVMdU"
      },
      "source": [
        "##Gradient Boosting SMOTE"
      ]
    },
    {
      "cell_type": "code",
      "metadata": {
        "colab": {
          "base_uri": "https://localhost:8080/"
        },
        "id": "AVPgTHHtWo6E",
        "outputId": "ded64e3e-015c-4147-a2a9-297282663ccc"
      },
      "source": [
        "GB_sm = GradientBoostingClassifier(n_estimators=120, learning_rate=0.01, max_depth=1, random_state=2)\n",
        "GB_sm.fit(x_res,y_res.ravel())"
      ],
      "execution_count": 93,
      "outputs": [
        {
          "output_type": "execute_result",
          "data": {
            "text/plain": [
              "GradientBoostingClassifier(ccp_alpha=0.0, criterion='friedman_mse', init=None,\n",
              "                           learning_rate=0.01, loss='deviance', max_depth=1,\n",
              "                           max_features=None, max_leaf_nodes=None,\n",
              "                           min_impurity_decrease=0.0, min_impurity_split=None,\n",
              "                           min_samples_leaf=1, min_samples_split=2,\n",
              "                           min_weight_fraction_leaf=0.0, n_estimators=120,\n",
              "                           n_iter_no_change=None, presort='deprecated',\n",
              "                           random_state=2, subsample=1.0, tol=0.0001,\n",
              "                           validation_fraction=0.1, verbose=0,\n",
              "                           warm_start=False)"
            ]
          },
          "metadata": {},
          "execution_count": 93
        }
      ]
    },
    {
      "cell_type": "code",
      "metadata": {
        "colab": {
          "base_uri": "https://localhost:8080/"
        },
        "id": "RftnGJa1iDHb",
        "outputId": "5c76a0db-6e20-4f98-f6fd-769f2634623d"
      },
      "source": [
        "GB_sm_pred = GB_sm.predict(X_test)\n",
        "accuracy_score(y_test, GB_sm_pred)"
      ],
      "execution_count": 94,
      "outputs": [
        {
          "output_type": "execute_result",
          "data": {
            "text/plain": [
              "0.7701421800947867"
            ]
          },
          "metadata": {},
          "execution_count": 94
        }
      ]
    },
    {
      "cell_type": "code",
      "metadata": {
        "colab": {
          "base_uri": "https://localhost:8080/"
        },
        "id": "CxTEz_s5lfNZ",
        "outputId": "ecc962fe-c2a5-4c6c-d32f-1f5ade3a22f8"
      },
      "source": [
        "print(f\"Accuracy score for Train data: {GB_sm.score(x_res,y_res.ravel())}\")\n",
        "print(f\"Accuracy Score for Test data: {accuracy_score(y_test, GB_sm_pred)}\")"
      ],
      "execution_count": 145,
      "outputs": [
        {
          "output_type": "stream",
          "name": "stdout",
          "text": [
            "Accuracy score for Train data: 0.7113078767755027\n",
            "Accuracy Score for Test data: 0.7701421800947867\n"
          ]
        }
      ]
    },
    {
      "cell_type": "code",
      "metadata": {
        "colab": {
          "base_uri": "https://localhost:8080/"
        },
        "id": "D4DEBVYcYjD0",
        "outputId": "110ba2c0-f8a2-4dcd-e0fc-df35150f3a63"
      },
      "source": [
        "print(classification_report(y_test,GB_sm_pred))"
      ],
      "execution_count": 96,
      "outputs": [
        {
          "output_type": "stream",
          "name": "stdout",
          "text": [
            "              precision    recall  f1-score   support\n",
            "\n",
            "           0       0.77      0.99      0.86      1549\n",
            "           1       0.84      0.17      0.28       561\n",
            "\n",
            "    accuracy                           0.77      2110\n",
            "   macro avg       0.80      0.58      0.57      2110\n",
            "weighted avg       0.79      0.77      0.71      2110\n",
            "\n"
          ]
        }
      ]
    },
    {
      "cell_type": "markdown",
      "metadata": {
        "id": "-vDjaAgfasof"
      },
      "source": [
        "##CatBoost SMOTE"
      ]
    },
    {
      "cell_type": "code",
      "metadata": {
        "colab": {
          "base_uri": "https://localhost:8080/"
        },
        "id": "h-hk4Pp6asof",
        "outputId": "5e1c424f-fec2-466a-b9fc-d2cb88708957"
      },
      "source": [
        "cat_sm = CatBoostClassifier(learning_rate=0.01)\n",
        "cat_sm.fit(x_res,y_res.ravel())"
      ],
      "execution_count": 98,
      "outputs": [
        {
          "output_type": "stream",
          "name": "stdout",
          "text": [
            "0:\tlearn: 0.6868211\ttotal: 9.97ms\tremaining: 9.96s\n",
            "1:\tlearn: 0.6809477\ttotal: 17ms\tremaining: 8.46s\n",
            "2:\tlearn: 0.6753416\ttotal: 24.8ms\tremaining: 8.25s\n",
            "3:\tlearn: 0.6694267\ttotal: 32.4ms\tremaining: 8.07s\n",
            "4:\tlearn: 0.6638203\ttotal: 39.7ms\tremaining: 7.9s\n",
            "5:\tlearn: 0.6581660\ttotal: 47.1ms\tremaining: 7.81s\n",
            "6:\tlearn: 0.6528726\ttotal: 54.5ms\tremaining: 7.73s\n",
            "7:\tlearn: 0.6475715\ttotal: 61.8ms\tremaining: 7.67s\n",
            "8:\tlearn: 0.6427694\ttotal: 69.4ms\tremaining: 7.64s\n",
            "9:\tlearn: 0.6377021\ttotal: 77ms\tremaining: 7.62s\n",
            "10:\tlearn: 0.6323953\ttotal: 84.6ms\tremaining: 7.61s\n",
            "11:\tlearn: 0.6272426\ttotal: 92ms\tremaining: 7.58s\n",
            "12:\tlearn: 0.6225745\ttotal: 99.5ms\tremaining: 7.56s\n",
            "13:\tlearn: 0.6184904\ttotal: 107ms\tremaining: 7.53s\n",
            "14:\tlearn: 0.6141683\ttotal: 115ms\tremaining: 7.53s\n",
            "15:\tlearn: 0.6099355\ttotal: 122ms\tremaining: 7.53s\n",
            "16:\tlearn: 0.6060974\ttotal: 130ms\tremaining: 7.5s\n",
            "17:\tlearn: 0.6021708\ttotal: 137ms\tremaining: 7.49s\n",
            "18:\tlearn: 0.5980280\ttotal: 145ms\tremaining: 7.48s\n",
            "19:\tlearn: 0.5943398\ttotal: 152ms\tremaining: 7.45s\n",
            "20:\tlearn: 0.5900753\ttotal: 159ms\tremaining: 7.42s\n",
            "21:\tlearn: 0.5863111\ttotal: 166ms\tremaining: 7.39s\n",
            "22:\tlearn: 0.5832658\ttotal: 174ms\tremaining: 7.4s\n",
            "23:\tlearn: 0.5797768\ttotal: 181ms\tremaining: 7.38s\n",
            "24:\tlearn: 0.5760284\ttotal: 189ms\tremaining: 7.35s\n",
            "25:\tlearn: 0.5727716\ttotal: 196ms\tremaining: 7.33s\n",
            "26:\tlearn: 0.5690515\ttotal: 204ms\tremaining: 7.36s\n",
            "27:\tlearn: 0.5658334\ttotal: 213ms\tremaining: 7.41s\n",
            "28:\tlearn: 0.5626259\ttotal: 221ms\tremaining: 7.39s\n",
            "29:\tlearn: 0.5596062\ttotal: 228ms\tremaining: 7.37s\n",
            "30:\tlearn: 0.5566769\ttotal: 235ms\tremaining: 7.36s\n",
            "31:\tlearn: 0.5536572\ttotal: 243ms\tremaining: 7.34s\n",
            "32:\tlearn: 0.5508737\ttotal: 250ms\tremaining: 7.32s\n",
            "33:\tlearn: 0.5481731\ttotal: 257ms\tremaining: 7.3s\n",
            "34:\tlearn: 0.5454593\ttotal: 264ms\tremaining: 7.28s\n",
            "35:\tlearn: 0.5427108\ttotal: 271ms\tremaining: 7.27s\n",
            "36:\tlearn: 0.5396907\ttotal: 279ms\tremaining: 7.25s\n",
            "37:\tlearn: 0.5372779\ttotal: 288ms\tremaining: 7.28s\n",
            "38:\tlearn: 0.5345511\ttotal: 299ms\tremaining: 7.38s\n",
            "39:\tlearn: 0.5321916\ttotal: 308ms\tremaining: 7.39s\n",
            "40:\tlearn: 0.5297359\ttotal: 315ms\tremaining: 7.38s\n",
            "41:\tlearn: 0.5273898\ttotal: 322ms\tremaining: 7.35s\n",
            "42:\tlearn: 0.5250787\ttotal: 329ms\tremaining: 7.33s\n",
            "43:\tlearn: 0.5230243\ttotal: 337ms\tremaining: 7.32s\n",
            "44:\tlearn: 0.5207374\ttotal: 344ms\tremaining: 7.3s\n",
            "45:\tlearn: 0.5185289\ttotal: 352ms\tremaining: 7.29s\n",
            "46:\tlearn: 0.5166329\ttotal: 359ms\tremaining: 7.28s\n",
            "47:\tlearn: 0.5146837\ttotal: 366ms\tremaining: 7.26s\n",
            "48:\tlearn: 0.5123596\ttotal: 374ms\tremaining: 7.25s\n",
            "49:\tlearn: 0.5103991\ttotal: 381ms\tremaining: 7.24s\n",
            "50:\tlearn: 0.5086834\ttotal: 388ms\tremaining: 7.23s\n",
            "51:\tlearn: 0.5067386\ttotal: 396ms\tremaining: 7.22s\n",
            "52:\tlearn: 0.5050877\ttotal: 407ms\tremaining: 7.27s\n",
            "53:\tlearn: 0.5035871\ttotal: 415ms\tremaining: 7.27s\n",
            "54:\tlearn: 0.5019116\ttotal: 422ms\tremaining: 7.26s\n",
            "55:\tlearn: 0.5001162\ttotal: 433ms\tremaining: 7.3s\n",
            "56:\tlearn: 0.4983525\ttotal: 441ms\tremaining: 7.3s\n",
            "57:\tlearn: 0.4965603\ttotal: 449ms\tremaining: 7.29s\n",
            "58:\tlearn: 0.4947682\ttotal: 456ms\tremaining: 7.27s\n",
            "59:\tlearn: 0.4933743\ttotal: 463ms\tremaining: 7.25s\n",
            "60:\tlearn: 0.4918692\ttotal: 470ms\tremaining: 7.24s\n",
            "61:\tlearn: 0.4904353\ttotal: 478ms\tremaining: 7.23s\n",
            "62:\tlearn: 0.4887469\ttotal: 486ms\tremaining: 7.22s\n",
            "63:\tlearn: 0.4872109\ttotal: 493ms\tremaining: 7.21s\n",
            "64:\tlearn: 0.4858925\ttotal: 500ms\tremaining: 7.2s\n",
            "65:\tlearn: 0.4843499\ttotal: 507ms\tremaining: 7.18s\n",
            "66:\tlearn: 0.4827532\ttotal: 515ms\tremaining: 7.17s\n",
            "67:\tlearn: 0.4813498\ttotal: 522ms\tremaining: 7.15s\n",
            "68:\tlearn: 0.4798543\ttotal: 529ms\tremaining: 7.14s\n",
            "69:\tlearn: 0.4782881\ttotal: 537ms\tremaining: 7.13s\n",
            "70:\tlearn: 0.4769375\ttotal: 544ms\tremaining: 7.12s\n",
            "71:\tlearn: 0.4754242\ttotal: 551ms\tremaining: 7.11s\n",
            "72:\tlearn: 0.4742437\ttotal: 559ms\tremaining: 7.09s\n",
            "73:\tlearn: 0.4730891\ttotal: 566ms\tremaining: 7.08s\n",
            "74:\tlearn: 0.4719646\ttotal: 573ms\tremaining: 7.07s\n",
            "75:\tlearn: 0.4708962\ttotal: 580ms\tremaining: 7.05s\n",
            "76:\tlearn: 0.4699270\ttotal: 588ms\tremaining: 7.04s\n",
            "77:\tlearn: 0.4686850\ttotal: 595ms\tremaining: 7.03s\n",
            "78:\tlearn: 0.4675492\ttotal: 602ms\tremaining: 7.02s\n",
            "79:\tlearn: 0.4663287\ttotal: 614ms\tremaining: 7.06s\n",
            "80:\tlearn: 0.4650987\ttotal: 622ms\tremaining: 7.05s\n",
            "81:\tlearn: 0.4641861\ttotal: 629ms\tremaining: 7.04s\n",
            "82:\tlearn: 0.4631391\ttotal: 636ms\tremaining: 7.03s\n",
            "83:\tlearn: 0.4623092\ttotal: 648ms\tremaining: 7.07s\n",
            "84:\tlearn: 0.4610603\ttotal: 655ms\tremaining: 7.05s\n",
            "85:\tlearn: 0.4598529\ttotal: 663ms\tremaining: 7.04s\n",
            "86:\tlearn: 0.4588674\ttotal: 670ms\tremaining: 7.03s\n",
            "87:\tlearn: 0.4579135\ttotal: 677ms\tremaining: 7.01s\n",
            "88:\tlearn: 0.4569358\ttotal: 684ms\tremaining: 7s\n",
            "89:\tlearn: 0.4558412\ttotal: 691ms\tremaining: 6.99s\n",
            "90:\tlearn: 0.4551022\ttotal: 698ms\tremaining: 6.97s\n",
            "91:\tlearn: 0.4542299\ttotal: 706ms\tremaining: 6.96s\n",
            "92:\tlearn: 0.4530874\ttotal: 713ms\tremaining: 6.95s\n",
            "93:\tlearn: 0.4522592\ttotal: 720ms\tremaining: 6.94s\n",
            "94:\tlearn: 0.4513460\ttotal: 727ms\tremaining: 6.93s\n",
            "95:\tlearn: 0.4504836\ttotal: 734ms\tremaining: 6.91s\n",
            "96:\tlearn: 0.4497194\ttotal: 741ms\tremaining: 6.9s\n",
            "97:\tlearn: 0.4490745\ttotal: 749ms\tremaining: 6.89s\n",
            "98:\tlearn: 0.4482199\ttotal: 758ms\tremaining: 6.9s\n",
            "99:\tlearn: 0.4474527\ttotal: 765ms\tremaining: 6.89s\n",
            "100:\tlearn: 0.4466872\ttotal: 772ms\tremaining: 6.88s\n",
            "101:\tlearn: 0.4458628\ttotal: 780ms\tremaining: 6.87s\n",
            "102:\tlearn: 0.4450977\ttotal: 787ms\tremaining: 6.85s\n",
            "103:\tlearn: 0.4443197\ttotal: 794ms\tremaining: 6.84s\n",
            "104:\tlearn: 0.4436958\ttotal: 802ms\tremaining: 6.84s\n",
            "105:\tlearn: 0.4429081\ttotal: 809ms\tremaining: 6.83s\n",
            "106:\tlearn: 0.4419585\ttotal: 821ms\tremaining: 6.85s\n",
            "107:\tlearn: 0.4411584\ttotal: 828ms\tremaining: 6.84s\n",
            "108:\tlearn: 0.4404427\ttotal: 835ms\tremaining: 6.83s\n",
            "109:\tlearn: 0.4398520\ttotal: 842ms\tremaining: 6.81s\n",
            "110:\tlearn: 0.4392448\ttotal: 849ms\tremaining: 6.8s\n",
            "111:\tlearn: 0.4387237\ttotal: 857ms\tremaining: 6.79s\n",
            "112:\tlearn: 0.4380241\ttotal: 870ms\tremaining: 6.83s\n",
            "113:\tlearn: 0.4373295\ttotal: 880ms\tremaining: 6.84s\n",
            "114:\tlearn: 0.4368379\ttotal: 887ms\tremaining: 6.83s\n",
            "115:\tlearn: 0.4361417\ttotal: 895ms\tremaining: 6.82s\n",
            "116:\tlearn: 0.4355289\ttotal: 903ms\tremaining: 6.81s\n",
            "117:\tlearn: 0.4348566\ttotal: 911ms\tremaining: 6.8s\n",
            "118:\tlearn: 0.4342040\ttotal: 918ms\tremaining: 6.8s\n",
            "119:\tlearn: 0.4336746\ttotal: 925ms\tremaining: 6.78s\n",
            "120:\tlearn: 0.4330893\ttotal: 933ms\tremaining: 6.78s\n",
            "121:\tlearn: 0.4324990\ttotal: 940ms\tremaining: 6.77s\n",
            "122:\tlearn: 0.4320971\ttotal: 948ms\tremaining: 6.76s\n",
            "123:\tlearn: 0.4316441\ttotal: 955ms\tremaining: 6.75s\n",
            "124:\tlearn: 0.4311267\ttotal: 963ms\tremaining: 6.74s\n",
            "125:\tlearn: 0.4305437\ttotal: 971ms\tremaining: 6.73s\n",
            "126:\tlearn: 0.4297678\ttotal: 978ms\tremaining: 6.72s\n",
            "127:\tlearn: 0.4292362\ttotal: 986ms\tremaining: 6.71s\n",
            "128:\tlearn: 0.4287312\ttotal: 993ms\tremaining: 6.71s\n",
            "129:\tlearn: 0.4282936\ttotal: 1s\tremaining: 6.7s\n",
            "130:\tlearn: 0.4277825\ttotal: 1.01s\tremaining: 6.69s\n",
            "131:\tlearn: 0.4271402\ttotal: 1.02s\tremaining: 6.69s\n",
            "132:\tlearn: 0.4266426\ttotal: 1.03s\tremaining: 6.7s\n",
            "133:\tlearn: 0.4260629\ttotal: 1.03s\tremaining: 6.68s\n",
            "134:\tlearn: 0.4254833\ttotal: 1.04s\tremaining: 6.68s\n",
            "135:\tlearn: 0.4250191\ttotal: 1.05s\tremaining: 6.67s\n",
            "136:\tlearn: 0.4244753\ttotal: 1.06s\tremaining: 6.66s\n",
            "137:\tlearn: 0.4239661\ttotal: 1.06s\tremaining: 6.65s\n",
            "138:\tlearn: 0.4235665\ttotal: 1.07s\tremaining: 6.64s\n",
            "139:\tlearn: 0.4230622\ttotal: 1.08s\tremaining: 6.63s\n",
            "140:\tlearn: 0.4225586\ttotal: 1.09s\tremaining: 6.62s\n",
            "141:\tlearn: 0.4219214\ttotal: 1.09s\tremaining: 6.61s\n",
            "142:\tlearn: 0.4214855\ttotal: 1.1s\tremaining: 6.6s\n",
            "143:\tlearn: 0.4210343\ttotal: 1.11s\tremaining: 6.59s\n",
            "144:\tlearn: 0.4206222\ttotal: 1.11s\tremaining: 6.58s\n",
            "145:\tlearn: 0.4202577\ttotal: 1.12s\tremaining: 6.57s\n",
            "146:\tlearn: 0.4198392\ttotal: 1.13s\tremaining: 6.55s\n",
            "147:\tlearn: 0.4193309\ttotal: 1.14s\tremaining: 6.54s\n",
            "148:\tlearn: 0.4188994\ttotal: 1.14s\tremaining: 6.53s\n",
            "149:\tlearn: 0.4183533\ttotal: 1.15s\tremaining: 6.53s\n",
            "150:\tlearn: 0.4179795\ttotal: 1.16s\tremaining: 6.52s\n",
            "151:\tlearn: 0.4174860\ttotal: 1.17s\tremaining: 6.51s\n",
            "152:\tlearn: 0.4171588\ttotal: 1.17s\tremaining: 6.5s\n",
            "153:\tlearn: 0.4168021\ttotal: 1.18s\tremaining: 6.49s\n",
            "154:\tlearn: 0.4164711\ttotal: 1.19s\tremaining: 6.48s\n",
            "155:\tlearn: 0.4160777\ttotal: 1.2s\tremaining: 6.47s\n",
            "156:\tlearn: 0.4157229\ttotal: 1.2s\tremaining: 6.46s\n",
            "157:\tlearn: 0.4152901\ttotal: 1.21s\tremaining: 6.46s\n",
            "158:\tlearn: 0.4149937\ttotal: 1.22s\tremaining: 6.47s\n",
            "159:\tlearn: 0.4147098\ttotal: 1.23s\tremaining: 6.46s\n",
            "160:\tlearn: 0.4142708\ttotal: 1.24s\tremaining: 6.45s\n",
            "161:\tlearn: 0.4138317\ttotal: 1.25s\tremaining: 6.44s\n",
            "162:\tlearn: 0.4134656\ttotal: 1.25s\tremaining: 6.43s\n",
            "163:\tlearn: 0.4131513\ttotal: 1.26s\tremaining: 6.43s\n",
            "164:\tlearn: 0.4127524\ttotal: 1.27s\tremaining: 6.42s\n",
            "165:\tlearn: 0.4124475\ttotal: 1.28s\tremaining: 6.42s\n",
            "166:\tlearn: 0.4120539\ttotal: 1.29s\tremaining: 6.43s\n",
            "167:\tlearn: 0.4117660\ttotal: 1.3s\tremaining: 6.43s\n",
            "168:\tlearn: 0.4114086\ttotal: 1.31s\tremaining: 6.43s\n",
            "169:\tlearn: 0.4109919\ttotal: 1.31s\tremaining: 6.42s\n",
            "170:\tlearn: 0.4106474\ttotal: 1.32s\tremaining: 6.41s\n",
            "171:\tlearn: 0.4102613\ttotal: 1.33s\tremaining: 6.4s\n",
            "172:\tlearn: 0.4098969\ttotal: 1.34s\tremaining: 6.39s\n",
            "173:\tlearn: 0.4096227\ttotal: 1.34s\tremaining: 6.38s\n",
            "174:\tlearn: 0.4092779\ttotal: 1.35s\tremaining: 6.38s\n",
            "175:\tlearn: 0.4090430\ttotal: 1.36s\tremaining: 6.37s\n",
            "176:\tlearn: 0.4087813\ttotal: 1.37s\tremaining: 6.36s\n",
            "177:\tlearn: 0.4085195\ttotal: 1.37s\tremaining: 6.34s\n",
            "178:\tlearn: 0.4081583\ttotal: 1.38s\tremaining: 6.33s\n",
            "179:\tlearn: 0.4078693\ttotal: 1.39s\tremaining: 6.33s\n",
            "180:\tlearn: 0.4075905\ttotal: 1.4s\tremaining: 6.32s\n",
            "181:\tlearn: 0.4072871\ttotal: 1.4s\tremaining: 6.31s\n",
            "182:\tlearn: 0.4070192\ttotal: 1.41s\tremaining: 6.3s\n",
            "183:\tlearn: 0.4067760\ttotal: 1.42s\tremaining: 6.3s\n",
            "184:\tlearn: 0.4065136\ttotal: 1.43s\tremaining: 6.3s\n",
            "185:\tlearn: 0.4062381\ttotal: 1.44s\tremaining: 6.29s\n",
            "186:\tlearn: 0.4059717\ttotal: 1.45s\tremaining: 6.28s\n",
            "187:\tlearn: 0.4057434\ttotal: 1.45s\tremaining: 6.28s\n",
            "188:\tlearn: 0.4054368\ttotal: 1.47s\tremaining: 6.29s\n",
            "189:\tlearn: 0.4051344\ttotal: 1.47s\tremaining: 6.28s\n",
            "190:\tlearn: 0.4048170\ttotal: 1.48s\tremaining: 6.26s\n",
            "191:\tlearn: 0.4045059\ttotal: 1.49s\tremaining: 6.25s\n",
            "192:\tlearn: 0.4042988\ttotal: 1.49s\tremaining: 6.25s\n",
            "193:\tlearn: 0.4040015\ttotal: 1.5s\tremaining: 6.24s\n",
            "194:\tlearn: 0.4037768\ttotal: 1.51s\tremaining: 6.23s\n",
            "195:\tlearn: 0.4035199\ttotal: 1.51s\tremaining: 6.22s\n",
            "196:\tlearn: 0.4032356\ttotal: 1.52s\tremaining: 6.21s\n",
            "197:\tlearn: 0.4030038\ttotal: 1.53s\tremaining: 6.2s\n",
            "198:\tlearn: 0.4027525\ttotal: 1.54s\tremaining: 6.19s\n",
            "199:\tlearn: 0.4023799\ttotal: 1.54s\tremaining: 6.18s\n",
            "200:\tlearn: 0.4021623\ttotal: 1.55s\tremaining: 6.17s\n",
            "201:\tlearn: 0.4019628\ttotal: 1.56s\tremaining: 6.16s\n",
            "202:\tlearn: 0.4017630\ttotal: 1.57s\tremaining: 6.15s\n",
            "203:\tlearn: 0.4015683\ttotal: 1.57s\tremaining: 6.14s\n",
            "204:\tlearn: 0.4012850\ttotal: 1.58s\tremaining: 6.13s\n",
            "205:\tlearn: 0.4010858\ttotal: 1.59s\tremaining: 6.12s\n",
            "206:\tlearn: 0.4008116\ttotal: 1.59s\tremaining: 6.11s\n",
            "207:\tlearn: 0.4004767\ttotal: 1.6s\tremaining: 6.1s\n",
            "208:\tlearn: 0.4001369\ttotal: 1.61s\tremaining: 6.09s\n",
            "209:\tlearn: 0.3998975\ttotal: 1.62s\tremaining: 6.09s\n",
            "210:\tlearn: 0.3996282\ttotal: 1.63s\tremaining: 6.08s\n",
            "211:\tlearn: 0.3994019\ttotal: 1.63s\tremaining: 6.07s\n",
            "212:\tlearn: 0.3991548\ttotal: 1.64s\tremaining: 6.06s\n",
            "213:\tlearn: 0.3988454\ttotal: 1.65s\tremaining: 6.05s\n",
            "214:\tlearn: 0.3985623\ttotal: 1.65s\tremaining: 6.04s\n",
            "215:\tlearn: 0.3983639\ttotal: 1.66s\tremaining: 6.03s\n",
            "216:\tlearn: 0.3981154\ttotal: 1.67s\tremaining: 6.02s\n",
            "217:\tlearn: 0.3978825\ttotal: 1.68s\tremaining: 6.03s\n",
            "218:\tlearn: 0.3977161\ttotal: 1.69s\tremaining: 6.02s\n",
            "219:\tlearn: 0.3974934\ttotal: 1.7s\tremaining: 6.01s\n",
            "220:\tlearn: 0.3972931\ttotal: 1.7s\tremaining: 6s\n",
            "221:\tlearn: 0.3970856\ttotal: 1.71s\tremaining: 5.99s\n",
            "222:\tlearn: 0.3968165\ttotal: 1.72s\tremaining: 5.98s\n",
            "223:\tlearn: 0.3966393\ttotal: 1.72s\tremaining: 5.97s\n",
            "224:\tlearn: 0.3964768\ttotal: 1.73s\tremaining: 5.96s\n",
            "225:\tlearn: 0.3962949\ttotal: 1.74s\tremaining: 5.96s\n",
            "226:\tlearn: 0.3961282\ttotal: 1.75s\tremaining: 5.95s\n",
            "227:\tlearn: 0.3959039\ttotal: 1.75s\tremaining: 5.93s\n",
            "228:\tlearn: 0.3957350\ttotal: 1.76s\tremaining: 5.92s\n",
            "229:\tlearn: 0.3955498\ttotal: 1.77s\tremaining: 5.92s\n",
            "230:\tlearn: 0.3953925\ttotal: 1.77s\tremaining: 5.91s\n",
            "231:\tlearn: 0.3951824\ttotal: 1.78s\tremaining: 5.9s\n",
            "232:\tlearn: 0.3949993\ttotal: 1.79s\tremaining: 5.89s\n",
            "233:\tlearn: 0.3948065\ttotal: 1.8s\tremaining: 5.88s\n",
            "234:\tlearn: 0.3946564\ttotal: 1.8s\tremaining: 5.87s\n",
            "235:\tlearn: 0.3944187\ttotal: 1.81s\tremaining: 5.86s\n",
            "236:\tlearn: 0.3941893\ttotal: 1.82s\tremaining: 5.87s\n",
            "237:\tlearn: 0.3940041\ttotal: 1.83s\tremaining: 5.86s\n",
            "238:\tlearn: 0.3938437\ttotal: 1.84s\tremaining: 5.85s\n",
            "239:\tlearn: 0.3936146\ttotal: 1.84s\tremaining: 5.84s\n",
            "240:\tlearn: 0.3933534\ttotal: 1.85s\tremaining: 5.83s\n",
            "241:\tlearn: 0.3930869\ttotal: 1.86s\tremaining: 5.82s\n",
            "242:\tlearn: 0.3929330\ttotal: 1.86s\tremaining: 5.81s\n",
            "243:\tlearn: 0.3927584\ttotal: 1.87s\tremaining: 5.8s\n",
            "244:\tlearn: 0.3925548\ttotal: 1.88s\tremaining: 5.79s\n",
            "245:\tlearn: 0.3924325\ttotal: 1.89s\tremaining: 5.78s\n",
            "246:\tlearn: 0.3921723\ttotal: 1.89s\tremaining: 5.77s\n",
            "247:\tlearn: 0.3920014\ttotal: 1.9s\tremaining: 5.76s\n",
            "248:\tlearn: 0.3918703\ttotal: 1.91s\tremaining: 5.75s\n",
            "249:\tlearn: 0.3917593\ttotal: 1.92s\tremaining: 5.75s\n",
            "250:\tlearn: 0.3914734\ttotal: 1.92s\tremaining: 5.74s\n",
            "251:\tlearn: 0.3912684\ttotal: 1.93s\tremaining: 5.73s\n",
            "252:\tlearn: 0.3910560\ttotal: 1.94s\tremaining: 5.72s\n",
            "253:\tlearn: 0.3909025\ttotal: 1.95s\tremaining: 5.71s\n",
            "254:\tlearn: 0.3907341\ttotal: 1.95s\tremaining: 5.71s\n",
            "255:\tlearn: 0.3905998\ttotal: 1.96s\tremaining: 5.7s\n",
            "256:\tlearn: 0.3904179\ttotal: 1.97s\tremaining: 5.69s\n",
            "257:\tlearn: 0.3901842\ttotal: 1.97s\tremaining: 5.68s\n",
            "258:\tlearn: 0.3900251\ttotal: 1.98s\tremaining: 5.67s\n",
            "259:\tlearn: 0.3898452\ttotal: 1.99s\tremaining: 5.66s\n",
            "260:\tlearn: 0.3897244\ttotal: 2s\tremaining: 5.65s\n",
            "261:\tlearn: 0.3895835\ttotal: 2s\tremaining: 5.64s\n",
            "262:\tlearn: 0.3894022\ttotal: 2.01s\tremaining: 5.63s\n",
            "263:\tlearn: 0.3892675\ttotal: 2.02s\tremaining: 5.63s\n",
            "264:\tlearn: 0.3889852\ttotal: 2.03s\tremaining: 5.63s\n",
            "265:\tlearn: 0.3888687\ttotal: 2.04s\tremaining: 5.62s\n",
            "266:\tlearn: 0.3887509\ttotal: 2.04s\tremaining: 5.61s\n",
            "267:\tlearn: 0.3886198\ttotal: 2.05s\tremaining: 5.61s\n",
            "268:\tlearn: 0.3884810\ttotal: 2.06s\tremaining: 5.6s\n",
            "269:\tlearn: 0.3882976\ttotal: 2.07s\tremaining: 5.59s\n",
            "270:\tlearn: 0.3882141\ttotal: 2.08s\tremaining: 5.58s\n",
            "271:\tlearn: 0.3880825\ttotal: 2.08s\tremaining: 5.57s\n",
            "272:\tlearn: 0.3879366\ttotal: 2.09s\tremaining: 5.57s\n",
            "273:\tlearn: 0.3878034\ttotal: 2.1s\tremaining: 5.56s\n",
            "274:\tlearn: 0.3876551\ttotal: 2.1s\tremaining: 5.55s\n",
            "275:\tlearn: 0.3874926\ttotal: 2.11s\tremaining: 5.54s\n",
            "276:\tlearn: 0.3872475\ttotal: 2.12s\tremaining: 5.54s\n",
            "277:\tlearn: 0.3871556\ttotal: 2.13s\tremaining: 5.53s\n",
            "278:\tlearn: 0.3870093\ttotal: 2.13s\tremaining: 5.52s\n",
            "279:\tlearn: 0.3868856\ttotal: 2.14s\tremaining: 5.51s\n",
            "280:\tlearn: 0.3867174\ttotal: 2.15s\tremaining: 5.5s\n",
            "281:\tlearn: 0.3865310\ttotal: 2.16s\tremaining: 5.49s\n",
            "282:\tlearn: 0.3863657\ttotal: 2.16s\tremaining: 5.49s\n",
            "283:\tlearn: 0.3860972\ttotal: 2.17s\tremaining: 5.48s\n",
            "284:\tlearn: 0.3859671\ttotal: 2.18s\tremaining: 5.47s\n",
            "285:\tlearn: 0.3857956\ttotal: 2.19s\tremaining: 5.46s\n",
            "286:\tlearn: 0.3856602\ttotal: 2.19s\tremaining: 5.45s\n",
            "287:\tlearn: 0.3854474\ttotal: 2.2s\tremaining: 5.44s\n",
            "288:\tlearn: 0.3853546\ttotal: 2.21s\tremaining: 5.43s\n",
            "289:\tlearn: 0.3851021\ttotal: 2.22s\tremaining: 5.44s\n",
            "290:\tlearn: 0.3849610\ttotal: 2.23s\tremaining: 5.43s\n",
            "291:\tlearn: 0.3848290\ttotal: 2.24s\tremaining: 5.42s\n",
            "292:\tlearn: 0.3847349\ttotal: 2.24s\tremaining: 5.42s\n",
            "293:\tlearn: 0.3845380\ttotal: 2.25s\tremaining: 5.41s\n",
            "294:\tlearn: 0.3843891\ttotal: 2.26s\tremaining: 5.4s\n",
            "295:\tlearn: 0.3842733\ttotal: 2.27s\tremaining: 5.39s\n",
            "296:\tlearn: 0.3841873\ttotal: 2.28s\tremaining: 5.4s\n",
            "297:\tlearn: 0.3840317\ttotal: 2.29s\tremaining: 5.39s\n",
            "298:\tlearn: 0.3838153\ttotal: 2.3s\tremaining: 5.38s\n",
            "299:\tlearn: 0.3837019\ttotal: 2.3s\tremaining: 5.38s\n",
            "300:\tlearn: 0.3835960\ttotal: 2.31s\tremaining: 5.37s\n",
            "301:\tlearn: 0.3834411\ttotal: 2.32s\tremaining: 5.36s\n",
            "302:\tlearn: 0.3832930\ttotal: 2.33s\tremaining: 5.35s\n",
            "303:\tlearn: 0.3831404\ttotal: 2.33s\tremaining: 5.34s\n",
            "304:\tlearn: 0.3829748\ttotal: 2.34s\tremaining: 5.33s\n",
            "305:\tlearn: 0.3828523\ttotal: 2.35s\tremaining: 5.33s\n",
            "306:\tlearn: 0.3827927\ttotal: 2.35s\tremaining: 5.32s\n",
            "307:\tlearn: 0.3826189\ttotal: 2.36s\tremaining: 5.31s\n",
            "308:\tlearn: 0.3825053\ttotal: 2.37s\tremaining: 5.3s\n",
            "309:\tlearn: 0.3823288\ttotal: 2.38s\tremaining: 5.29s\n",
            "310:\tlearn: 0.3822135\ttotal: 2.38s\tremaining: 5.28s\n",
            "311:\tlearn: 0.3820940\ttotal: 2.39s\tremaining: 5.27s\n",
            "312:\tlearn: 0.3819952\ttotal: 2.4s\tremaining: 5.27s\n",
            "313:\tlearn: 0.3818653\ttotal: 2.41s\tremaining: 5.26s\n",
            "314:\tlearn: 0.3817841\ttotal: 2.41s\tremaining: 5.25s\n",
            "315:\tlearn: 0.3816100\ttotal: 2.42s\tremaining: 5.25s\n",
            "316:\tlearn: 0.3815144\ttotal: 2.43s\tremaining: 5.24s\n",
            "317:\tlearn: 0.3813695\ttotal: 2.44s\tremaining: 5.23s\n",
            "318:\tlearn: 0.3812559\ttotal: 2.45s\tremaining: 5.22s\n",
            "319:\tlearn: 0.3811240\ttotal: 2.45s\tremaining: 5.22s\n",
            "320:\tlearn: 0.3809833\ttotal: 2.46s\tremaining: 5.21s\n",
            "321:\tlearn: 0.3808916\ttotal: 2.47s\tremaining: 5.2s\n",
            "322:\tlearn: 0.3807604\ttotal: 2.48s\tremaining: 5.2s\n",
            "323:\tlearn: 0.3806694\ttotal: 2.49s\tremaining: 5.19s\n",
            "324:\tlearn: 0.3805953\ttotal: 2.49s\tremaining: 5.18s\n",
            "325:\tlearn: 0.3804676\ttotal: 2.5s\tremaining: 5.17s\n",
            "326:\tlearn: 0.3803743\ttotal: 2.51s\tremaining: 5.16s\n",
            "327:\tlearn: 0.3802483\ttotal: 2.52s\tremaining: 5.15s\n",
            "328:\tlearn: 0.3801542\ttotal: 2.52s\tremaining: 5.14s\n",
            "329:\tlearn: 0.3800504\ttotal: 2.53s\tremaining: 5.14s\n",
            "330:\tlearn: 0.3799621\ttotal: 2.54s\tremaining: 5.13s\n",
            "331:\tlearn: 0.3798279\ttotal: 2.54s\tremaining: 5.12s\n",
            "332:\tlearn: 0.3796926\ttotal: 2.55s\tremaining: 5.11s\n",
            "333:\tlearn: 0.3796280\ttotal: 2.56s\tremaining: 5.1s\n",
            "334:\tlearn: 0.3795165\ttotal: 2.57s\tremaining: 5.09s\n",
            "335:\tlearn: 0.3793374\ttotal: 2.57s\tremaining: 5.09s\n",
            "336:\tlearn: 0.3792881\ttotal: 2.58s\tremaining: 5.08s\n",
            "337:\tlearn: 0.3791696\ttotal: 2.59s\tremaining: 5.07s\n",
            "338:\tlearn: 0.3790386\ttotal: 2.6s\tremaining: 5.06s\n",
            "339:\tlearn: 0.3789126\ttotal: 2.6s\tremaining: 5.05s\n",
            "340:\tlearn: 0.3788276\ttotal: 2.61s\tremaining: 5.04s\n",
            "341:\tlearn: 0.3787197\ttotal: 2.62s\tremaining: 5.04s\n",
            "342:\tlearn: 0.3785859\ttotal: 2.63s\tremaining: 5.04s\n",
            "343:\tlearn: 0.3784844\ttotal: 2.64s\tremaining: 5.03s\n",
            "344:\tlearn: 0.3783802\ttotal: 2.64s\tremaining: 5.02s\n",
            "345:\tlearn: 0.3782473\ttotal: 2.65s\tremaining: 5.01s\n",
            "346:\tlearn: 0.3781710\ttotal: 2.66s\tremaining: 5s\n",
            "347:\tlearn: 0.3780956\ttotal: 2.67s\tremaining: 4.99s\n",
            "348:\tlearn: 0.3780161\ttotal: 2.67s\tremaining: 4.99s\n",
            "349:\tlearn: 0.3779211\ttotal: 2.68s\tremaining: 4.98s\n",
            "350:\tlearn: 0.3778207\ttotal: 2.69s\tremaining: 4.97s\n",
            "351:\tlearn: 0.3777132\ttotal: 2.7s\tremaining: 4.96s\n",
            "352:\tlearn: 0.3775829\ttotal: 2.7s\tremaining: 4.96s\n",
            "353:\tlearn: 0.3774487\ttotal: 2.71s\tremaining: 4.95s\n",
            "354:\tlearn: 0.3773428\ttotal: 2.72s\tremaining: 4.94s\n",
            "355:\tlearn: 0.3772304\ttotal: 2.73s\tremaining: 4.93s\n",
            "356:\tlearn: 0.3770396\ttotal: 2.73s\tremaining: 4.92s\n",
            "357:\tlearn: 0.3769068\ttotal: 2.74s\tremaining: 4.92s\n",
            "358:\tlearn: 0.3768030\ttotal: 2.75s\tremaining: 4.91s\n",
            "359:\tlearn: 0.3767279\ttotal: 2.75s\tremaining: 4.9s\n",
            "360:\tlearn: 0.3766580\ttotal: 2.76s\tremaining: 4.89s\n",
            "361:\tlearn: 0.3765437\ttotal: 2.77s\tremaining: 4.88s\n",
            "362:\tlearn: 0.3764295\ttotal: 2.78s\tremaining: 4.87s\n",
            "363:\tlearn: 0.3763540\ttotal: 2.78s\tremaining: 4.86s\n",
            "364:\tlearn: 0.3762245\ttotal: 2.79s\tremaining: 4.86s\n",
            "365:\tlearn: 0.3761446\ttotal: 2.8s\tremaining: 4.85s\n",
            "366:\tlearn: 0.3760387\ttotal: 2.81s\tremaining: 4.84s\n",
            "367:\tlearn: 0.3759408\ttotal: 2.81s\tremaining: 4.83s\n",
            "368:\tlearn: 0.3758830\ttotal: 2.82s\tremaining: 4.82s\n",
            "369:\tlearn: 0.3758148\ttotal: 2.83s\tremaining: 4.82s\n",
            "370:\tlearn: 0.3757269\ttotal: 2.84s\tremaining: 4.82s\n",
            "371:\tlearn: 0.3755838\ttotal: 2.85s\tremaining: 4.81s\n",
            "372:\tlearn: 0.3754158\ttotal: 2.85s\tremaining: 4.8s\n",
            "373:\tlearn: 0.3752887\ttotal: 2.86s\tremaining: 4.79s\n",
            "374:\tlearn: 0.3751504\ttotal: 2.87s\tremaining: 4.79s\n",
            "375:\tlearn: 0.3750266\ttotal: 2.88s\tremaining: 4.78s\n",
            "376:\tlearn: 0.3749810\ttotal: 2.89s\tremaining: 4.77s\n",
            "377:\tlearn: 0.3748627\ttotal: 2.9s\tremaining: 4.76s\n",
            "378:\tlearn: 0.3747340\ttotal: 2.9s\tremaining: 4.76s\n",
            "379:\tlearn: 0.3745903\ttotal: 2.91s\tremaining: 4.75s\n",
            "380:\tlearn: 0.3744793\ttotal: 2.92s\tremaining: 4.74s\n",
            "381:\tlearn: 0.3743778\ttotal: 2.93s\tremaining: 4.73s\n",
            "382:\tlearn: 0.3743214\ttotal: 2.93s\tremaining: 4.72s\n",
            "383:\tlearn: 0.3742166\ttotal: 2.94s\tremaining: 4.72s\n",
            "384:\tlearn: 0.3740847\ttotal: 2.95s\tremaining: 4.71s\n",
            "385:\tlearn: 0.3739667\ttotal: 2.96s\tremaining: 4.7s\n",
            "386:\tlearn: 0.3738461\ttotal: 2.96s\tremaining: 4.69s\n",
            "387:\tlearn: 0.3737582\ttotal: 2.97s\tremaining: 4.68s\n",
            "388:\tlearn: 0.3737022\ttotal: 2.98s\tremaining: 4.68s\n",
            "389:\tlearn: 0.3736077\ttotal: 2.98s\tremaining: 4.67s\n",
            "390:\tlearn: 0.3735023\ttotal: 2.99s\tremaining: 4.66s\n",
            "391:\tlearn: 0.3733863\ttotal: 3s\tremaining: 4.65s\n",
            "392:\tlearn: 0.3733327\ttotal: 3.01s\tremaining: 4.64s\n",
            "393:\tlearn: 0.3732878\ttotal: 3.02s\tremaining: 4.65s\n",
            "394:\tlearn: 0.3732007\ttotal: 3.03s\tremaining: 4.64s\n",
            "395:\tlearn: 0.3730910\ttotal: 3.04s\tremaining: 4.64s\n",
            "396:\tlearn: 0.3729048\ttotal: 3.05s\tremaining: 4.63s\n",
            "397:\tlearn: 0.3727888\ttotal: 3.05s\tremaining: 4.62s\n",
            "398:\tlearn: 0.3727054\ttotal: 3.06s\tremaining: 4.61s\n",
            "399:\tlearn: 0.3726008\ttotal: 3.07s\tremaining: 4.6s\n",
            "400:\tlearn: 0.3725080\ttotal: 3.08s\tremaining: 4.59s\n",
            "401:\tlearn: 0.3724184\ttotal: 3.08s\tremaining: 4.59s\n",
            "402:\tlearn: 0.3722585\ttotal: 3.09s\tremaining: 4.58s\n",
            "403:\tlearn: 0.3721954\ttotal: 3.1s\tremaining: 4.57s\n",
            "404:\tlearn: 0.3720919\ttotal: 3.11s\tremaining: 4.57s\n",
            "405:\tlearn: 0.3719952\ttotal: 3.12s\tremaining: 4.56s\n",
            "406:\tlearn: 0.3719268\ttotal: 3.12s\tremaining: 4.55s\n",
            "407:\tlearn: 0.3717900\ttotal: 3.13s\tremaining: 4.54s\n",
            "408:\tlearn: 0.3717271\ttotal: 3.14s\tremaining: 4.53s\n",
            "409:\tlearn: 0.3716747\ttotal: 3.14s\tremaining: 4.53s\n",
            "410:\tlearn: 0.3715801\ttotal: 3.15s\tremaining: 4.52s\n",
            "411:\tlearn: 0.3715222\ttotal: 3.16s\tremaining: 4.51s\n",
            "412:\tlearn: 0.3714196\ttotal: 3.17s\tremaining: 4.5s\n",
            "413:\tlearn: 0.3713306\ttotal: 3.17s\tremaining: 4.49s\n",
            "414:\tlearn: 0.3712705\ttotal: 3.18s\tremaining: 4.48s\n",
            "415:\tlearn: 0.3712013\ttotal: 3.19s\tremaining: 4.47s\n",
            "416:\tlearn: 0.3711288\ttotal: 3.19s\tremaining: 4.47s\n",
            "417:\tlearn: 0.3710416\ttotal: 3.2s\tremaining: 4.46s\n",
            "418:\tlearn: 0.3709294\ttotal: 3.21s\tremaining: 4.45s\n",
            "419:\tlearn: 0.3708444\ttotal: 3.22s\tremaining: 4.44s\n",
            "420:\tlearn: 0.3707373\ttotal: 3.22s\tremaining: 4.43s\n",
            "421:\tlearn: 0.3706265\ttotal: 3.23s\tremaining: 4.43s\n",
            "422:\tlearn: 0.3705113\ttotal: 3.24s\tremaining: 4.42s\n",
            "423:\tlearn: 0.3704717\ttotal: 3.25s\tremaining: 4.41s\n",
            "424:\tlearn: 0.3703701\ttotal: 3.26s\tremaining: 4.41s\n",
            "425:\tlearn: 0.3702484\ttotal: 3.27s\tremaining: 4.4s\n",
            "426:\tlearn: 0.3701507\ttotal: 3.27s\tremaining: 4.39s\n",
            "427:\tlearn: 0.3700786\ttotal: 3.28s\tremaining: 4.39s\n",
            "428:\tlearn: 0.3699585\ttotal: 3.29s\tremaining: 4.38s\n",
            "429:\tlearn: 0.3699007\ttotal: 3.3s\tremaining: 4.37s\n",
            "430:\tlearn: 0.3698236\ttotal: 3.3s\tremaining: 4.36s\n",
            "431:\tlearn: 0.3696823\ttotal: 3.31s\tremaining: 4.35s\n",
            "432:\tlearn: 0.3696442\ttotal: 3.32s\tremaining: 4.35s\n",
            "433:\tlearn: 0.3696053\ttotal: 3.33s\tremaining: 4.34s\n",
            "434:\tlearn: 0.3695475\ttotal: 3.34s\tremaining: 4.33s\n",
            "435:\tlearn: 0.3694312\ttotal: 3.34s\tremaining: 4.33s\n",
            "436:\tlearn: 0.3694065\ttotal: 3.35s\tremaining: 4.32s\n",
            "437:\tlearn: 0.3693053\ttotal: 3.36s\tremaining: 4.31s\n",
            "438:\tlearn: 0.3692006\ttotal: 3.37s\tremaining: 4.3s\n",
            "439:\tlearn: 0.3691387\ttotal: 3.37s\tremaining: 4.29s\n",
            "440:\tlearn: 0.3690368\ttotal: 3.38s\tremaining: 4.29s\n",
            "441:\tlearn: 0.3688623\ttotal: 3.39s\tremaining: 4.28s\n",
            "442:\tlearn: 0.3687852\ttotal: 3.4s\tremaining: 4.27s\n",
            "443:\tlearn: 0.3686869\ttotal: 3.4s\tremaining: 4.26s\n",
            "444:\tlearn: 0.3685834\ttotal: 3.41s\tremaining: 4.25s\n",
            "445:\tlearn: 0.3684856\ttotal: 3.42s\tremaining: 4.25s\n",
            "446:\tlearn: 0.3683893\ttotal: 3.42s\tremaining: 4.24s\n",
            "447:\tlearn: 0.3683341\ttotal: 3.44s\tremaining: 4.23s\n",
            "448:\tlearn: 0.3682350\ttotal: 3.44s\tremaining: 4.22s\n",
            "449:\tlearn: 0.3681583\ttotal: 3.45s\tremaining: 4.22s\n",
            "450:\tlearn: 0.3680649\ttotal: 3.46s\tremaining: 4.21s\n",
            "451:\tlearn: 0.3679671\ttotal: 3.46s\tremaining: 4.2s\n",
            "452:\tlearn: 0.3679124\ttotal: 3.47s\tremaining: 4.19s\n",
            "453:\tlearn: 0.3678699\ttotal: 3.48s\tremaining: 4.18s\n",
            "454:\tlearn: 0.3677916\ttotal: 3.49s\tremaining: 4.18s\n",
            "455:\tlearn: 0.3677275\ttotal: 3.49s\tremaining: 4.17s\n",
            "456:\tlearn: 0.3676008\ttotal: 3.5s\tremaining: 4.16s\n",
            "457:\tlearn: 0.3675527\ttotal: 3.51s\tremaining: 4.15s\n",
            "458:\tlearn: 0.3674436\ttotal: 3.51s\tremaining: 4.14s\n",
            "459:\tlearn: 0.3673510\ttotal: 3.52s\tremaining: 4.14s\n",
            "460:\tlearn: 0.3672622\ttotal: 3.54s\tremaining: 4.14s\n",
            "461:\tlearn: 0.3671834\ttotal: 3.55s\tremaining: 4.14s\n",
            "462:\tlearn: 0.3671171\ttotal: 3.56s\tremaining: 4.13s\n",
            "463:\tlearn: 0.3670395\ttotal: 3.57s\tremaining: 4.12s\n",
            "464:\tlearn: 0.3669721\ttotal: 3.58s\tremaining: 4.11s\n",
            "465:\tlearn: 0.3669194\ttotal: 3.58s\tremaining: 4.11s\n",
            "466:\tlearn: 0.3668601\ttotal: 3.59s\tremaining: 4.1s\n",
            "467:\tlearn: 0.3667763\ttotal: 3.6s\tremaining: 4.09s\n",
            "468:\tlearn: 0.3666693\ttotal: 3.6s\tremaining: 4.08s\n",
            "469:\tlearn: 0.3665862\ttotal: 3.61s\tremaining: 4.07s\n",
            "470:\tlearn: 0.3665169\ttotal: 3.62s\tremaining: 4.07s\n",
            "471:\tlearn: 0.3664251\ttotal: 3.63s\tremaining: 4.06s\n",
            "472:\tlearn: 0.3663353\ttotal: 3.64s\tremaining: 4.05s\n",
            "473:\tlearn: 0.3662333\ttotal: 3.65s\tremaining: 4.05s\n",
            "474:\tlearn: 0.3661796\ttotal: 3.65s\tremaining: 4.04s\n",
            "475:\tlearn: 0.3661211\ttotal: 3.66s\tremaining: 4.03s\n",
            "476:\tlearn: 0.3660883\ttotal: 3.67s\tremaining: 4.02s\n",
            "477:\tlearn: 0.3660147\ttotal: 3.68s\tremaining: 4.01s\n",
            "478:\tlearn: 0.3659557\ttotal: 3.68s\tremaining: 4.01s\n",
            "479:\tlearn: 0.3658813\ttotal: 3.69s\tremaining: 4s\n",
            "480:\tlearn: 0.3658353\ttotal: 3.7s\tremaining: 3.99s\n",
            "481:\tlearn: 0.3657844\ttotal: 3.7s\tremaining: 3.98s\n",
            "482:\tlearn: 0.3657278\ttotal: 3.71s\tremaining: 3.97s\n",
            "483:\tlearn: 0.3656335\ttotal: 3.72s\tremaining: 3.96s\n",
            "484:\tlearn: 0.3655959\ttotal: 3.73s\tremaining: 3.96s\n",
            "485:\tlearn: 0.3655507\ttotal: 3.73s\tremaining: 3.95s\n",
            "486:\tlearn: 0.3654572\ttotal: 3.74s\tremaining: 3.94s\n",
            "487:\tlearn: 0.3654091\ttotal: 3.75s\tremaining: 3.93s\n",
            "488:\tlearn: 0.3653275\ttotal: 3.75s\tremaining: 3.92s\n",
            "489:\tlearn: 0.3652628\ttotal: 3.76s\tremaining: 3.91s\n",
            "490:\tlearn: 0.3651623\ttotal: 3.77s\tremaining: 3.91s\n",
            "491:\tlearn: 0.3651030\ttotal: 3.77s\tremaining: 3.9s\n",
            "492:\tlearn: 0.3650706\ttotal: 3.78s\tremaining: 3.89s\n",
            "493:\tlearn: 0.3650034\ttotal: 3.79s\tremaining: 3.88s\n",
            "494:\tlearn: 0.3648945\ttotal: 3.8s\tremaining: 3.87s\n",
            "495:\tlearn: 0.3647964\ttotal: 3.8s\tremaining: 3.86s\n",
            "496:\tlearn: 0.3647512\ttotal: 3.81s\tremaining: 3.86s\n",
            "497:\tlearn: 0.3646071\ttotal: 3.82s\tremaining: 3.85s\n",
            "498:\tlearn: 0.3645303\ttotal: 3.82s\tremaining: 3.84s\n",
            "499:\tlearn: 0.3644375\ttotal: 3.83s\tremaining: 3.83s\n",
            "500:\tlearn: 0.3643807\ttotal: 3.84s\tremaining: 3.83s\n",
            "501:\tlearn: 0.3642707\ttotal: 3.85s\tremaining: 3.82s\n",
            "502:\tlearn: 0.3642020\ttotal: 3.86s\tremaining: 3.81s\n",
            "503:\tlearn: 0.3641256\ttotal: 3.86s\tremaining: 3.8s\n",
            "504:\tlearn: 0.3640437\ttotal: 3.87s\tremaining: 3.79s\n",
            "505:\tlearn: 0.3639835\ttotal: 3.88s\tremaining: 3.79s\n",
            "506:\tlearn: 0.3638773\ttotal: 3.89s\tremaining: 3.78s\n",
            "507:\tlearn: 0.3638150\ttotal: 3.9s\tremaining: 3.77s\n",
            "508:\tlearn: 0.3637681\ttotal: 3.9s\tremaining: 3.76s\n",
            "509:\tlearn: 0.3637161\ttotal: 3.91s\tremaining: 3.75s\n",
            "510:\tlearn: 0.3636583\ttotal: 3.92s\tremaining: 3.75s\n",
            "511:\tlearn: 0.3635736\ttotal: 3.92s\tremaining: 3.74s\n",
            "512:\tlearn: 0.3634699\ttotal: 3.93s\tremaining: 3.73s\n",
            "513:\tlearn: 0.3634098\ttotal: 3.94s\tremaining: 3.72s\n",
            "514:\tlearn: 0.3633120\ttotal: 3.94s\tremaining: 3.71s\n",
            "515:\tlearn: 0.3632229\ttotal: 3.95s\tremaining: 3.71s\n",
            "516:\tlearn: 0.3631726\ttotal: 3.96s\tremaining: 3.7s\n",
            "517:\tlearn: 0.3630789\ttotal: 3.97s\tremaining: 3.69s\n",
            "518:\tlearn: 0.3629554\ttotal: 3.97s\tremaining: 3.68s\n",
            "519:\tlearn: 0.3629083\ttotal: 3.98s\tremaining: 3.67s\n",
            "520:\tlearn: 0.3628370\ttotal: 3.99s\tremaining: 3.67s\n",
            "521:\tlearn: 0.3627410\ttotal: 4s\tremaining: 3.66s\n",
            "522:\tlearn: 0.3626425\ttotal: 4s\tremaining: 3.65s\n",
            "523:\tlearn: 0.3625984\ttotal: 4.01s\tremaining: 3.64s\n",
            "524:\tlearn: 0.3625048\ttotal: 4.02s\tremaining: 3.63s\n",
            "525:\tlearn: 0.3624293\ttotal: 4.02s\tremaining: 3.63s\n",
            "526:\tlearn: 0.3623364\ttotal: 4.03s\tremaining: 3.62s\n",
            "527:\tlearn: 0.3622138\ttotal: 4.04s\tremaining: 3.61s\n",
            "528:\tlearn: 0.3621306\ttotal: 4.05s\tremaining: 3.61s\n",
            "529:\tlearn: 0.3621038\ttotal: 4.06s\tremaining: 3.6s\n",
            "530:\tlearn: 0.3620409\ttotal: 4.07s\tremaining: 3.59s\n",
            "531:\tlearn: 0.3619566\ttotal: 4.07s\tremaining: 3.58s\n",
            "532:\tlearn: 0.3619018\ttotal: 4.08s\tremaining: 3.57s\n",
            "533:\tlearn: 0.3618216\ttotal: 4.09s\tremaining: 3.57s\n",
            "534:\tlearn: 0.3617356\ttotal: 4.09s\tremaining: 3.56s\n",
            "535:\tlearn: 0.3616207\ttotal: 4.1s\tremaining: 3.55s\n",
            "536:\tlearn: 0.3615805\ttotal: 4.11s\tremaining: 3.54s\n",
            "537:\tlearn: 0.3614809\ttotal: 4.12s\tremaining: 3.53s\n",
            "538:\tlearn: 0.3614155\ttotal: 4.12s\tremaining: 3.53s\n",
            "539:\tlearn: 0.3613446\ttotal: 4.13s\tremaining: 3.52s\n",
            "540:\tlearn: 0.3612467\ttotal: 4.14s\tremaining: 3.51s\n",
            "541:\tlearn: 0.3611661\ttotal: 4.14s\tremaining: 3.5s\n",
            "542:\tlearn: 0.3610890\ttotal: 4.15s\tremaining: 3.49s\n",
            "543:\tlearn: 0.3610285\ttotal: 4.16s\tremaining: 3.48s\n",
            "544:\tlearn: 0.3609837\ttotal: 4.17s\tremaining: 3.48s\n",
            "545:\tlearn: 0.3609150\ttotal: 4.17s\tremaining: 3.47s\n",
            "546:\tlearn: 0.3608696\ttotal: 4.18s\tremaining: 3.46s\n",
            "547:\tlearn: 0.3608012\ttotal: 4.19s\tremaining: 3.45s\n",
            "548:\tlearn: 0.3607511\ttotal: 4.19s\tremaining: 3.44s\n",
            "549:\tlearn: 0.3606943\ttotal: 4.2s\tremaining: 3.44s\n",
            "550:\tlearn: 0.3606545\ttotal: 4.21s\tremaining: 3.43s\n",
            "551:\tlearn: 0.3605924\ttotal: 4.21s\tremaining: 3.42s\n",
            "552:\tlearn: 0.3604898\ttotal: 4.22s\tremaining: 3.42s\n",
            "553:\tlearn: 0.3604432\ttotal: 4.23s\tremaining: 3.41s\n",
            "554:\tlearn: 0.3604014\ttotal: 4.25s\tremaining: 3.41s\n",
            "555:\tlearn: 0.3603221\ttotal: 4.26s\tremaining: 3.4s\n",
            "556:\tlearn: 0.3602835\ttotal: 4.26s\tremaining: 3.39s\n",
            "557:\tlearn: 0.3602357\ttotal: 4.27s\tremaining: 3.38s\n",
            "558:\tlearn: 0.3601553\ttotal: 4.28s\tremaining: 3.38s\n",
            "559:\tlearn: 0.3600442\ttotal: 4.29s\tremaining: 3.37s\n",
            "560:\tlearn: 0.3599802\ttotal: 4.29s\tremaining: 3.36s\n",
            "561:\tlearn: 0.3598827\ttotal: 4.3s\tremaining: 3.35s\n",
            "562:\tlearn: 0.3598088\ttotal: 4.31s\tremaining: 3.34s\n",
            "563:\tlearn: 0.3597723\ttotal: 4.32s\tremaining: 3.34s\n",
            "564:\tlearn: 0.3596737\ttotal: 4.33s\tremaining: 3.33s\n",
            "565:\tlearn: 0.3596142\ttotal: 4.33s\tremaining: 3.32s\n",
            "566:\tlearn: 0.3595293\ttotal: 4.34s\tremaining: 3.31s\n",
            "567:\tlearn: 0.3593999\ttotal: 4.35s\tremaining: 3.31s\n",
            "568:\tlearn: 0.3593330\ttotal: 4.36s\tremaining: 3.3s\n",
            "569:\tlearn: 0.3592212\ttotal: 4.36s\tremaining: 3.29s\n",
            "570:\tlearn: 0.3591089\ttotal: 4.37s\tremaining: 3.28s\n",
            "571:\tlearn: 0.3590132\ttotal: 4.38s\tremaining: 3.27s\n",
            "572:\tlearn: 0.3589688\ttotal: 4.38s\tremaining: 3.27s\n",
            "573:\tlearn: 0.3588899\ttotal: 4.39s\tremaining: 3.26s\n",
            "574:\tlearn: 0.3588468\ttotal: 4.4s\tremaining: 3.25s\n",
            "575:\tlearn: 0.3588132\ttotal: 4.41s\tremaining: 3.24s\n",
            "576:\tlearn: 0.3587012\ttotal: 4.41s\tremaining: 3.23s\n",
            "577:\tlearn: 0.3586274\ttotal: 4.42s\tremaining: 3.23s\n",
            "578:\tlearn: 0.3585595\ttotal: 4.43s\tremaining: 3.22s\n",
            "579:\tlearn: 0.3584658\ttotal: 4.43s\tremaining: 3.21s\n",
            "580:\tlearn: 0.3583982\ttotal: 4.44s\tremaining: 3.2s\n",
            "581:\tlearn: 0.3582987\ttotal: 4.45s\tremaining: 3.2s\n",
            "582:\tlearn: 0.3582407\ttotal: 4.46s\tremaining: 3.19s\n",
            "583:\tlearn: 0.3581715\ttotal: 4.46s\tremaining: 3.18s\n",
            "584:\tlearn: 0.3581095\ttotal: 4.47s\tremaining: 3.17s\n",
            "585:\tlearn: 0.3580177\ttotal: 4.48s\tremaining: 3.16s\n",
            "586:\tlearn: 0.3579777\ttotal: 4.49s\tremaining: 3.16s\n",
            "587:\tlearn: 0.3578911\ttotal: 4.49s\tremaining: 3.15s\n",
            "588:\tlearn: 0.3578082\ttotal: 4.5s\tremaining: 3.14s\n",
            "589:\tlearn: 0.3577482\ttotal: 4.51s\tremaining: 3.13s\n",
            "590:\tlearn: 0.3576588\ttotal: 4.51s\tremaining: 3.13s\n",
            "591:\tlearn: 0.3576004\ttotal: 4.52s\tremaining: 3.12s\n",
            "592:\tlearn: 0.3574873\ttotal: 4.53s\tremaining: 3.11s\n",
            "593:\tlearn: 0.3574372\ttotal: 4.54s\tremaining: 3.1s\n",
            "594:\tlearn: 0.3573422\ttotal: 4.54s\tremaining: 3.09s\n",
            "595:\tlearn: 0.3572900\ttotal: 4.55s\tremaining: 3.08s\n",
            "596:\tlearn: 0.3572441\ttotal: 4.56s\tremaining: 3.08s\n",
            "597:\tlearn: 0.3571854\ttotal: 4.57s\tremaining: 3.07s\n",
            "598:\tlearn: 0.3571206\ttotal: 4.57s\tremaining: 3.06s\n",
            "599:\tlearn: 0.3570253\ttotal: 4.58s\tremaining: 3.05s\n",
            "600:\tlearn: 0.3569625\ttotal: 4.59s\tremaining: 3.05s\n",
            "601:\tlearn: 0.3569172\ttotal: 4.6s\tremaining: 3.04s\n",
            "602:\tlearn: 0.3568542\ttotal: 4.6s\tremaining: 3.03s\n",
            "603:\tlearn: 0.3567592\ttotal: 4.61s\tremaining: 3.02s\n",
            "604:\tlearn: 0.3567031\ttotal: 4.62s\tremaining: 3.02s\n",
            "605:\tlearn: 0.3566532\ttotal: 4.63s\tremaining: 3.01s\n",
            "606:\tlearn: 0.3565751\ttotal: 4.63s\tremaining: 3s\n",
            "607:\tlearn: 0.3565181\ttotal: 4.64s\tremaining: 2.99s\n",
            "608:\tlearn: 0.3564123\ttotal: 4.65s\tremaining: 2.98s\n",
            "609:\tlearn: 0.3563744\ttotal: 4.66s\tremaining: 2.98s\n",
            "610:\tlearn: 0.3563127\ttotal: 4.67s\tremaining: 2.97s\n",
            "611:\tlearn: 0.3562342\ttotal: 4.67s\tremaining: 2.96s\n",
            "612:\tlearn: 0.3561395\ttotal: 4.68s\tremaining: 2.96s\n",
            "613:\tlearn: 0.3560160\ttotal: 4.69s\tremaining: 2.95s\n",
            "614:\tlearn: 0.3559696\ttotal: 4.7s\tremaining: 2.94s\n",
            "615:\tlearn: 0.3559236\ttotal: 4.7s\tremaining: 2.93s\n",
            "616:\tlearn: 0.3558730\ttotal: 4.71s\tremaining: 2.92s\n",
            "617:\tlearn: 0.3558008\ttotal: 4.72s\tremaining: 2.92s\n",
            "618:\tlearn: 0.3557765\ttotal: 4.72s\tremaining: 2.91s\n",
            "619:\tlearn: 0.3557010\ttotal: 4.73s\tremaining: 2.9s\n",
            "620:\tlearn: 0.3555926\ttotal: 4.74s\tremaining: 2.89s\n",
            "621:\tlearn: 0.3555660\ttotal: 4.75s\tremaining: 2.88s\n",
            "622:\tlearn: 0.3554821\ttotal: 4.75s\tremaining: 2.88s\n",
            "623:\tlearn: 0.3554205\ttotal: 4.76s\tremaining: 2.87s\n",
            "624:\tlearn: 0.3553536\ttotal: 4.77s\tremaining: 2.86s\n",
            "625:\tlearn: 0.3553122\ttotal: 4.78s\tremaining: 2.85s\n",
            "626:\tlearn: 0.3552336\ttotal: 4.78s\tremaining: 2.85s\n",
            "627:\tlearn: 0.3551585\ttotal: 4.79s\tremaining: 2.84s\n",
            "628:\tlearn: 0.3550775\ttotal: 4.8s\tremaining: 2.83s\n",
            "629:\tlearn: 0.3550128\ttotal: 4.8s\tremaining: 2.82s\n",
            "630:\tlearn: 0.3549197\ttotal: 4.81s\tremaining: 2.81s\n",
            "631:\tlearn: 0.3548623\ttotal: 4.82s\tremaining: 2.81s\n",
            "632:\tlearn: 0.3548191\ttotal: 4.83s\tremaining: 2.8s\n",
            "633:\tlearn: 0.3547762\ttotal: 4.84s\tremaining: 2.79s\n",
            "634:\tlearn: 0.3546985\ttotal: 4.85s\tremaining: 2.79s\n",
            "635:\tlearn: 0.3546221\ttotal: 4.86s\tremaining: 2.78s\n",
            "636:\tlearn: 0.3545805\ttotal: 4.87s\tremaining: 2.77s\n",
            "637:\tlearn: 0.3545028\ttotal: 4.88s\tremaining: 2.77s\n",
            "638:\tlearn: 0.3544599\ttotal: 4.88s\tremaining: 2.76s\n",
            "639:\tlearn: 0.3543989\ttotal: 4.89s\tremaining: 2.75s\n",
            "640:\tlearn: 0.3543062\ttotal: 4.9s\tremaining: 2.74s\n",
            "641:\tlearn: 0.3542194\ttotal: 4.9s\tremaining: 2.73s\n",
            "642:\tlearn: 0.3541556\ttotal: 4.91s\tremaining: 2.73s\n",
            "643:\tlearn: 0.3541056\ttotal: 4.92s\tremaining: 2.72s\n",
            "644:\tlearn: 0.3540793\ttotal: 4.92s\tremaining: 2.71s\n",
            "645:\tlearn: 0.3540374\ttotal: 4.93s\tremaining: 2.7s\n",
            "646:\tlearn: 0.3539608\ttotal: 4.94s\tremaining: 2.69s\n",
            "647:\tlearn: 0.3539128\ttotal: 4.95s\tremaining: 2.69s\n",
            "648:\tlearn: 0.3538315\ttotal: 4.95s\tremaining: 2.68s\n",
            "649:\tlearn: 0.3537848\ttotal: 4.96s\tremaining: 2.67s\n",
            "650:\tlearn: 0.3537041\ttotal: 4.97s\tremaining: 2.66s\n",
            "651:\tlearn: 0.3536338\ttotal: 4.97s\tremaining: 2.65s\n",
            "652:\tlearn: 0.3535616\ttotal: 4.98s\tremaining: 2.65s\n",
            "653:\tlearn: 0.3535112\ttotal: 4.99s\tremaining: 2.64s\n",
            "654:\tlearn: 0.3534511\ttotal: 5s\tremaining: 2.63s\n",
            "655:\tlearn: 0.3533759\ttotal: 5s\tremaining: 2.62s\n",
            "656:\tlearn: 0.3533095\ttotal: 5.01s\tremaining: 2.62s\n",
            "657:\tlearn: 0.3532681\ttotal: 5.02s\tremaining: 2.61s\n",
            "658:\tlearn: 0.3531785\ttotal: 5.02s\tremaining: 2.6s\n",
            "659:\tlearn: 0.3531160\ttotal: 5.03s\tremaining: 2.59s\n",
            "660:\tlearn: 0.3530685\ttotal: 5.04s\tremaining: 2.58s\n",
            "661:\tlearn: 0.3529966\ttotal: 5.05s\tremaining: 2.58s\n",
            "662:\tlearn: 0.3529027\ttotal: 5.05s\tremaining: 2.57s\n",
            "663:\tlearn: 0.3528466\ttotal: 5.07s\tremaining: 2.56s\n",
            "664:\tlearn: 0.3527663\ttotal: 5.07s\tremaining: 2.56s\n",
            "665:\tlearn: 0.3527129\ttotal: 5.08s\tremaining: 2.55s\n",
            "666:\tlearn: 0.3526505\ttotal: 5.09s\tremaining: 2.54s\n",
            "667:\tlearn: 0.3525882\ttotal: 5.09s\tremaining: 2.53s\n",
            "668:\tlearn: 0.3525287\ttotal: 5.1s\tremaining: 2.52s\n",
            "669:\tlearn: 0.3524768\ttotal: 5.11s\tremaining: 2.52s\n",
            "670:\tlearn: 0.3524011\ttotal: 5.12s\tremaining: 2.51s\n",
            "671:\tlearn: 0.3523484\ttotal: 5.12s\tremaining: 2.5s\n",
            "672:\tlearn: 0.3522879\ttotal: 5.13s\tremaining: 2.49s\n",
            "673:\tlearn: 0.3522189\ttotal: 5.14s\tremaining: 2.48s\n",
            "674:\tlearn: 0.3521362\ttotal: 5.14s\tremaining: 2.48s\n",
            "675:\tlearn: 0.3520625\ttotal: 5.15s\tremaining: 2.47s\n",
            "676:\tlearn: 0.3519707\ttotal: 5.16s\tremaining: 2.46s\n",
            "677:\tlearn: 0.3519085\ttotal: 5.17s\tremaining: 2.45s\n",
            "678:\tlearn: 0.3518272\ttotal: 5.17s\tremaining: 2.45s\n",
            "679:\tlearn: 0.3517715\ttotal: 5.18s\tremaining: 2.44s\n",
            "680:\tlearn: 0.3517122\ttotal: 5.19s\tremaining: 2.43s\n",
            "681:\tlearn: 0.3516806\ttotal: 5.2s\tremaining: 2.43s\n",
            "682:\tlearn: 0.3516097\ttotal: 5.22s\tremaining: 2.42s\n",
            "683:\tlearn: 0.3515308\ttotal: 5.24s\tremaining: 2.42s\n",
            "684:\tlearn: 0.3514520\ttotal: 5.25s\tremaining: 2.41s\n",
            "685:\tlearn: 0.3514067\ttotal: 5.26s\tremaining: 2.41s\n",
            "686:\tlearn: 0.3513476\ttotal: 5.27s\tremaining: 2.4s\n",
            "687:\tlearn: 0.3512785\ttotal: 5.28s\tremaining: 2.39s\n",
            "688:\tlearn: 0.3512202\ttotal: 5.29s\tremaining: 2.38s\n",
            "689:\tlearn: 0.3511633\ttotal: 5.29s\tremaining: 2.38s\n",
            "690:\tlearn: 0.3510821\ttotal: 5.3s\tremaining: 2.37s\n",
            "691:\tlearn: 0.3510476\ttotal: 5.31s\tremaining: 2.36s\n",
            "692:\tlearn: 0.3509843\ttotal: 5.32s\tremaining: 2.35s\n",
            "693:\tlearn: 0.3509060\ttotal: 5.32s\tremaining: 2.35s\n",
            "694:\tlearn: 0.3508644\ttotal: 5.33s\tremaining: 2.34s\n",
            "695:\tlearn: 0.3507697\ttotal: 5.34s\tremaining: 2.33s\n",
            "696:\tlearn: 0.3507127\ttotal: 5.35s\tremaining: 2.32s\n",
            "697:\tlearn: 0.3506299\ttotal: 5.35s\tremaining: 2.32s\n",
            "698:\tlearn: 0.3505375\ttotal: 5.36s\tremaining: 2.31s\n",
            "699:\tlearn: 0.3504780\ttotal: 5.37s\tremaining: 2.3s\n",
            "700:\tlearn: 0.3504366\ttotal: 5.38s\tremaining: 2.29s\n",
            "701:\tlearn: 0.3503440\ttotal: 5.38s\tremaining: 2.29s\n",
            "702:\tlearn: 0.3503000\ttotal: 5.39s\tremaining: 2.28s\n",
            "703:\tlearn: 0.3502423\ttotal: 5.4s\tremaining: 2.27s\n",
            "704:\tlearn: 0.3501482\ttotal: 5.41s\tremaining: 2.26s\n",
            "705:\tlearn: 0.3501054\ttotal: 5.42s\tremaining: 2.26s\n",
            "706:\tlearn: 0.3500552\ttotal: 5.42s\tremaining: 2.25s\n",
            "707:\tlearn: 0.3500120\ttotal: 5.43s\tremaining: 2.24s\n",
            "708:\tlearn: 0.3499185\ttotal: 5.44s\tremaining: 2.23s\n",
            "709:\tlearn: 0.3498774\ttotal: 5.45s\tremaining: 2.22s\n",
            "710:\tlearn: 0.3498398\ttotal: 5.45s\tremaining: 2.22s\n",
            "711:\tlearn: 0.3497735\ttotal: 5.46s\tremaining: 2.21s\n",
            "712:\tlearn: 0.3496839\ttotal: 5.47s\tremaining: 2.2s\n",
            "713:\tlearn: 0.3496062\ttotal: 5.48s\tremaining: 2.19s\n",
            "714:\tlearn: 0.3495546\ttotal: 5.49s\tremaining: 2.19s\n",
            "715:\tlearn: 0.3494585\ttotal: 5.49s\tremaining: 2.18s\n",
            "716:\tlearn: 0.3493952\ttotal: 5.5s\tremaining: 2.17s\n",
            "717:\tlearn: 0.3493569\ttotal: 5.51s\tremaining: 2.16s\n",
            "718:\tlearn: 0.3492665\ttotal: 5.51s\tremaining: 2.15s\n",
            "719:\tlearn: 0.3491756\ttotal: 5.52s\tremaining: 2.15s\n",
            "720:\tlearn: 0.3490984\ttotal: 5.53s\tremaining: 2.14s\n",
            "721:\tlearn: 0.3490463\ttotal: 5.54s\tremaining: 2.13s\n",
            "722:\tlearn: 0.3489646\ttotal: 5.54s\tremaining: 2.12s\n",
            "723:\tlearn: 0.3489398\ttotal: 5.55s\tremaining: 2.12s\n",
            "724:\tlearn: 0.3488615\ttotal: 5.56s\tremaining: 2.11s\n",
            "725:\tlearn: 0.3488098\ttotal: 5.57s\tremaining: 2.1s\n",
            "726:\tlearn: 0.3487155\ttotal: 5.58s\tremaining: 2.09s\n",
            "727:\tlearn: 0.3486493\ttotal: 5.58s\tremaining: 2.09s\n",
            "728:\tlearn: 0.3485943\ttotal: 5.59s\tremaining: 2.08s\n",
            "729:\tlearn: 0.3485246\ttotal: 5.6s\tremaining: 2.07s\n",
            "730:\tlearn: 0.3484847\ttotal: 5.61s\tremaining: 2.06s\n",
            "731:\tlearn: 0.3484606\ttotal: 5.61s\tremaining: 2.06s\n",
            "732:\tlearn: 0.3483850\ttotal: 5.62s\tremaining: 2.05s\n",
            "733:\tlearn: 0.3483411\ttotal: 5.63s\tremaining: 2.04s\n",
            "734:\tlearn: 0.3482856\ttotal: 5.63s\tremaining: 2.03s\n",
            "735:\tlearn: 0.3482052\ttotal: 5.64s\tremaining: 2.02s\n",
            "736:\tlearn: 0.3481456\ttotal: 5.65s\tremaining: 2.02s\n",
            "737:\tlearn: 0.3481165\ttotal: 5.66s\tremaining: 2.01s\n",
            "738:\tlearn: 0.3480230\ttotal: 5.67s\tremaining: 2s\n",
            "739:\tlearn: 0.3479454\ttotal: 5.68s\tremaining: 1.99s\n",
            "740:\tlearn: 0.3479023\ttotal: 5.68s\tremaining: 1.99s\n",
            "741:\tlearn: 0.3478427\ttotal: 5.69s\tremaining: 1.98s\n",
            "742:\tlearn: 0.3477834\ttotal: 5.7s\tremaining: 1.97s\n",
            "743:\tlearn: 0.3476901\ttotal: 5.71s\tremaining: 1.97s\n",
            "744:\tlearn: 0.3476069\ttotal: 5.72s\tremaining: 1.96s\n",
            "745:\tlearn: 0.3475421\ttotal: 5.73s\tremaining: 1.95s\n",
            "746:\tlearn: 0.3474927\ttotal: 5.74s\tremaining: 1.94s\n",
            "747:\tlearn: 0.3474357\ttotal: 5.75s\tremaining: 1.94s\n",
            "748:\tlearn: 0.3473794\ttotal: 5.75s\tremaining: 1.93s\n",
            "749:\tlearn: 0.3473347\ttotal: 5.76s\tremaining: 1.92s\n",
            "750:\tlearn: 0.3472877\ttotal: 5.77s\tremaining: 1.91s\n",
            "751:\tlearn: 0.3472135\ttotal: 5.78s\tremaining: 1.91s\n",
            "752:\tlearn: 0.3471748\ttotal: 5.79s\tremaining: 1.9s\n",
            "753:\tlearn: 0.3470957\ttotal: 5.79s\tremaining: 1.89s\n",
            "754:\tlearn: 0.3470608\ttotal: 5.8s\tremaining: 1.88s\n",
            "755:\tlearn: 0.3470172\ttotal: 5.81s\tremaining: 1.87s\n",
            "756:\tlearn: 0.3469702\ttotal: 5.82s\tremaining: 1.87s\n",
            "757:\tlearn: 0.3469233\ttotal: 5.82s\tremaining: 1.86s\n",
            "758:\tlearn: 0.3468807\ttotal: 5.83s\tremaining: 1.85s\n",
            "759:\tlearn: 0.3468437\ttotal: 5.84s\tremaining: 1.84s\n",
            "760:\tlearn: 0.3467585\ttotal: 5.85s\tremaining: 1.84s\n",
            "761:\tlearn: 0.3466714\ttotal: 5.85s\tremaining: 1.83s\n",
            "762:\tlearn: 0.3466151\ttotal: 5.86s\tremaining: 1.82s\n",
            "763:\tlearn: 0.3465812\ttotal: 5.87s\tremaining: 1.81s\n",
            "764:\tlearn: 0.3465239\ttotal: 5.88s\tremaining: 1.8s\n",
            "765:\tlearn: 0.3465007\ttotal: 5.89s\tremaining: 1.8s\n",
            "766:\tlearn: 0.3464540\ttotal: 5.9s\tremaining: 1.79s\n",
            "767:\tlearn: 0.3463803\ttotal: 5.91s\tremaining: 1.78s\n",
            "768:\tlearn: 0.3463092\ttotal: 5.92s\tremaining: 1.78s\n",
            "769:\tlearn: 0.3462620\ttotal: 5.92s\tremaining: 1.77s\n",
            "770:\tlearn: 0.3461897\ttotal: 5.93s\tremaining: 1.76s\n",
            "771:\tlearn: 0.3461144\ttotal: 5.94s\tremaining: 1.75s\n",
            "772:\tlearn: 0.3460817\ttotal: 5.95s\tremaining: 1.75s\n",
            "773:\tlearn: 0.3460359\ttotal: 5.95s\tremaining: 1.74s\n",
            "774:\tlearn: 0.3459173\ttotal: 5.96s\tremaining: 1.73s\n",
            "775:\tlearn: 0.3458875\ttotal: 5.97s\tremaining: 1.72s\n",
            "776:\tlearn: 0.3458181\ttotal: 5.97s\tremaining: 1.71s\n",
            "777:\tlearn: 0.3457612\ttotal: 5.98s\tremaining: 1.71s\n",
            "778:\tlearn: 0.3456908\ttotal: 5.99s\tremaining: 1.7s\n",
            "779:\tlearn: 0.3456226\ttotal: 6s\tremaining: 1.69s\n",
            "780:\tlearn: 0.3455833\ttotal: 6s\tremaining: 1.68s\n",
            "781:\tlearn: 0.3455138\ttotal: 6.01s\tremaining: 1.68s\n",
            "782:\tlearn: 0.3454830\ttotal: 6.02s\tremaining: 1.67s\n",
            "783:\tlearn: 0.3454235\ttotal: 6.03s\tremaining: 1.66s\n",
            "784:\tlearn: 0.3453553\ttotal: 6.03s\tremaining: 1.65s\n",
            "785:\tlearn: 0.3452717\ttotal: 6.04s\tremaining: 1.64s\n",
            "786:\tlearn: 0.3451790\ttotal: 6.05s\tremaining: 1.64s\n",
            "787:\tlearn: 0.3450955\ttotal: 6.05s\tremaining: 1.63s\n",
            "788:\tlearn: 0.3450626\ttotal: 6.06s\tremaining: 1.62s\n",
            "789:\tlearn: 0.3450461\ttotal: 6.07s\tremaining: 1.61s\n",
            "790:\tlearn: 0.3449632\ttotal: 6.08s\tremaining: 1.6s\n",
            "791:\tlearn: 0.3448854\ttotal: 6.09s\tremaining: 1.6s\n",
            "792:\tlearn: 0.3448308\ttotal: 6.1s\tremaining: 1.59s\n",
            "793:\tlearn: 0.3447874\ttotal: 6.1s\tremaining: 1.58s\n",
            "794:\tlearn: 0.3447198\ttotal: 6.11s\tremaining: 1.57s\n",
            "795:\tlearn: 0.3446562\ttotal: 6.12s\tremaining: 1.57s\n",
            "796:\tlearn: 0.3446001\ttotal: 6.13s\tremaining: 1.56s\n",
            "797:\tlearn: 0.3445677\ttotal: 6.13s\tremaining: 1.55s\n",
            "798:\tlearn: 0.3445211\ttotal: 6.14s\tremaining: 1.54s\n",
            "799:\tlearn: 0.3444714\ttotal: 6.15s\tremaining: 1.54s\n",
            "800:\tlearn: 0.3443772\ttotal: 6.16s\tremaining: 1.53s\n",
            "801:\tlearn: 0.3443189\ttotal: 6.16s\tremaining: 1.52s\n",
            "802:\tlearn: 0.3442492\ttotal: 6.17s\tremaining: 1.51s\n",
            "803:\tlearn: 0.3441845\ttotal: 6.18s\tremaining: 1.5s\n",
            "804:\tlearn: 0.3441018\ttotal: 6.18s\tremaining: 1.5s\n",
            "805:\tlearn: 0.3440252\ttotal: 6.19s\tremaining: 1.49s\n",
            "806:\tlearn: 0.3439863\ttotal: 6.2s\tremaining: 1.48s\n",
            "807:\tlearn: 0.3439408\ttotal: 6.21s\tremaining: 1.47s\n",
            "808:\tlearn: 0.3438946\ttotal: 6.21s\tremaining: 1.47s\n",
            "809:\tlearn: 0.3438238\ttotal: 6.22s\tremaining: 1.46s\n",
            "810:\tlearn: 0.3437349\ttotal: 6.24s\tremaining: 1.45s\n",
            "811:\tlearn: 0.3436586\ttotal: 6.24s\tremaining: 1.45s\n",
            "812:\tlearn: 0.3435952\ttotal: 6.25s\tremaining: 1.44s\n",
            "813:\tlearn: 0.3435180\ttotal: 6.26s\tremaining: 1.43s\n",
            "814:\tlearn: 0.3434719\ttotal: 6.26s\tremaining: 1.42s\n",
            "815:\tlearn: 0.3434287\ttotal: 6.27s\tremaining: 1.41s\n",
            "816:\tlearn: 0.3433482\ttotal: 6.28s\tremaining: 1.41s\n",
            "817:\tlearn: 0.3432957\ttotal: 6.29s\tremaining: 1.4s\n",
            "818:\tlearn: 0.3432633\ttotal: 6.3s\tremaining: 1.39s\n",
            "819:\tlearn: 0.3431601\ttotal: 6.31s\tremaining: 1.38s\n",
            "820:\tlearn: 0.3430965\ttotal: 6.31s\tremaining: 1.38s\n",
            "821:\tlearn: 0.3430352\ttotal: 6.32s\tremaining: 1.37s\n",
            "822:\tlearn: 0.3429904\ttotal: 6.33s\tremaining: 1.36s\n",
            "823:\tlearn: 0.3429120\ttotal: 6.34s\tremaining: 1.35s\n",
            "824:\tlearn: 0.3428685\ttotal: 6.34s\tremaining: 1.34s\n",
            "825:\tlearn: 0.3427816\ttotal: 6.35s\tremaining: 1.34s\n",
            "826:\tlearn: 0.3427382\ttotal: 6.36s\tremaining: 1.33s\n",
            "827:\tlearn: 0.3426854\ttotal: 6.36s\tremaining: 1.32s\n",
            "828:\tlearn: 0.3426424\ttotal: 6.37s\tremaining: 1.31s\n",
            "829:\tlearn: 0.3426095\ttotal: 6.38s\tremaining: 1.31s\n",
            "830:\tlearn: 0.3425528\ttotal: 6.38s\tremaining: 1.3s\n",
            "831:\tlearn: 0.3424961\ttotal: 6.39s\tremaining: 1.29s\n",
            "832:\tlearn: 0.3424402\ttotal: 6.4s\tremaining: 1.28s\n",
            "833:\tlearn: 0.3423747\ttotal: 6.41s\tremaining: 1.27s\n",
            "834:\tlearn: 0.3422933\ttotal: 6.41s\tremaining: 1.27s\n",
            "835:\tlearn: 0.3422564\ttotal: 6.42s\tremaining: 1.26s\n",
            "836:\tlearn: 0.3421866\ttotal: 6.43s\tremaining: 1.25s\n",
            "837:\tlearn: 0.3421152\ttotal: 6.43s\tremaining: 1.24s\n",
            "838:\tlearn: 0.3420891\ttotal: 6.44s\tremaining: 1.24s\n",
            "839:\tlearn: 0.3420191\ttotal: 6.45s\tremaining: 1.23s\n",
            "840:\tlearn: 0.3419873\ttotal: 6.46s\tremaining: 1.22s\n",
            "841:\tlearn: 0.3419057\ttotal: 6.46s\tremaining: 1.21s\n",
            "842:\tlearn: 0.3418468\ttotal: 6.47s\tremaining: 1.2s\n",
            "843:\tlearn: 0.3417933\ttotal: 6.48s\tremaining: 1.2s\n",
            "844:\tlearn: 0.3417095\ttotal: 6.48s\tremaining: 1.19s\n",
            "845:\tlearn: 0.3416563\ttotal: 6.49s\tremaining: 1.18s\n",
            "846:\tlearn: 0.3416192\ttotal: 6.5s\tremaining: 1.17s\n",
            "847:\tlearn: 0.3415200\ttotal: 6.51s\tremaining: 1.17s\n",
            "848:\tlearn: 0.3414286\ttotal: 6.51s\tremaining: 1.16s\n",
            "849:\tlearn: 0.3413591\ttotal: 6.52s\tremaining: 1.15s\n",
            "850:\tlearn: 0.3412918\ttotal: 6.53s\tremaining: 1.14s\n",
            "851:\tlearn: 0.3412022\ttotal: 6.54s\tremaining: 1.14s\n",
            "852:\tlearn: 0.3411303\ttotal: 6.54s\tremaining: 1.13s\n",
            "853:\tlearn: 0.3410518\ttotal: 6.55s\tremaining: 1.12s\n",
            "854:\tlearn: 0.3409988\ttotal: 6.56s\tremaining: 1.11s\n",
            "855:\tlearn: 0.3409699\ttotal: 6.57s\tremaining: 1.1s\n",
            "856:\tlearn: 0.3409094\ttotal: 6.57s\tremaining: 1.1s\n",
            "857:\tlearn: 0.3408644\ttotal: 6.58s\tremaining: 1.09s\n",
            "858:\tlearn: 0.3408080\ttotal: 6.59s\tremaining: 1.08s\n",
            "859:\tlearn: 0.3407262\ttotal: 6.6s\tremaining: 1.07s\n",
            "860:\tlearn: 0.3406327\ttotal: 6.6s\tremaining: 1.07s\n",
            "861:\tlearn: 0.3405958\ttotal: 6.61s\tremaining: 1.06s\n",
            "862:\tlearn: 0.3405063\ttotal: 6.62s\tremaining: 1.05s\n",
            "863:\tlearn: 0.3404587\ttotal: 6.62s\tremaining: 1.04s\n",
            "864:\tlearn: 0.3404025\ttotal: 6.63s\tremaining: 1.03s\n",
            "865:\tlearn: 0.3403358\ttotal: 6.64s\tremaining: 1.03s\n",
            "866:\tlearn: 0.3402660\ttotal: 6.64s\tremaining: 1.02s\n",
            "867:\tlearn: 0.3401949\ttotal: 6.65s\tremaining: 1.01s\n",
            "868:\tlearn: 0.3401135\ttotal: 6.66s\tremaining: 1s\n",
            "869:\tlearn: 0.3400414\ttotal: 6.67s\tremaining: 996ms\n",
            "870:\tlearn: 0.3399808\ttotal: 6.67s\tremaining: 988ms\n",
            "871:\tlearn: 0.3399219\ttotal: 6.68s\tremaining: 981ms\n",
            "872:\tlearn: 0.3398803\ttotal: 6.69s\tremaining: 973ms\n",
            "873:\tlearn: 0.3398205\ttotal: 6.7s\tremaining: 966ms\n",
            "874:\tlearn: 0.3397513\ttotal: 6.71s\tremaining: 958ms\n",
            "875:\tlearn: 0.3396806\ttotal: 6.71s\tremaining: 950ms\n",
            "876:\tlearn: 0.3396195\ttotal: 6.72s\tremaining: 943ms\n",
            "877:\tlearn: 0.3395540\ttotal: 6.73s\tremaining: 935ms\n",
            "878:\tlearn: 0.3395195\ttotal: 6.73s\tremaining: 927ms\n",
            "879:\tlearn: 0.3394637\ttotal: 6.74s\tremaining: 919ms\n",
            "880:\tlearn: 0.3394192\ttotal: 6.75s\tremaining: 911ms\n",
            "881:\tlearn: 0.3393560\ttotal: 6.75s\tremaining: 904ms\n",
            "882:\tlearn: 0.3392714\ttotal: 6.76s\tremaining: 896ms\n",
            "883:\tlearn: 0.3391917\ttotal: 6.77s\tremaining: 888ms\n",
            "884:\tlearn: 0.3391184\ttotal: 6.77s\tremaining: 880ms\n",
            "885:\tlearn: 0.3390501\ttotal: 6.78s\tremaining: 873ms\n",
            "886:\tlearn: 0.3390179\ttotal: 6.79s\tremaining: 865ms\n",
            "887:\tlearn: 0.3389627\ttotal: 6.8s\tremaining: 857ms\n",
            "888:\tlearn: 0.3389092\ttotal: 6.8s\tremaining: 849ms\n",
            "889:\tlearn: 0.3388141\ttotal: 6.81s\tremaining: 842ms\n",
            "890:\tlearn: 0.3387629\ttotal: 6.82s\tremaining: 834ms\n",
            "891:\tlearn: 0.3387157\ttotal: 6.82s\tremaining: 826ms\n",
            "892:\tlearn: 0.3386751\ttotal: 6.83s\tremaining: 819ms\n",
            "893:\tlearn: 0.3386474\ttotal: 6.84s\tremaining: 811ms\n",
            "894:\tlearn: 0.3385856\ttotal: 6.84s\tremaining: 803ms\n",
            "895:\tlearn: 0.3385159\ttotal: 6.85s\tremaining: 795ms\n",
            "896:\tlearn: 0.3384669\ttotal: 6.86s\tremaining: 788ms\n",
            "897:\tlearn: 0.3384116\ttotal: 6.87s\tremaining: 780ms\n",
            "898:\tlearn: 0.3383585\ttotal: 6.87s\tremaining: 772ms\n",
            "899:\tlearn: 0.3383008\ttotal: 6.88s\tremaining: 765ms\n",
            "900:\tlearn: 0.3382569\ttotal: 6.89s\tremaining: 757ms\n",
            "901:\tlearn: 0.3381987\ttotal: 6.89s\tremaining: 749ms\n",
            "902:\tlearn: 0.3381033\ttotal: 6.91s\tremaining: 742ms\n",
            "903:\tlearn: 0.3380486\ttotal: 6.91s\tremaining: 734ms\n",
            "904:\tlearn: 0.3379361\ttotal: 6.92s\tremaining: 726ms\n",
            "905:\tlearn: 0.3378785\ttotal: 6.93s\tremaining: 719ms\n",
            "906:\tlearn: 0.3378269\ttotal: 6.93s\tremaining: 711ms\n",
            "907:\tlearn: 0.3377542\ttotal: 6.94s\tremaining: 703ms\n",
            "908:\tlearn: 0.3376600\ttotal: 6.95s\tremaining: 696ms\n",
            "909:\tlearn: 0.3375722\ttotal: 6.96s\tremaining: 688ms\n",
            "910:\tlearn: 0.3375397\ttotal: 6.96s\tremaining: 680ms\n",
            "911:\tlearn: 0.3375045\ttotal: 6.97s\tremaining: 673ms\n",
            "912:\tlearn: 0.3374469\ttotal: 6.98s\tremaining: 665ms\n",
            "913:\tlearn: 0.3373826\ttotal: 6.98s\tremaining: 657ms\n",
            "914:\tlearn: 0.3373172\ttotal: 6.99s\tremaining: 649ms\n",
            "915:\tlearn: 0.3372655\ttotal: 7s\tremaining: 642ms\n",
            "916:\tlearn: 0.3372160\ttotal: 7s\tremaining: 634ms\n",
            "917:\tlearn: 0.3371598\ttotal: 7.01s\tremaining: 626ms\n",
            "918:\tlearn: 0.3371011\ttotal: 7.02s\tremaining: 619ms\n",
            "919:\tlearn: 0.3370270\ttotal: 7.03s\tremaining: 611ms\n",
            "920:\tlearn: 0.3369669\ttotal: 7.03s\tremaining: 603ms\n",
            "921:\tlearn: 0.3369169\ttotal: 7.04s\tremaining: 596ms\n",
            "922:\tlearn: 0.3368463\ttotal: 7.05s\tremaining: 588ms\n",
            "923:\tlearn: 0.3367729\ttotal: 7.05s\tremaining: 580ms\n",
            "924:\tlearn: 0.3367264\ttotal: 7.06s\tremaining: 573ms\n",
            "925:\tlearn: 0.3366902\ttotal: 7.07s\tremaining: 565ms\n",
            "926:\tlearn: 0.3366561\ttotal: 7.08s\tremaining: 557ms\n",
            "927:\tlearn: 0.3365944\ttotal: 7.08s\tremaining: 549ms\n",
            "928:\tlearn: 0.3365512\ttotal: 7.09s\tremaining: 542ms\n",
            "929:\tlearn: 0.3365105\ttotal: 7.1s\tremaining: 534ms\n",
            "930:\tlearn: 0.3364715\ttotal: 7.11s\tremaining: 527ms\n",
            "931:\tlearn: 0.3364237\ttotal: 7.11s\tremaining: 519ms\n",
            "932:\tlearn: 0.3363643\ttotal: 7.12s\tremaining: 511ms\n",
            "933:\tlearn: 0.3363252\ttotal: 7.13s\tremaining: 504ms\n",
            "934:\tlearn: 0.3362665\ttotal: 7.13s\tremaining: 496ms\n",
            "935:\tlearn: 0.3362110\ttotal: 7.14s\tremaining: 488ms\n",
            "936:\tlearn: 0.3361148\ttotal: 7.15s\tremaining: 481ms\n",
            "937:\tlearn: 0.3360556\ttotal: 7.16s\tremaining: 473ms\n",
            "938:\tlearn: 0.3360073\ttotal: 7.17s\tremaining: 465ms\n",
            "939:\tlearn: 0.3359508\ttotal: 7.17s\tremaining: 458ms\n",
            "940:\tlearn: 0.3359036\ttotal: 7.18s\tremaining: 450ms\n",
            "941:\tlearn: 0.3358493\ttotal: 7.18s\tremaining: 442ms\n",
            "942:\tlearn: 0.3357904\ttotal: 7.19s\tremaining: 435ms\n",
            "943:\tlearn: 0.3356990\ttotal: 7.21s\tremaining: 427ms\n",
            "944:\tlearn: 0.3356034\ttotal: 7.21s\tremaining: 420ms\n",
            "945:\tlearn: 0.3355463\ttotal: 7.22s\tremaining: 412ms\n",
            "946:\tlearn: 0.3354566\ttotal: 7.23s\tremaining: 405ms\n",
            "947:\tlearn: 0.3354160\ttotal: 7.24s\tremaining: 397ms\n",
            "948:\tlearn: 0.3353807\ttotal: 7.24s\tremaining: 389ms\n",
            "949:\tlearn: 0.3352927\ttotal: 7.25s\tremaining: 382ms\n",
            "950:\tlearn: 0.3352166\ttotal: 7.26s\tremaining: 374ms\n",
            "951:\tlearn: 0.3351615\ttotal: 7.26s\tremaining: 366ms\n",
            "952:\tlearn: 0.3351137\ttotal: 7.27s\tremaining: 359ms\n",
            "953:\tlearn: 0.3350539\ttotal: 7.28s\tremaining: 351ms\n",
            "954:\tlearn: 0.3350008\ttotal: 7.29s\tremaining: 343ms\n",
            "955:\tlearn: 0.3349366\ttotal: 7.29s\tremaining: 336ms\n",
            "956:\tlearn: 0.3348652\ttotal: 7.3s\tremaining: 328ms\n",
            "957:\tlearn: 0.3347911\ttotal: 7.31s\tremaining: 321ms\n",
            "958:\tlearn: 0.3347363\ttotal: 7.32s\tremaining: 313ms\n",
            "959:\tlearn: 0.3346708\ttotal: 7.33s\tremaining: 305ms\n",
            "960:\tlearn: 0.3346217\ttotal: 7.33s\tremaining: 298ms\n",
            "961:\tlearn: 0.3345648\ttotal: 7.34s\tremaining: 290ms\n",
            "962:\tlearn: 0.3345236\ttotal: 7.34s\tremaining: 282ms\n",
            "963:\tlearn: 0.3344625\ttotal: 7.35s\tremaining: 275ms\n",
            "964:\tlearn: 0.3343875\ttotal: 7.36s\tremaining: 267ms\n",
            "965:\tlearn: 0.3343396\ttotal: 7.37s\tremaining: 259ms\n",
            "966:\tlearn: 0.3342562\ttotal: 7.37s\tremaining: 252ms\n",
            "967:\tlearn: 0.3342032\ttotal: 7.38s\tremaining: 244ms\n",
            "968:\tlearn: 0.3341389\ttotal: 7.39s\tremaining: 236ms\n",
            "969:\tlearn: 0.3340627\ttotal: 7.39s\tremaining: 229ms\n",
            "970:\tlearn: 0.3339988\ttotal: 7.4s\tremaining: 221ms\n",
            "971:\tlearn: 0.3339299\ttotal: 7.41s\tremaining: 213ms\n",
            "972:\tlearn: 0.3338884\ttotal: 7.42s\tremaining: 206ms\n",
            "973:\tlearn: 0.3338442\ttotal: 7.42s\tremaining: 198ms\n",
            "974:\tlearn: 0.3337802\ttotal: 7.43s\tremaining: 191ms\n",
            "975:\tlearn: 0.3337407\ttotal: 7.44s\tremaining: 183ms\n",
            "976:\tlearn: 0.3336643\ttotal: 7.44s\tremaining: 175ms\n",
            "977:\tlearn: 0.3335574\ttotal: 7.45s\tremaining: 168ms\n",
            "978:\tlearn: 0.3335180\ttotal: 7.46s\tremaining: 160ms\n",
            "979:\tlearn: 0.3334689\ttotal: 7.46s\tremaining: 152ms\n",
            "980:\tlearn: 0.3334139\ttotal: 7.47s\tremaining: 145ms\n",
            "981:\tlearn: 0.3333295\ttotal: 7.48s\tremaining: 137ms\n",
            "982:\tlearn: 0.3332815\ttotal: 7.49s\tremaining: 129ms\n",
            "983:\tlearn: 0.3332208\ttotal: 7.49s\tremaining: 122ms\n",
            "984:\tlearn: 0.3331824\ttotal: 7.5s\tremaining: 114ms\n",
            "985:\tlearn: 0.3331250\ttotal: 7.51s\tremaining: 107ms\n",
            "986:\tlearn: 0.3330629\ttotal: 7.52s\tremaining: 99ms\n",
            "987:\tlearn: 0.3329989\ttotal: 7.53s\tremaining: 91.4ms\n",
            "988:\tlearn: 0.3329489\ttotal: 7.53s\tremaining: 83.8ms\n",
            "989:\tlearn: 0.3328781\ttotal: 7.54s\tremaining: 76.2ms\n",
            "990:\tlearn: 0.3328063\ttotal: 7.55s\tremaining: 68.5ms\n",
            "991:\tlearn: 0.3327516\ttotal: 7.56s\tremaining: 60.9ms\n",
            "992:\tlearn: 0.3327033\ttotal: 7.56s\tremaining: 53.3ms\n",
            "993:\tlearn: 0.3326320\ttotal: 7.57s\tremaining: 45.7ms\n",
            "994:\tlearn: 0.3325748\ttotal: 7.58s\tremaining: 38.1ms\n",
            "995:\tlearn: 0.3325060\ttotal: 7.58s\tremaining: 30.5ms\n",
            "996:\tlearn: 0.3324457\ttotal: 7.59s\tremaining: 22.8ms\n",
            "997:\tlearn: 0.3323939\ttotal: 7.6s\tremaining: 15.2ms\n",
            "998:\tlearn: 0.3323135\ttotal: 7.61s\tremaining: 7.61ms\n",
            "999:\tlearn: 0.3322281\ttotal: 7.61s\tremaining: 0us\n"
          ]
        },
        {
          "output_type": "execute_result",
          "data": {
            "text/plain": [
              "<catboost.core.CatBoostClassifier at 0x7faeaf7ba290>"
            ]
          },
          "metadata": {},
          "execution_count": 98
        }
      ]
    },
    {
      "cell_type": "code",
      "metadata": {
        "colab": {
          "base_uri": "https://localhost:8080/"
        },
        "id": "1SEMfiPTiWAQ",
        "outputId": "67bf2d51-855c-4417-8a81-6f2ebc681373"
      },
      "source": [
        "cat_sm_pred = cat_sm.predict(X_test)\n",
        "accuracy_score(y_test, cat_sm_pred)"
      ],
      "execution_count": 99,
      "outputs": [
        {
          "output_type": "execute_result",
          "data": {
            "text/plain": [
              "0.8023696682464455"
            ]
          },
          "metadata": {},
          "execution_count": 99
        }
      ]
    },
    {
      "cell_type": "code",
      "metadata": {
        "colab": {
          "base_uri": "https://localhost:8080/"
        },
        "id": "Y6ohMxaLlkb6",
        "outputId": "f1d7d3f6-5a48-4b30-cdc5-240ea37b21e9"
      },
      "source": [
        "print(f\"Accuracy score for Train data: {cat_sm.score(x_res,y_res.ravel())}\")\n",
        "print(f\"Accuracy Score for Test data: {accuracy_score(y_test, cat_sm_pred)}\")"
      ],
      "execution_count": 146,
      "outputs": [
        {
          "output_type": "stream",
          "name": "stdout",
          "text": [
            "Accuracy score for Train data: 0.8498432023611879\n",
            "Accuracy Score for Test data: 0.8023696682464455\n"
          ]
        }
      ]
    },
    {
      "cell_type": "code",
      "metadata": {
        "colab": {
          "base_uri": "https://localhost:8080/"
        },
        "id": "m8Op-zY3asoh",
        "outputId": "a2d80be9-eb82-4025-80cd-313690a99e42"
      },
      "source": [
        "print(classification_report(y_test,cat_sm_pred))"
      ],
      "execution_count": 101,
      "outputs": [
        {
          "output_type": "stream",
          "name": "stdout",
          "text": [
            "              precision    recall  f1-score   support\n",
            "\n",
            "           0       0.84      0.90      0.87      1549\n",
            "           1       0.66      0.54      0.59       561\n",
            "\n",
            "    accuracy                           0.80      2110\n",
            "   macro avg       0.75      0.72      0.73      2110\n",
            "weighted avg       0.79      0.80      0.80      2110\n",
            "\n"
          ]
        }
      ]
    },
    {
      "cell_type": "markdown",
      "metadata": {
        "id": "jXcLHsWlifdl"
      },
      "source": [
        "##LightGBM SMOTE"
      ]
    },
    {
      "cell_type": "code",
      "metadata": {
        "colab": {
          "base_uri": "https://localhost:8080/"
        },
        "id": "5vA2f0QCifdl",
        "outputId": "cc0d90c7-7973-436b-d872-8b02ae79445c"
      },
      "source": [
        "lgbm_sm = lgb.LGBMClassifier(random_state=2,learning_rate=0.01)\n",
        "lgbm_sm.fit(X_train, y_train)"
      ],
      "execution_count": 102,
      "outputs": [
        {
          "output_type": "execute_result",
          "data": {
            "text/plain": [
              "LGBMClassifier(boosting_type='gbdt', class_weight=None, colsample_bytree=1.0,\n",
              "               importance_type='split', learning_rate=0.01, max_depth=-1,\n",
              "               min_child_samples=20, min_child_weight=0.001, min_split_gain=0.0,\n",
              "               n_estimators=100, n_jobs=-1, num_leaves=31, objective=None,\n",
              "               random_state=2, reg_alpha=0.0, reg_lambda=0.0, silent=True,\n",
              "               subsample=1.0, subsample_for_bin=200000, subsample_freq=0)"
            ]
          },
          "metadata": {},
          "execution_count": 102
        }
      ]
    },
    {
      "cell_type": "code",
      "metadata": {
        "colab": {
          "base_uri": "https://localhost:8080/"
        },
        "id": "--K0YkA6ifdm",
        "outputId": "63ea24f8-aabd-47ce-f774-914469f5e927"
      },
      "source": [
        "lgbm_sm_pred = lgbm_sm.predict(X_test)\n",
        "accuracy_score(y_test, lgbm_sm_pred)"
      ],
      "execution_count": 103,
      "outputs": [
        {
          "output_type": "execute_result",
          "data": {
            "text/plain": [
              "0.7933649289099526"
            ]
          },
          "metadata": {},
          "execution_count": 103
        }
      ]
    },
    {
      "cell_type": "code",
      "metadata": {
        "colab": {
          "base_uri": "https://localhost:8080/"
        },
        "id": "Vik47IAwlpag",
        "outputId": "24d47069-4598-45ed-aaed-b607e554ff90"
      },
      "source": [
        "print(f\"Accuracy score for Train data: {lgbm_sm.score(x_res,y_res.ravel())}\")\n",
        "print(f\"Accuracy Score for Test data: {accuracy_score(y_test, lgbm_sm_pred)}\")"
      ],
      "execution_count": 147,
      "outputs": [
        {
          "output_type": "stream",
          "name": "stdout",
          "text": [
            "Accuracy score for Train data: 0.760560782143516\n",
            "Accuracy Score for Test data: 0.7933649289099526\n"
          ]
        }
      ]
    },
    {
      "cell_type": "code",
      "metadata": {
        "colab": {
          "base_uri": "https://localhost:8080/"
        },
        "id": "PYZfhT22ifdm",
        "outputId": "4037fed5-a473-4eb5-d12f-f2887810cec0"
      },
      "source": [
        "print(classification_report(y_test,lgbm_sm_pred))"
      ],
      "execution_count": 105,
      "outputs": [
        {
          "output_type": "stream",
          "name": "stdout",
          "text": [
            "              precision    recall  f1-score   support\n",
            "\n",
            "           0       0.80      0.96      0.87      1549\n",
            "           1       0.77      0.32      0.45       561\n",
            "\n",
            "    accuracy                           0.79      2110\n",
            "   macro avg       0.78      0.64      0.66      2110\n",
            "weighted avg       0.79      0.79      0.76      2110\n",
            "\n"
          ]
        }
      ]
    },
    {
      "cell_type": "code",
      "metadata": {
        "colab": {
          "base_uri": "https://localhost:8080/"
        },
        "id": "AVs0O16gJc5s",
        "outputId": "0600278f-7bb7-4207-9d73-fa3d108c3d36"
      },
      "source": [
        "print(classification_report(y_test,LR_smk_predictions))"
      ],
      "execution_count": 113,
      "outputs": [
        {
          "output_type": "stream",
          "name": "stdout",
          "text": [
            "              precision    recall  f1-score   support\n",
            "\n",
            "           0       0.91      0.76      0.83      1549\n",
            "           1       0.55      0.80      0.65       561\n",
            "\n",
            "    accuracy                           0.77      2110\n",
            "   macro avg       0.73      0.78      0.74      2110\n",
            "weighted avg       0.82      0.77      0.78      2110\n",
            "\n"
          ]
        }
      ]
    }
  ]
}